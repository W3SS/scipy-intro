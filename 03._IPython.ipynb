{
 "metadata": {
  "celltoolbar": "Slideshow",
  "name": "",
  "signature": "sha256:f66d5d067211b8cd9e529a137ad462da892fe8f7ae66340aa77a3e93e05a122a"
 },
 "nbformat": 3,
 "nbformat_minor": 0,
 "worksheets": [
  {
   "cells": [
    {
     "cell_type": "markdown",
     "metadata": {
      "slideshow": {
       "slide_type": "slide"
      }
     },
     "source": [
      "# IPython"
     ]
    },
    {
     "cell_type": "markdown",
     "metadata": {
      "slideshow": {
       "slide_type": "notes"
      }
     },
     "source": [
      "IPython \u00e9 um ambiente de **computa\u00e7\u00e3o interativa** que enriquece os recursos originais do console Python padr\u00e3o. Na computa\u00e7\u00e3o interativa, fragmentos de c\u00f3digo podem ser inseridos pelo pesquisador, executados prontamente e seus resultados se tornam prontamente dispon\u00edveis. O sistema mant\u00e9m seu estado em mem\u00f3ria, isto \u00e9, seu conjunto de vari\u00e1veis em sua configura\u00e7\u00e3o atual \u00e9 acess\u00edvel ao usu\u00e1rio. P\u00e9rez e Granger (2007) argumentam sobre as vantagens de um ambiente interativo ao pesquisador:\n",
      "\n",
      "> Este estilo flex\u00edvel casa bem com o esp\u00edrito da computa\u00e7\u00e3o em um\n",
      "> contexto cient\u00edfico, no qual a determina\u00e7\u00e3o de quais computa\u00e7\u00f5es devem\n",
      "> ser realizadas em seguida geralmente requer um esfor\u00e7o significativo \n",
      "> [por parte do pesquisador]. Um ambiente interativo permite aos cientistas\n",
      "> examinar os dados, testar novas ideias, combinar algoritmos e avaliar\n",
      "> os resultados diretamente.\n",
      "\n",
      "Fernando P\u00e9rez e Brian E. Granger, [IPython: A System for Interactive Scientific Computing](http://dx.doi.org/10.1109/MCSE.2007.53)\n",
      "\n",
      "IPython prov\u00ea ainda recurso para paralelizar a execu\u00e7\u00e3o do c\u00f3digo, com pouco esfor\u00e7o adicional, permitindo ao pesquisador tirar proveito de processadores multi-core e *clusters* de computa\u00e7\u00e3o\u00b9.\n",
      "\n",
      "\u00b9 O leitor interessado pode visitar [http://ipython.org/ipython-doc/stable/parallel/index.html](http://ipython.org/ipython-doc/stable/parallel/index.html) para maiores detalhes sobre computa\u00e7\u00e3o paralela com IPython."
     ]
    },
    {
     "cell_type": "markdown",
     "metadata": {
      "slideshow": {
       "slide_type": "skip"
      }
     },
     "source": [
      "#### Pontos-chave"
     ]
    },
    {
     "cell_type": "markdown",
     "metadata": {
      "slideshow": {
       "slide_type": "slide"
      }
     },
     "source": [
      "* IPython \u00e9 um sistema para computa\u00e7\u00e3o cient\u00edfica **interativa**\n",
      "* Estende a funcionalidade b\u00e1sica do interpretador Python\n",
      "* Possui recursos para **visualiza\u00e7\u00e3o de dados**\n",
      "* Facilita o emprego de **computa\u00e7\u00e3o paralela e distribu\u00edda**"
     ]
    },
    {
     "cell_type": "markdown",
     "metadata": {
      "slideshow": {
       "slide_type": "slide"
      }
     },
     "source": [
      "## Console b\u00e1sico\n",
      "\n",
      "O console b\u00e1sico pode ser iniciado executando-se o comando `ipython`:"
     ]
    },
    {
     "cell_type": "markdown",
     "metadata": {
      "slideshow": {
       "slide_type": "fragment"
      }
     },
     "source": [
      "    $ ipython\n",
      "    Python 2.7.5+ (default, Feb 27 2014, 19:37:08) \n",
      "    Type \"copyright\", \"credits\" or \"license\" for more information.\n",
      "    \n",
      "    IPython 0.13.1 -- An enhanced Interactive Python.\n",
      "    ?         -> Introduction and overview of IPython's features.\n",
      "    %quickref -> Quick reference.\n",
      "    help      -> Python's own help system.\n",
      "    object?   -> Details about 'object', use 'object??' for extra details.\n",
      "    \n",
      "    In [1]: \n"
     ]
    },
    {
     "cell_type": "markdown",
     "metadata": {
      "slideshow": {
       "slide_type": "subslide"
      }
     },
     "source": [
      "## Qtconsole\n",
      "\n",
      "Qtconsole \u00e9 um terminal IPython que utiliza uma interface gr\u00e1fica baseada na biblioteca Qt. Ele pode ser inicializado atrav\u00e9s do comando:"
     ]
    },
    {
     "cell_type": "markdown",
     "metadata": {
      "slideshow": {
       "slide_type": "fragment"
      }
     },
     "source": [
      "    $ ipython qtconsole"
     ]
    },
    {
     "cell_type": "markdown",
     "metadata": {
      "slideshow": {
       "slide_type": "subslide"
      }
     },
     "source": [
      "## A op\u00e7\u00e3o `pylab`\n",
      "\n",
      "A op\u00e7\u00e3o `pylab` faz com que o interpretador IPython importe para o ambiente os pacotes essenciais para arrays da NumPy e as rotinas de *plotting* da Matplotlib. Alternativamente, pode-se executar o comando \"m\u00e1gico\" (*magic command*) `%pylab` dentro de um console IPython em execu\u00e7\u00e3o."
     ]
    },
    {
     "cell_type": "markdown",
     "metadata": {
      "slideshow": {
       "slide_type": "fragment"
      }
     },
     "source": [
      "    $ ipython qtconsole --pylab"
     ]
    },
    {
     "cell_type": "markdown",
     "metadata": {
      "slideshow": {
       "slide_type": "slide"
      }
     },
     "source": [
      "## Exerc\u00edcio 1\n",
      "\n",
      "Explore os *containers* da linguagem Python utilizando um console IPython. Utilize os recursos de auto-completar do console IPython para explorar a funcionalidade dessas estruturas de dados.\n",
      "\n",
      "1. Crie uma lista. Visualize seu conte\u00fado. Adicione e remova elementos.\n",
      "2. Crie um dicion\u00e1rio. Acesse os valores atrav\u00e9s de suas chaves. Adicione e remova novos pares chave/valor.\n",
      "3. Crie e visualize tuplas."
     ]
    },
    {
     "cell_type": "markdown",
     "metadata": {
      "slideshow": {
       "slide_type": "slide"
      }
     },
     "source": [
      "## Exerc\u00edcio 2\n",
      "\n",
      "Compute o valor de $\\pi$ utilizando a f\u00f3rmula de Wallis:\n",
      "\n",
      "$\\pi = 2 \\prod_{i=1}^{\\infty} \\frac{4i^2}{4i^2-1}$"
     ]
    },
    {
     "cell_type": "markdown",
     "metadata": {
      "slideshow": {
       "slide_type": "subslide"
      }
     },
     "source": [
      "### Solu\u00e7\u00e3o"
     ]
    },
    {
     "cell_type": "code",
     "collapsed": false,
     "input": [
      "a = range(1,10000,1)\n",
      "pi = 2.\n",
      "for i in a:\n",
      "    pi = pi * 4*i**2/(4*i**2-1)\n",
      "pi"
     ],
     "language": "python",
     "metadata": {
      "slideshow": {
       "slide_type": "fragment"
      }
     },
     "outputs": [
      {
       "metadata": {},
       "output_type": "pyout",
       "prompt_number": 1,
       "text": [
        "3.141514110828136"
       ]
      }
     ],
     "prompt_number": 1
    },
    {
     "cell_type": "markdown",
     "metadata": {
      "slideshow": {
       "slide_type": "slide"
      }
     },
     "source": [
      "## Um \"caderno de laborat\u00f3rio\" execut\u00e1vel: IPython Notebook"
     ]
    },
    {
     "cell_type": "markdown",
     "metadata": {
      "slideshow": {
       "slide_type": "notes"
      }
     },
     "source": [
      "Um Notebook IPython \u00e9 uma vers\u00e3o baseada em arquitetura Web do console IPython que permite a mesma computa\u00e7\u00e3o interativa dos consoles, mas oferece funcionalidade adicional. Utilizando um navegador Web, o pesquisador pode organizar trechos de anota\u00e7\u00f5es e c\u00f3digo de maneira flex\u00edvel. Texto e c\u00f3digo s\u00e3o organizados em **c\u00e9lulas** que podem ser inseridas, apagadas, reorganizadas e executadas conforme necess\u00e1rio. Notebooks IPython pode apresentar gr\u00e1ficos, f\u00f3rmulas matem\u00e1ticas e sa\u00edda de c\u00f3digo, tudo organizado em um \u00fanico documento. Notebooks v\u00eam sendo utilizados em anota\u00e7\u00f5es de pesquisa, reda\u00e7\u00e3o de artigos cient\u00edficos, an\u00e1lises de dados e na produ\u00e7\u00e3o de livros (DAVIDSON-PILON, 2014)."
     ]
    },
    {
     "cell_type": "markdown",
     "metadata": {
      "slideshow": {
       "slide_type": "skip"
      }
     },
     "source": [
      "#### Pontos-chave"
     ]
    },
    {
     "cell_type": "markdown",
     "metadata": {
      "slideshow": {
       "slide_type": "slide"
      }
     },
     "source": [
      "* IPython notebooks s\u00e3o uma forma elegante de manter **anota\u00e7\u00f5es e c\u00f3digo**\n",
      "* Possibilitam a cria\u00e7\u00e3o de **\"artigos execut\u00e1veis\"** (*executable papers*)"
     ]
    },
    {
     "cell_type": "markdown",
     "metadata": {
      "slideshow": {
       "slide_type": "fragment"
      }
     },
     "source": [
      "    $ ipython notebook --pylab=inline"
     ]
    },
    {
     "cell_type": "markdown",
     "metadata": {
      "slideshow": {
       "slide_type": "fragment"
      }
     },
     "source": [
      "* IPython notebooks est\u00e3o impactando a divulga\u00e7\u00e3o de material cient\u00edfico. \n",
      "    * Livros inteiros t\u00eam sido escritos utilizando-se notebooks\n",
      "    * Notebooks podem ser publicados na Web, em s\u00edtios como [nbviewer.ipython.org](http://nbviewer.ipython.org/)\n"
     ]
    },
    {
     "cell_type": "markdown",
     "metadata": {
      "slideshow": {
       "slide_type": "slide"
      }
     },
     "source": [
      "### C\u00e9lulas"
     ]
    },
    {
     "cell_type": "markdown",
     "metadata": {
      "slideshow": {
       "slide_type": "notes"
      }
     },
     "source": [
      "Notebooks s\u00e3o compostos por c\u00e9lulas de dois tipo: c\u00e9ulas de texto e c\u00e9lulas de c\u00f3digo. C\u00e9lulas de c\u00f3digo cont\u00e9m trechos de c\u00f3digo Python a ser executado. J\u00e1 as c\u00e9lulas de texto podem conter anota\u00e7\u00f5es formatadas utilizando as conven\u00e7\u00f5es *Markdown*\u00b2.\n",
      "\n",
      "\u00b2 Ver [http://daringfireball.net/projects/markdow n/syntax](http://daringfireball.net/projects/markdow n/syntax) para refer\u00eancia."
     ]
    },
    {
     "cell_type": "markdown",
     "metadata": {
      "slideshow": {
       "slide_type": "skip"
      }
     },
     "source": [
      "#### Pontos-chave"
     ]
    },
    {
     "cell_type": "markdown",
     "metadata": {
      "slideshow": {
       "slide_type": "subslide"
      }
     },
     "source": [
      "* O conte\u00fado dos notebooks \u00e9 dividido em **c\u00e9lulas**\n",
      "* H\u00e1 dois tipos de c\u00e9lula: *c\u00f3digo* e *texto*\n",
      "* C\u00e9lulas de c\u00f3digo cont\u00e9m *micro-programas* em Python\n",
      "* C\u00e9lulas de texto cont\u00e9m anota\u00e7\u00f5es, que podem ser facilmente formatadas utilizando-se a marca\u00e7\u00e3o [Markdown](http://daringfireball.net/projects/markdown/syntax)"
     ]
    },
    {
     "cell_type": "markdown",
     "metadata": {
      "slideshow": {
       "slide_type": "subslide"
      }
     },
     "source": [
      "#### Matem\u00e1tica\n",
      "\n",
      "C\u00e9lulas de texto suportam tamb\u00e9m **f\u00f3rmulas matem\u00e1ticas**, utilizando a sintaxe do LaTeX. Por exemplo, a express\u00e3o:\n",
      "\n",
      "    y = 3 x^2 + \\epsilon\n",
      "    \n",
      "produz a f\u00f3rmula $y = 3 x^2 + \\epsilon$\n",
      "\n",
      "A seguir est\u00e3o alguns exemplos de f\u00f3rmulas matem\u00e1ticas produzidas atrav\u00e9s da nota\u00e7\u00e3o LaTeX\u00b3. \n",
      "\n",
      "$\\lim_{x \\to \\infty} \\exp(-x) = 0$ produzido por `$\\lim_{x \\to \\infty} \\exp(-x) = 0$` \n",
      "\n",
      "$\\sqrt[n]{1+x+x^2+x^3+\\ldots}$ produzido por `$\\sqrt[n]{1+x+x^2+x^3+\\ldots}$`\n",
      "\n",
      "$\\int_0^\\infty \\mathrm{e}^{-x} \\mathrm{d}x$ produzido por `$\\int_0^\\infty \\mathrm{e}^{-x} \\mathrm{d}x$`\n",
      "\n",
      "$\\sum_{i=1}^{10} t_i$ produzido por `$\\sum_{i=1}^{10} t_i$`\n",
      "\n",
      "\u00b3 Para mais detalhes sobre como escrever f\u00f3rmulas matem\u00e1ticas na sintaxe do LaTeX, o leitor pode considerar [este guia no Wikibooks](http://en.wikibooks.org/wiki/LaTeX/Mathematics)."
     ]
    },
    {
     "cell_type": "markdown",
     "metadata": {
      "slideshow": {
       "slide_type": "slide"
      }
     },
     "source": [
      "### Como notebooks s\u00e3o armazenados"
     ]
    },
    {
     "cell_type": "markdown",
     "metadata": {
      "slideshow": {
       "slide_type": "notes"
      }
     },
     "source": [
      "Notebooks s\u00e3o armazenados como arquivos JSON que guardam o conte\u00fado das c\u00e9lulas, incluindo os resultados das computa\u00e7\u00f5es realizadas. Tais arquivos possuem a extens\u00e3o `.ipynb` e podem ser convertidos em programas Python regulares e em documentos HTML ou PDF. O que faz dos notebooks uma excelente ferramenta para pesquisa reprodut\u00edvel \u00e9 que eles s\u00e3o **documentos execut\u00e1veis** que armazenam n\u00e3o s\u00f3 descri\u00e7\u00f5es textuais e matem\u00e1ticas de um procedimento, mas tamb\u00e9m o c\u00f3digo necess\u00e1rio para replicar as computa\u00e7\u00f5es."
     ]
    },
    {
     "cell_type": "markdown",
     "metadata": {
      "slideshow": {
       "slide_type": "skip"
      }
     },
     "source": [
      "#### Pontos-chave"
     ]
    },
    {
     "cell_type": "markdown",
     "metadata": {
      "slideshow": {
       "slide_type": "subslide"
      }
     },
     "source": [
      "- Os notebooks IPython s\u00e3o armazenados como arquivos *JSON*\n",
      "- Esses arquivos podem ser *convertidos* para outros formatos:\n",
      "    - um script Python\n",
      "    - um documento em reStructuredText\n",
      "    - um documento em HTML\n",
      "    - um documento LaTeX\n",
      "    - um documento em Markdown\n",
      "    - slides\n",
      "  \n",
      "- Para mais detalhes, execute:\n",
      "\n",
      "`$ ipython nbconvert --help`"
     ]
    },
    {
     "cell_type": "markdown",
     "metadata": {
      "slideshow": {
       "slide_type": "slide"
      }
     },
     "source": [
      "## Visualiza\u00e7\u00e3o cient\u00edfica"
     ]
    },
    {
     "cell_type": "markdown",
     "metadata": {
      "slideshow": {
       "slide_type": "notes"
      }
     },
     "source": [
      "IPython integra-se facilmente \u00e0 Matplotlib, permitindo a exibi\u00e7\u00e3o de gr\u00e1ficos diretamente no navegador Web ou no console Qt. A cria\u00e7\u00e3o de gr\u00e1ficos ser\u00e1 introduzida posteriormente, na Se\u00e7\u00e3o *Matplotlib*."
     ]
    },
    {
     "cell_type": "code",
     "collapsed": false,
     "input": [
      "data = random.rand(100)\n",
      "bp = boxplot(data)"
     ],
     "language": "python",
     "metadata": {
      "slideshow": {
       "slide_type": "subslide"
      }
     },
     "outputs": [
      {
       "metadata": {},
       "output_type": "display_data",
       "png": "[encoded data removed]",
       "text": [
        "<matplotlib.figure.Figure at 0x7f91d110bc90>"
       ]
      }
     ],
     "prompt_number": 2
    },
    {
     "cell_type": "code",
     "collapsed": false,
     "input": [
      "plot(data, 'r-')\n",
      "plot(data, 'ro')\n",
      "title('Data, data, data')\n",
      "xlabel('x')\n",
      "ylabel('y = f(x)')"
     ],
     "language": "python",
     "metadata": {
      "slideshow": {
       "slide_type": "subslide"
      }
     },
     "outputs": [
      {
       "metadata": {},
       "output_type": "pyout",
       "prompt_number": 3,
       "text": [
        "<matplotlib.text.Text at 0x7f91d0716150>"
       ]
      },
      {
       "metadata": {},
       "output_type": "display_data",
       "png": "[encoded data removed]",
       "text": [
        "<matplotlib.figure.Figure at 0x7f91d110bc10>"
       ]
      }
     ],
     "prompt_number": 3
    },
    {
     "cell_type": "markdown",
     "metadata": {
      "slideshow": {
       "slide_type": "slide"
      }
     },
     "source": [
      "## IPython como um console de sistema\n",
      "\n",
      "Podemos executar comandos do sistema diretamente do console IPython. Por exemplo, para listar arquivos no diret\u00f3rio corrente, podemos utilizar o comando de sistema `ls` (em sistema baseados em Unix como Linux e Mac OS):"
     ]
    },
    {
     "cell_type": "code",
     "collapsed": false,
     "input": [
      "ls"
     ],
     "language": "python",
     "metadata": {
      "slideshow": {
       "slide_type": "fragment"
      }
     },
     "outputs": [
      {
       "output_type": "stream",
       "stream": "stdout",
       "text": [
        "01._Introducao.ipynb                04._NumPy.ipynb             \u001b[0m\u001b[01;34mdata\u001b[0m/\r\n",
        "01._Introducao.pdf                  04._NumPy.pdf               \u001b[01;34mfigs\u001b[0m/\r\n",
        "01._Introducao.slides.html          04._NumPy.slides.html       foo.ipynb~\r\n",
        "01._Introducao.tex                  04._NumPy.tex               LICENSE\r\n",
        "02._A_Linguagem_Python.ipynb        \u001b[01;34m05._Matplotlib_files\u001b[0m/       README.md\r\n",
        "02._A_Linguagem_Python.pdf          05._Matplotlib.ipynb        \u001b[01;34mreveal.js\u001b[0m/\r\n",
        "02._A_Linguagem_Python.slides.html  05._Matplotlib.pdf          scipy_embrapa.aux\r\n",
        "02._A_Linguagem_Python.tex          05._Matplotlib.slides.html  scipy_embrapa.log\r\n",
        "\u001b[01;34m03._IPython_files\u001b[0m/                  05._Matplotlib.tex          scipy_embrapa.out\r\n",
        "03._IPython.ipynb                   \u001b[01;34m06._Scipy_files\u001b[0m/            scipy_embrapa.pdf\r\n",
        "03._IPython.pdf                     06._Scipy.ipynb             scipy_embrapa.tex\r\n",
        "03._IPython.slides.html             06._Scipy.pdf               scipy_embrapa.tex~\r\n",
        "03._IPython.tex                     06._Scipy.slides.html       trig.pdf\r\n",
        "\u001b[01;34m04._NumPy_files\u001b[0m/                    06._Scipy.tex               \u001b[01;35mtrig.tif\u001b[0m\r\n"
       ]
      }
     ],
     "prompt_number": 4
    },
    {
     "cell_type": "markdown",
     "metadata": {
      "slideshow": {
       "slide_type": "subslide"
      }
     },
     "source": [
      "Utilizando `!` antes do comando, podemos armazenar o resultado em uma vari\u00e1vel Python: "
     ]
    },
    {
     "cell_type": "code",
     "collapsed": false,
     "input": [
      "l = !ls figs"
     ],
     "language": "python",
     "metadata": {
      "slideshow": {
       "slide_type": "fragment"
      }
     },
     "outputs": [],
     "prompt_number": 5
    },
    {
     "cell_type": "code",
     "collapsed": false,
     "input": [
      "l"
     ],
     "language": "python",
     "metadata": {
      "slideshow": {
       "slide_type": "fragment"
      }
     },
     "outputs": [
      {
       "metadata": {},
       "output_type": "pyout",
       "prompt_number": 6,
       "text": [
        "['fig.png', 'fitting.png', 'john-hunter.jpg', 'python.png']"
       ]
      }
     ],
     "prompt_number": 6
    },
    {
     "cell_type": "code",
     "collapsed": false,
     "input": [
      "figs = [f for f in l if f.endswith('.png')]"
     ],
     "language": "python",
     "metadata": {
      "slideshow": {
       "slide_type": "fragment"
      }
     },
     "outputs": [],
     "prompt_number": 7
    },
    {
     "cell_type": "code",
     "collapsed": false,
     "input": [
      "figs"
     ],
     "language": "python",
     "metadata": {
      "slideshow": {
       "slide_type": "fragment"
      }
     },
     "outputs": [
      {
       "metadata": {},
       "output_type": "pyout",
       "prompt_number": 8,
       "text": [
        "['fig.png', 'fitting.png', 'python.png']"
       ]
      }
     ],
     "prompt_number": 8
    },
    {
     "cell_type": "markdown",
     "metadata": {
      "slideshow": {
       "slide_type": "subslide"
      }
     },
     "source": [
      "Comandos do sistema podem ser executados utilizando par\u00e2metros armazenados em vari\u00e1veis Python. O exemplo abaixo copia arquivos entre diret\u00f3rios utilizando o comando de sistema `cp`. Os arquivos de interesse s\u00e3o lidos da lista `figs` e passados como argumento para o comando:"
     ]
    },
    {
     "cell_type": "code",
     "collapsed": false,
     "input": [
      "for f in figs:\n",
      "    !cp figs/$f /tmp/"
     ],
     "language": "python",
     "metadata": {
      "slideshow": {
       "slide_type": "fragment"
      }
     },
     "outputs": [],
     "prompt_number": 9
    },
    {
     "cell_type": "code",
     "collapsed": false,
     "input": [
      "ls /tmp/*.png"
     ],
     "language": "python",
     "metadata": {
      "slideshow": {
       "slide_type": "fragment"
      }
     },
     "outputs": [
      {
       "output_type": "stream",
       "stream": "stdout",
       "text": [
        "\u001b[0m\u001b[01;35m/tmp/fig.png\u001b[0m  \u001b[01;35m/tmp/fitting.png\u001b[0m  \u001b[01;35m/tmp/python.png\u001b[0m\r\n"
       ]
      }
     ],
     "prompt_number": 10
    },
    {
     "cell_type": "markdown",
     "metadata": {
      "slideshow": {
       "slide_type": "slide"
      }
     },
     "source": [
      "## Exerc\u00edcio 3\n",
      "\n",
      "Explore o uso das c\u00e9lulas de texto (*Markdown*). \n",
      "\n",
      "* Visite [http://www.markitdown.net/markdown](http://www.markitdown.net/markdown) e teste v\u00e1rias formata\u00e7\u00f5es de texto (**negrito**, *it\u00e1lico*, `code`, etc.).\n",
      "* Visite [http://en.wikibooks.org/wiki/LaTeX/Mathematics](http://en.wikibooks.org/wiki/LaTeX/Mathematics) e teste v\u00e1rias f\u00f3rmulas matem\u00e1ticas em seu notebook."
     ]
    }
   ],
   "metadata": {}
  }
 ]
}