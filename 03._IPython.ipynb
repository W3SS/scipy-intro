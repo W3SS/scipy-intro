{
 "cells": [
  {
   "cell_type": "markdown",
   "metadata": {
    "slideshow": {
     "slide_type": "slide"
    }
   },
   "source": [
    "# IPython"
   ]
  },
  {
   "cell_type": "markdown",
   "metadata": {
    "slideshow": {
     "slide_type": "notes"
    }
   },
   "source": [
    "IPython é um ambiente de **computação interativa** que enriquece os recursos originais do console Python padrão. Na computação interativa, fragmentos de código podem ser inseridos pelo pesquisador, executados imediatamente e seus resultados se tornam prontamente disponíveis. O sistema mantém seu estado em memória, isto é, seu conjunto de variáveis em sua configuração atual é acessível ao usuário. [Perez e Granger (2007)](http://dx.doi.org/10.1109/MCSE.2007.53) argumentam sobre as vantagens de um ambiente interativo ao pesquisador:\n",
    "\n",
    "> \"Este estilo flexível casa bem com o espírito da computação em um contexto científico, no qual a determinação de quais computações devem ser realizadas em seguida geralmente requer um esforço significativo [por parte do pesquisador]. Um ambiente interativo permite aos cientistas examinar os dados, testar novas ideias, combinar algoritmos e avaliar os resultados diretamente.\"\n",
    "\n",
    "\n",
    "IPython provê ainda recursos para paralelizar a execução do código, com pouco esforço adicional, permitindo ao pesquisador tirar proveito de processadores multi-core e *clusters* de computação¹.\n",
    "\n",
    "¹ O leitor interessado pode visitar [Using IPython for parallel computing](http://ipython.org/ipython-doc/stable/parallel/index.html) para maiores detalhes sobre computação paralela com IPython."
   ]
  },
  {
   "cell_type": "markdown",
   "metadata": {
    "slideshow": {
     "slide_type": "fragment"
    }
   },
   "source": [
    "* IPython é um sistema para computação científica **interativa**\n",
    "* Estende a funcionalidade básica do interpretador Python\n",
    "* Possui recursos para **visualização de dados**\n",
    "* Facilita o emprego de **computação paralela e distribuída**"
   ]
  },
  {
   "cell_type": "markdown",
   "metadata": {
    "slideshow": {
     "slide_type": "subslide"
    }
   },
   "source": [
    "![Interactive notebooks: Sharing the code, Nature 515:7525](figs/ipython-nature.png \"Interactive notebooks: Sharing the code, Nature 515:7525\")"
   ]
  },
  {
   "cell_type": "markdown",
   "metadata": {
    "slideshow": {
     "slide_type": "slide"
    }
   },
   "source": [
    "## Console básico\n",
    "\n",
    "O console básico pode ser iniciado executando-se o comando `ipython`:"
   ]
  },
  {
   "cell_type": "markdown",
   "metadata": {
    "slideshow": {
     "slide_type": "fragment"
    }
   },
   "source": [
    "    $ ipython\n",
    "    Python 2.7.5+ (default, Feb 27 2014, 19:37:08) \n",
    "    Type \"copyright\", \"credits\" or \"license\" for more information.\n",
    "    \n",
    "    IPython 0.13.1 -- An enhanced Interactive Python.\n",
    "    ?         -> Introduction and overview of IPython's features.\n",
    "    %quickref -> Quick reference.\n",
    "    help      -> Python's own help system.\n",
    "    object?   -> Details about 'object', use 'object??' for extra details.\n",
    "    \n",
    "    In [1]: \n"
   ]
  },
  {
   "cell_type": "markdown",
   "metadata": {
    "slideshow": {
     "slide_type": "subslide"
    }
   },
   "source": [
    "## Qtconsole\n",
    "\n",
    "Qtconsole é um terminal IPython que utiliza uma interface gráfica baseada na biblioteca Qt. Ele pode ser inicializado através do comando:"
   ]
  },
  {
   "cell_type": "markdown",
   "metadata": {
    "slideshow": {
     "slide_type": "fragment"
    }
   },
   "source": [
    "    $ ipython qtconsole"
   ]
  },
  {
   "cell_type": "markdown",
   "metadata": {
    "slideshow": {
     "slide_type": "subslide"
    }
   },
   "source": [
    "## A opção `pylab`\n",
    "\n",
    "A opção `pylab` faz com que o interpretador IPython importe para o ambiente os pacotes essenciais para arrays da NumPy e as rotinas de *plotting* da Matplotlib. Alternativamente, pode-se executar o comando \"mágico\" (*magic command*) `%pylab` dentro de um console IPython em execução."
   ]
  },
  {
   "cell_type": "markdown",
   "metadata": {
    "slideshow": {
     "slide_type": "fragment"
    }
   },
   "source": [
    "    $ ipython qtconsole --pylab"
   ]
  },
  {
   "cell_type": "markdown",
   "metadata": {
    "slideshow": {
     "slide_type": "slide"
    }
   },
   "source": [
    "## Exercício 1\n",
    "\n",
    "Explore os *containers* da linguagem Python utilizando um console IPython. Utilize os recursos de auto-completar do console IPython para explorar a funcionalidade dessas estruturas de dados.\n",
    "\n",
    "1. Crie uma lista. Visualize seu conteúdo. Adicione e remova elementos.\n",
    "2. Crie um dicionário. Acesse os valores através de suas chaves. Adicione e remova novos pares chave/valor.\n",
    "3. Crie e visualize tuplas."
   ]
  },
  {
   "cell_type": "markdown",
   "metadata": {
    "slideshow": {
     "slide_type": "slide"
    }
   },
   "source": [
    "## Exercício 2\n",
    "\n",
    "Compute o valor de $\\pi$ utilizando a fórmula de Wallis:\n",
    "\n",
    "$\\pi = 2 \\prod_{i=1}^{\\infty} \\frac{4i^2}{4i^2-1}$"
   ]
  },
  {
   "cell_type": "markdown",
   "metadata": {
    "slideshow": {
     "slide_type": "subslide"
    }
   },
   "source": [
    "### Solução"
   ]
  },
  {
   "cell_type": "code",
   "execution_count": 1,
   "metadata": {
    "collapsed": false,
    "slideshow": {
     "slide_type": "fragment"
    }
   },
   "outputs": [
    {
     "data": {
      "text/plain": [
       "3.141514110828136"
      ]
     },
     "execution_count": 1,
     "metadata": {},
     "output_type": "execute_result"
    }
   ],
   "source": [
    "a = range(1,10000,1)\n",
    "pi = 2.\n",
    "for i in a:\n",
    "    pi = pi * 4*i**2/(4*i**2-1)\n",
    "pi"
   ]
  },
  {
   "cell_type": "markdown",
   "metadata": {
    "slideshow": {
     "slide_type": "slide"
    }
   },
   "source": [
    "## Um caderno de laboratório executável: IPython Notebook"
   ]
  },
  {
   "cell_type": "markdown",
   "metadata": {
    "slideshow": {
     "slide_type": "notes"
    }
   },
   "source": [
    "Um Notebook IPython é uma versão baseada em arquitetura web do console IPython que permite a mesma computação interativa dos consoles, mas oferece funcionalidade adicional. Utilizando um navegador web, o pesquisador pode organizar trechos de anotações e código de maneira flexível. Texto e código são organizados em **células** que podem ser inseridas, apagadas, reorganizadas e executadas conforme necessário. Um\n",
    "\n",
    "Notebook IPython pode apresentar gráficos, fórmulas matemáticas e resultados de execução de código, tudo organizado em um único documento. Notebooks vêm sendo utilizados em anotações de pesquisa, redação de artigos científicos, análises de dados e na produção de livros ([DAVIDSON-PILON, 2014](http://camdavidsonpilon.github.io/Probabilistic-Programming-and-Bayesian-Methods-for-Hackers/))."
   ]
  },
  {
   "cell_type": "markdown",
   "metadata": {
    "slideshow": {
     "slide_type": "fragment"
    }
   },
   "source": [
    "* IPython notebooks são uma forma elegante de manter **anotações e código**\n",
    "* Possibilitam a criação de **\"artigos executáveis\"** (*executable papers*)"
   ]
  },
  {
   "cell_type": "markdown",
   "metadata": {
    "slideshow": {
     "slide_type": "notes"
    }
   },
   "source": [
    "IPython pode ser iniciado no modo notebook através do comando:"
   ]
  },
  {
   "cell_type": "markdown",
   "metadata": {
    "slideshow": {
     "slide_type": "fragment"
    }
   },
   "source": [
    "    $ ipython notebook"
   ]
  },
  {
   "cell_type": "markdown",
   "metadata": {
    "slideshow": {
     "slide_type": "fragment"
    }
   },
   "source": [
    "* IPython notebooks estão impactando a divulgação de material científico. \n",
    "    * Livros inteiros têm sido escritos utilizando-se notebooks\n",
    "    * Notebooks podem ser publicados na Web, em sítios como [nbviewer.ipython.org](http://nbviewer.ipython.org/)\n"
   ]
  },
  {
   "cell_type": "markdown",
   "metadata": {
    "slideshow": {
     "slide_type": "slide"
    }
   },
   "source": [
    "### Células"
   ]
  },
  {
   "cell_type": "markdown",
   "metadata": {
    "slideshow": {
     "slide_type": "notes"
    }
   },
   "source": [
    "Notebooks são compostos por células de dois tipo: céulas de texto e células de código. Células de código contém trechos de código Python a ser executado. Já as células de texto podem conter anotações formatadas utilizando as convenções *[Markdown](http://daringfireball.net/projects/markdown/syntax)*."
   ]
  },
  {
   "cell_type": "markdown",
   "metadata": {
    "slideshow": {
     "slide_type": "fragment"
    }
   },
   "source": [
    "* O conteúdo dos notebooks é dividido em **células**\n",
    "* Há dois tipos de célula: *código* e *texto*\n",
    "* Células de código contém *micro-programas* em Python\n",
    "* Células de texto contém anotações, que podem ser facilmente formatadas utilizando-se a marcação [Markdown](http://daringfireball.net/projects/markdown/syntax)"
   ]
  },
  {
   "cell_type": "markdown",
   "metadata": {
    "slideshow": {
     "slide_type": "subslide"
    }
   },
   "source": [
    "#### Matemática\n",
    "\n",
    "Células de texto suportam também **expressões matemáticas**, utilizando a sintaxe do LaTeX. Por exemplo, a expressão:\n",
    "\n",
    "    y = 3 x^2 + \\epsilon\n",
    "    \n",
    "produz a fórmula $y = 3 x^2 + \\epsilon$\n",
    "\n",
    "A seguir estão alguns exemplos de fórmulas matemáticas produzidas através da notação LaTeX¹. \n",
    "\n",
    "$\\lim_{x \\to \\infty} \\exp(-x) = 0$ produzido por `$\\lim_{x \\to \\infty} \\exp(-x) = 0$` \n",
    "\n",
    "$\\sqrt[n]{1+x+x^2+x^3+\\ldots}$ produzido por `$\\sqrt[n]{1+x+x^2+x^3+\\ldots}$`\n",
    "\n",
    "$\\int_0^\\infty \\mathrm{e}^{-x} \\mathrm{d}x$ produzido por `$\\int_0^\\infty \\mathrm{e}^{-x} \\mathrm{d}x$`\n",
    "\n",
    "$\\sum_{i=1}^{10} t_i$ produzido por `$\\sum_{i=1}^{10} t_i$`\n",
    "\n",
    "¹ Para mais detalhes sobre como escrever fórmulas matemáticas na sintaxe do LaTeX, o leitor pode considerar [este guia no Wikibooks](http://en.wikibooks.org/wiki/LaTeX/Mathematics)."
   ]
  },
  {
   "cell_type": "markdown",
   "metadata": {
    "slideshow": {
     "slide_type": "slide"
    }
   },
   "source": [
    "### Como notebooks são armazenados"
   ]
  },
  {
   "cell_type": "markdown",
   "metadata": {
    "slideshow": {
     "slide_type": "notes"
    }
   },
   "source": [
    "Notebooks são armazenados como arquivos JSON que guardam o conteúdo das células, incluindo os resultados das computações realizadas. Tais arquivos possuem a extensão `.ipynb` e podem ser convertidos em programas Python regulares e em documentos HTML ou PDF. O que faz dos notebooks uma excelente ferramenta para pesquisa reprodutível é que eles são **documentos executáveis** que armazenam não só descrições textuais e matemáticas de um procedimento, mas também o código necessário para replicar as computações."
   ]
  },
  {
   "cell_type": "markdown",
   "metadata": {
    "slideshow": {
     "slide_type": "fragment"
    }
   },
   "source": [
    "- Os notebooks IPython são armazenados como arquivos *JSON*\n",
    "- Esses arquivos podem ser *convertidos* para outros formatos:\n",
    "    - um script Python\n",
    "    - um documento em reStructuredText\n",
    "    - um documento em HTML\n",
    "    - um documento LaTeX\n",
    "    - um documento em Markdown\n",
    "    - slides\n",
    "  \n",
    "- Para mais detalhes, execute:\n",
    "\n",
    "`$ ipython nbconvert --help`"
   ]
  },
  {
   "cell_type": "markdown",
   "metadata": {
    "slideshow": {
     "slide_type": "slide"
    }
   },
   "source": [
    "## Visualização científica"
   ]
  },
  {
   "cell_type": "markdown",
   "metadata": {
    "slideshow": {
     "slide_type": "notes"
    }
   },
   "source": [
    "IPython integra-se facilmente à Matplotlib, permitindo a exibição de gráficos diretamente no navegador Web ou no console Qt. A criação de gráficos será introduzida posteriormente, na Seção *Matplotlib*."
   ]
  },
  {
   "cell_type": "code",
   "execution_count": 23,
   "metadata": {
    "collapsed": false,
    "slideshow": {
     "slide_type": "notes"
    }
   },
   "outputs": [
    {
     "name": "stdout",
     "output_type": "stream",
     "text": [
      "Populating the interactive namespace from numpy and matplotlib\n"
     ]
    },
    {
     "name": "stderr",
     "output_type": "stream",
     "text": [
      "WARNING: pylab import has clobbered these variables: ['f']\n",
      "`%matplotlib` prevents importing * from pylab and numpy\n"
     ]
    }
   ],
   "source": [
    "%pylab inline"
   ]
  },
  {
   "cell_type": "code",
   "execution_count": 13,
   "metadata": {
    "collapsed": false,
    "slideshow": {
     "slide_type": "fragment"
    }
   },
   "outputs": [
    {
     "data": {
      "image/png": "[encoded data removed]",
      "text/plain": [
       "<matplotlib.figure.Figure at 0x7f9f7c346610>"
      ]
     },
     "metadata": {},
     "output_type": "display_data"
    }
   ],
   "source": [
    "data = random.rand(100)\n",
    "bp = boxplot(data)"
   ]
  },
  {
   "cell_type": "code",
   "execution_count": 14,
   "metadata": {
    "collapsed": false,
    "slideshow": {
     "slide_type": "subslide"
    }
   },
   "outputs": [
    {
     "data": {
      "text/plain": [
       "<matplotlib.text.Text at 0x7f9f7bc2ff90>"
      ]
     },
     "execution_count": 14,
     "metadata": {},
     "output_type": "execute_result"
    },
    {
     "data": {
      "image/png": "[encoded data removed]",
      "text/plain": [
       "<matplotlib.figure.Figure at 0x7f9f7bc99790>"
      ]
     },
     "metadata": {},
     "output_type": "display_data"
    }
   ],
   "source": [
    "plot(data, 'r-')\n",
    "plot(data, 'ro')\n",
    "title('Data, data, data')\n",
    "xlabel('x')\n",
    "ylabel('y = f(x)')"
   ]
  },
  {
   "cell_type": "markdown",
   "metadata": {
    "slideshow": {
     "slide_type": "slide"
    }
   },
   "source": [
    "## IPython como um console de sistema\n",
    "\n",
    "Podemos executar comandos do sistema diretamente do console IPython. Por exemplo, para listar arquivos no diretório corrente, podemos utilizar o comando de sistema `ls` (em sistema baseados em Unix como Linux e Mac OS):"
   ]
  },
  {
   "cell_type": "code",
   "execution_count": 15,
   "metadata": {
    "collapsed": false,
    "slideshow": {
     "slide_type": "fragment"
    }
   },
   "outputs": [
    {
     "name": "stdout",
     "output_type": "stream",
     "text": [
      "01._Introducao.ipynb                03._IPython.ipynb        05._Matplotlib.pdf          LICENSE\r\n",
      "01._Introducao.pdf                  03._IPython.pdf          05._Matplotlib.slides.html  README.md\r\n",
      "01._Introducao.slides.html          03._IPython.slides.html  06._Scipy.ipynb             \u001b[0m\u001b[01;34mreveal.js\u001b[0m/\r\n",
      "02._A_Linguagem_Python.ipynb        04._NumPy.ipynb          06._Scipy.pdf               trig.pdf\r\n",
      "02._A_Linguagem_Python.pdf          04._NumPy.pdf            06._Scipy.slides.html       \u001b[01;35mtrig.tif\u001b[0m\r\n",
      "02._A_Linguagem_Python.slides.html  04._NumPy.slides.html    \u001b[01;34mdata\u001b[0m/\r\n",
      "02._A_Linguagem_Python.tex          05._Matplotlib.ipynb     \u001b[01;34mfigs\u001b[0m/\r\n"
     ]
    }
   ],
   "source": [
    "ls"
   ]
  },
  {
   "cell_type": "markdown",
   "metadata": {
    "slideshow": {
     "slide_type": "subslide"
    }
   },
   "source": [
    "Utilizando `!` antes do comando, podemos armazenar o resultado em uma variável Python: "
   ]
  },
  {
   "cell_type": "code",
   "execution_count": 17,
   "metadata": {
    "collapsed": false,
    "slideshow": {
     "slide_type": "fragment"
    }
   },
   "outputs": [],
   "source": [
    "l = !ls figs"
   ]
  },
  {
   "cell_type": "code",
   "execution_count": 18,
   "metadata": {
    "collapsed": false,
    "slideshow": {
     "slide_type": "fragment"
    }
   },
   "outputs": [
    {
     "data": {
      "text/plain": [
       "['fig.png',\n",
       " 'fitting.png',\n",
       " 'ipython-nature.png',\n",
       " 'john-hunter.jpg',\n",
       " 'python-nature.png',\n",
       " 'python.png']"
      ]
     },
     "execution_count": 18,
     "metadata": {},
     "output_type": "execute_result"
    }
   ],
   "source": [
    "l"
   ]
  },
  {
   "cell_type": "code",
   "execution_count": 19,
   "metadata": {
    "collapsed": false,
    "slideshow": {
     "slide_type": "fragment"
    }
   },
   "outputs": [],
   "source": [
    "figs = [f for f in l if f.endswith('.png')]"
   ]
  },
  {
   "cell_type": "code",
   "execution_count": 20,
   "metadata": {
    "collapsed": false,
    "slideshow": {
     "slide_type": "fragment"
    }
   },
   "outputs": [
    {
     "data": {
      "text/plain": [
       "['fig.png',\n",
       " 'fitting.png',\n",
       " 'ipython-nature.png',\n",
       " 'python-nature.png',\n",
       " 'python.png']"
      ]
     },
     "execution_count": 20,
     "metadata": {},
     "output_type": "execute_result"
    }
   ],
   "source": [
    "figs"
   ]
  },
  {
   "cell_type": "markdown",
   "metadata": {
    "slideshow": {
     "slide_type": "subslide"
    }
   },
   "source": [
    "Comandos do sistema podem ser executados utilizando parâmetros armazenados em variáveis Python. O exemplo abaixo copia arquivos entre diretórios utilizando o comando de sistema `cp`. Os arquivos de interesse são lidos da lista `figs` e passados como argumento para o comando:"
   ]
  },
  {
   "cell_type": "code",
   "execution_count": 21,
   "metadata": {
    "collapsed": false,
    "slideshow": {
     "slide_type": "fragment"
    }
   },
   "outputs": [],
   "source": [
    "for f in figs:\n",
    "    !cp figs/$f /tmp/"
   ]
  },
  {
   "cell_type": "code",
   "execution_count": 22,
   "metadata": {
    "collapsed": false,
    "slideshow": {
     "slide_type": "fragment"
    }
   },
   "outputs": [
    {
     "name": "stdout",
     "output_type": "stream",
     "text": [
      "\u001b[0m\u001b[01;35m/tmp/fig.png\u001b[0m  \u001b[01;35m/tmp/fitting.png\u001b[0m  \u001b[01;35m/tmp/ipython-nature.png\u001b[0m  \u001b[01;35m/tmp/python-nature.png\u001b[0m  \u001b[01;35m/tmp/python.png\u001b[0m\r\n"
     ]
    }
   ],
   "source": [
    "ls /tmp/*.png"
   ]
  },
  {
   "cell_type": "markdown",
   "metadata": {
    "slideshow": {
     "slide_type": "slide"
    }
   },
   "source": [
    "## Exercício 3\n",
    "\n",
    "Explore o uso das células de texto (*Markdown*). \n",
    "\n",
    "* Visite [http://www.markitdown.net/markdown](http://www.markitdown.net/markdown) e teste várias formatações de texto (**negrito**, *itálico*, `code`, etc.).\n",
    "* Visite [http://en.wikibooks.org/wiki/LaTeX/Mathematics](http://en.wikibooks.org/wiki/LaTeX/Mathematics) e teste várias fórmulas matemáticas em seu notebook."
   ]
  }
 ],
 "metadata": {
  "celltoolbar": "Slideshow",
  "kernelspec": {
   "display_name": "Python 2",
   "language": "python",
   "name": "python2"
  },
  "language_info": {
   "codemirror_mode": {
    "name": "ipython",
    "version": 2
   },
   "file_extension": ".py",
   "mimetype": "text/x-python",
   "name": "python",
   "nbconvert_exporter": "python",
   "pygments_lexer": "ipython2",
   "version": "2.7.6"
  }
 },
 "nbformat": 4,
 "nbformat_minor": 0
}
