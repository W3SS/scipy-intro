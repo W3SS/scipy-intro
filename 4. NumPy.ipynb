{
 "metadata": {
  "name": "4. NumPy"
 },
 "nbformat": 3,
 "nbformat_minor": 0,
 "worksheets": [
  {
   "cells": [
    {
     "cell_type": "markdown",
     "metadata": {},
     "source": [
      "# NumPy\n",
      "\n",
      "* NumPy \u00e9 um m\u00f3dulo Python que fornece **arrays multidimensionais**"
     ]
    },
    {
     "cell_type": "code",
     "collapsed": false,
     "input": [
      "import numpy as np\n",
      "A = np.array([0,1,2,3])\n",
      "A"
     ],
     "language": "python",
     "metadata": {},
     "outputs": [
      {
       "output_type": "pyout",
       "prompt_number": 1,
       "text": [
        "array([0, 1, 2, 3])"
       ]
      }
     ],
     "prompt_number": 1
    },
    {
     "cell_type": "code",
     "collapsed": false,
     "input": [
      "A.shape = 2,2\n",
      "A"
     ],
     "language": "python",
     "metadata": {},
     "outputs": [
      {
       "output_type": "pyout",
       "prompt_number": 2,
       "text": [
        "array([[0, 1],\n",
        "       [2, 3]])"
       ]
      }
     ],
     "prompt_number": 2
    },
    {
     "cell_type": "markdown",
     "metadata": {},
     "source": [
      "* Internamente, executa c\u00f3digo **nativo** e **otimizado**\n",
      "* Foi desenvolvido especialmente para computa\u00e7\u00e3o cient\u00edfica"
     ]
    },
    {
     "cell_type": "code",
     "collapsed": false,
     "input": [
      "v = range(1000)\n",
      "%timeit [i**2 for i in v]"
     ],
     "language": "python",
     "metadata": {},
     "outputs": [
      {
       "output_type": "stream",
       "stream": "stdout",
       "text": [
        "10000 loops, best of 3: 64.8 us per loop\n"
       ]
      }
     ],
     "prompt_number": 3
    },
    {
     "cell_type": "code",
     "collapsed": false,
     "input": [
      "v = np.arange(1000)\n",
      "%timeit v**2"
     ],
     "language": "python",
     "metadata": {},
     "outputs": [
      {
       "output_type": "stream",
       "stream": "stdout",
       "text": [
        "100000 loops, best of 3: 1.88 us per loop\n"
       ]
      }
     ],
     "prompt_number": 4
    },
    {
     "cell_type": "markdown",
     "metadata": {},
     "source": [
      "## Cria\u00e7\u00e3o de *arrays*\n",
      "\n",
      "### 1D"
     ]
    },
    {
     "cell_type": "code",
     "collapsed": false,
     "input": [
      "v = np.array([0,1,2,3])\n",
      "v"
     ],
     "language": "python",
     "metadata": {},
     "outputs": [
      {
       "output_type": "pyout",
       "prompt_number": 5,
       "text": [
        "array([0, 1, 2, 3])"
       ]
      }
     ],
     "prompt_number": 5
    },
    {
     "cell_type": "code",
     "collapsed": false,
     "input": [
      "v.ndim"
     ],
     "language": "python",
     "metadata": {},
     "outputs": [
      {
       "output_type": "pyout",
       "prompt_number": 6,
       "text": [
        "1"
       ]
      }
     ],
     "prompt_number": 6
    },
    {
     "cell_type": "code",
     "collapsed": false,
     "input": [
      "v.shape"
     ],
     "language": "python",
     "metadata": {},
     "outputs": [
      {
       "output_type": "pyout",
       "prompt_number": 7,
       "text": [
        "(4,)"
       ]
      }
     ],
     "prompt_number": 7
    },
    {
     "cell_type": "markdown",
     "metadata": {},
     "source": [
      "### 2D, 3D,... ND"
     ]
    },
    {
     "cell_type": "code",
     "collapsed": false,
     "input": [
      "A = np.array([ [0,1,2], [3,4,5] ])\n",
      "A"
     ],
     "language": "python",
     "metadata": {},
     "outputs": [
      {
       "output_type": "pyout",
       "prompt_number": 8,
       "text": [
        "array([[0, 1, 2],\n",
        "       [3, 4, 5]])"
       ]
      }
     ],
     "prompt_number": 8
    },
    {
     "cell_type": "code",
     "collapsed": false,
     "input": [
      "A.ndim"
     ],
     "language": "python",
     "metadata": {},
     "outputs": [
      {
       "output_type": "pyout",
       "prompt_number": 9,
       "text": [
        "2"
       ]
      }
     ],
     "prompt_number": 9
    },
    {
     "cell_type": "code",
     "collapsed": false,
     "input": [
      "A.shape"
     ],
     "language": "python",
     "metadata": {},
     "outputs": [
      {
       "output_type": "pyout",
       "prompt_number": 10,
       "text": [
        "(2, 3)"
       ]
      }
     ],
     "prompt_number": 10
    },
    {
     "cell_type": "code",
     "collapsed": false,
     "input": [
      "data = range(12)\n",
      "data"
     ],
     "language": "python",
     "metadata": {},
     "outputs": [
      {
       "output_type": "pyout",
       "prompt_number": 11,
       "text": [
        "[0, 1, 2, 3, 4, 5, 6, 7, 8, 9, 10, 11]"
       ]
      }
     ],
     "prompt_number": 11
    },
    {
     "cell_type": "code",
     "collapsed": false,
     "input": [
      "B = np.array(data)"
     ],
     "language": "python",
     "metadata": {},
     "outputs": [],
     "prompt_number": 12
    },
    {
     "cell_type": "code",
     "collapsed": false,
     "input": [
      "B.ndim"
     ],
     "language": "python",
     "metadata": {},
     "outputs": [
      {
       "output_type": "pyout",
       "prompt_number": 13,
       "text": [
        "1"
       ]
      }
     ],
     "prompt_number": 13
    },
    {
     "cell_type": "code",
     "collapsed": false,
     "input": [
      "B.shape"
     ],
     "language": "python",
     "metadata": {},
     "outputs": [
      {
       "output_type": "pyout",
       "prompt_number": 14,
       "text": [
        "(12,)"
       ]
      }
     ],
     "prompt_number": 14
    },
    {
     "cell_type": "code",
     "collapsed": false,
     "input": [
      "B"
     ],
     "language": "python",
     "metadata": {},
     "outputs": [
      {
       "output_type": "pyout",
       "prompt_number": 15,
       "text": [
        "array([ 0,  1,  2,  3,  4,  5,  6,  7,  8,  9, 10, 11])"
       ]
      }
     ],
     "prompt_number": 15
    },
    {
     "cell_type": "code",
     "collapsed": false,
     "input": [
      "B.shape = 2,2,3"
     ],
     "language": "python",
     "metadata": {},
     "outputs": [],
     "prompt_number": 16
    },
    {
     "cell_type": "code",
     "collapsed": false,
     "input": [
      "B.ndim"
     ],
     "language": "python",
     "metadata": {},
     "outputs": [
      {
       "output_type": "pyout",
       "prompt_number": 17,
       "text": [
        "3"
       ]
      }
     ],
     "prompt_number": 17
    },
    {
     "cell_type": "code",
     "collapsed": false,
     "input": [
      "B.shape"
     ],
     "language": "python",
     "metadata": {},
     "outputs": [
      {
       "output_type": "pyout",
       "prompt_number": 18,
       "text": [
        "(2, 2, 3)"
       ]
      }
     ],
     "prompt_number": 18
    },
    {
     "cell_type": "code",
     "collapsed": false,
     "input": [
      "B"
     ],
     "language": "python",
     "metadata": {},
     "outputs": [
      {
       "output_type": "pyout",
       "prompt_number": 19,
       "text": [
        "array([[[ 0,  1,  2],\n",
        "        [ 3,  4,  5]],\n",
        "\n",
        "       [[ 6,  7,  8],\n",
        "        [ 9, 10, 11]]])"
       ]
      }
     ],
     "prompt_number": 19
    },
    {
     "cell_type": "code",
     "collapsed": false,
     "input": [
      "B[1][0][2]"
     ],
     "language": "python",
     "metadata": {},
     "outputs": [
      {
       "output_type": "pyout",
       "prompt_number": 20,
       "text": [
        "8"
       ]
      }
     ],
     "prompt_number": 20
    },
    {
     "cell_type": "markdown",
     "metadata": {},
     "source": [
      "### Utilit\u00e1rios para cria\u00e7\u00e3o de *arrays*\n",
      "\n",
      "#### `arange`"
     ]
    },
    {
     "cell_type": "code",
     "collapsed": false,
     "input": [
      "v = np.arange(5)\n",
      "v"
     ],
     "language": "python",
     "metadata": {},
     "outputs": [
      {
       "output_type": "pyout",
       "prompt_number": 21,
       "text": [
        "array([0, 1, 2, 3, 4])"
       ]
      }
     ],
     "prompt_number": 21
    },
    {
     "cell_type": "code",
     "collapsed": false,
     "input": [
      "v = np.arange(1,8,2)\n",
      "v"
     ],
     "language": "python",
     "metadata": {},
     "outputs": [
      {
       "output_type": "pyout",
       "prompt_number": 22,
       "text": [
        "array([1, 3, 5, 7])"
       ]
      }
     ],
     "prompt_number": 22
    },
    {
     "cell_type": "markdown",
     "metadata": {},
     "source": [
      "#### `linspace`"
     ]
    },
    {
     "cell_type": "code",
     "collapsed": false,
     "input": [
      "v = np.linspace(0, 1, 6)\n",
      "v"
     ],
     "language": "python",
     "metadata": {},
     "outputs": [
      {
       "output_type": "pyout",
       "prompt_number": 23,
       "text": [
        "array([ 0. ,  0.2,  0.4,  0.6,  0.8,  1. ])"
       ]
      }
     ],
     "prompt_number": 23
    },
    {
     "cell_type": "markdown",
     "metadata": {},
     "source": [
      "#### `zeros`, `ones`, `identity`"
     ]
    },
    {
     "cell_type": "code",
     "collapsed": false,
     "input": [
      "A = np.zeros((4,5))\n",
      "A"
     ],
     "language": "python",
     "metadata": {},
     "outputs": [
      {
       "output_type": "pyout",
       "prompt_number": 24,
       "text": [
        "array([[ 0.,  0.,  0.,  0.,  0.],\n",
        "       [ 0.,  0.,  0.,  0.,  0.],\n",
        "       [ 0.,  0.,  0.,  0.,  0.],\n",
        "       [ 0.,  0.,  0.,  0.,  0.]])"
       ]
      }
     ],
     "prompt_number": 24
    },
    {
     "cell_type": "code",
     "collapsed": false,
     "input": [
      "print A"
     ],
     "language": "python",
     "metadata": {},
     "outputs": [
      {
       "output_type": "stream",
       "stream": "stdout",
       "text": [
        "[[ 0.  0.  0.  0.  0.]\n",
        " [ 0.  0.  0.  0.  0.]\n",
        " [ 0.  0.  0.  0.  0.]\n",
        " [ 0.  0.  0.  0.  0.]]\n"
       ]
      }
     ],
     "prompt_number": 25
    },
    {
     "cell_type": "code",
     "collapsed": false,
     "input": [
      "B = np.ones((3,3))\n",
      "B"
     ],
     "language": "python",
     "metadata": {},
     "outputs": [
      {
       "output_type": "pyout",
       "prompt_number": 26,
       "text": [
        "array([[ 1.,  1.,  1.],\n",
        "       [ 1.,  1.,  1.],\n",
        "       [ 1.,  1.,  1.]])"
       ]
      }
     ],
     "prompt_number": 26
    },
    {
     "cell_type": "code",
     "collapsed": false,
     "input": [
      "C = np.identity(3)\n",
      "C"
     ],
     "language": "python",
     "metadata": {},
     "outputs": [
      {
       "output_type": "pyout",
       "prompt_number": 27,
       "text": [
        "array([[ 1.,  0.,  0.],\n",
        "       [ 0.,  1.,  0.],\n",
        "       [ 0.,  0.,  1.]])"
       ]
      }
     ],
     "prompt_number": 27
    },
    {
     "cell_type": "code",
     "collapsed": false,
     "input": [
      "C = np.eye(3)\n",
      "C"
     ],
     "language": "python",
     "metadata": {},
     "outputs": [
      {
       "output_type": "pyout",
       "prompt_number": 28,
       "text": [
        "array([[ 1.,  0.,  0.],\n",
        "       [ 0.,  1.,  0.],\n",
        "       [ 0.,  0.,  1.]])"
       ]
      }
     ],
     "prompt_number": 28
    },
    {
     "cell_type": "markdown",
     "metadata": {},
     "source": [
      "#### `random`"
     ]
    },
    {
     "cell_type": "markdown",
     "metadata": {},
     "source": [
      "Uniforme no intervalo [0,1]:"
     ]
    },
    {
     "cell_type": "code",
     "collapsed": false,
     "input": [
      "A = np.random.rand(4)\n",
      "A"
     ],
     "language": "python",
     "metadata": {},
     "outputs": [
      {
       "output_type": "pyout",
       "prompt_number": 29,
       "text": [
        "array([ 0.91897208,  0.0214368 ,  0.81756282,  0.51760462])"
       ]
      }
     ],
     "prompt_number": 29
    },
    {
     "cell_type": "markdown",
     "metadata": {},
     "source": [
      "Gaussiano"
     ]
    },
    {
     "cell_type": "code",
     "collapsed": false,
     "input": [
      "A = np.random.randn(4)\n",
      "A"
     ],
     "language": "python",
     "metadata": {},
     "outputs": [
      {
       "output_type": "pyout",
       "prompt_number": 30,
       "text": [
        "array([-0.39916672,  0.06816901,  0.1304148 , -0.26886572])"
       ]
      }
     ],
     "prompt_number": 30
    },
    {
     "cell_type": "markdown",
     "metadata": {},
     "source": [
      "## Exerc\u00edcio 4\n",
      "\n",
      "Crie os seguintes *arrays* (h\u00e1 v\u00e1rias formas de faz\u00ea-lo):\n",
      "\n",
      "    1, 1, 1, 1\n",
      "    1, 1, 1, 1\n",
      "    1, 1, 1, 2\n",
      "    1, 6, 1, 1\n",
      "\n",
      "    0., 0., 0., 0., 0.\n",
      "    2., 0., 0., 0., 0.\n",
      "    0., 3., 0., 0., 0.\n",
      "    0., 0., 4., 0., 0.\n",
      "    0., 0., 0., 5., 0.\n",
      "    0., 0., 0., 0., 6."
     ]
    },
    {
     "cell_type": "markdown",
     "metadata": {},
     "source": [
      "### Solu\u00e7\u00e3o"
     ]
    },
    {
     "cell_type": "code",
     "collapsed": false,
     "input": [
      "A = np.ones((4,4))\n",
      "A[2][3] = 2\n",
      "A[3][1] = 6\n",
      "A"
     ],
     "language": "python",
     "metadata": {},
     "outputs": [
      {
       "output_type": "pyout",
       "prompt_number": 31,
       "text": [
        "array([[ 1.,  1.,  1.,  1.],\n",
        "       [ 1.,  1.,  1.,  1.],\n",
        "       [ 1.,  1.,  1.,  2.],\n",
        "       [ 1.,  6.,  1.,  1.]])"
       ]
      }
     ],
     "prompt_number": 31
    },
    {
     "cell_type": "code",
     "collapsed": false,
     "input": [
      "B = np.diag(range(2,7), -1)\n",
      "B"
     ],
     "language": "python",
     "metadata": {},
     "outputs": [
      {
       "output_type": "pyout",
       "prompt_number": 32,
       "text": [
        "array([[0, 0, 0, 0, 0, 0],\n",
        "       [2, 0, 0, 0, 0, 0],\n",
        "       [0, 3, 0, 0, 0, 0],\n",
        "       [0, 0, 4, 0, 0, 0],\n",
        "       [0, 0, 0, 5, 0, 0],\n",
        "       [0, 0, 0, 0, 6, 0]])"
       ]
      }
     ],
     "prompt_number": 32
    },
    {
     "cell_type": "code",
     "collapsed": false,
     "input": [
      "B = B[:,0:5]\n",
      "B"
     ],
     "language": "python",
     "metadata": {},
     "outputs": [
      {
       "output_type": "pyout",
       "prompt_number": 33,
       "text": [
        "array([[0, 0, 0, 0, 0],\n",
        "       [2, 0, 0, 0, 0],\n",
        "       [0, 3, 0, 0, 0],\n",
        "       [0, 0, 4, 0, 0],\n",
        "       [0, 0, 0, 5, 0],\n",
        "       [0, 0, 0, 0, 6]])"
       ]
      }
     ],
     "prompt_number": 33
    },
    {
     "cell_type": "markdown",
     "metadata": {},
     "source": [
      "## Tipos de dados\n",
      "\n",
      "Diferente de *listas*, que podem armazenar elementos de tipos diferentes, arrays devem conter elementos de **mesmo tipo**, como especificado em `dtype`."
     ]
    },
    {
     "cell_type": "code",
     "collapsed": false,
     "input": [
      "v = np.array([1,2,3])\n",
      "v.dtype"
     ],
     "language": "python",
     "metadata": {},
     "outputs": [
      {
       "output_type": "pyout",
       "prompt_number": 34,
       "text": [
        "dtype('int64')"
       ]
      }
     ],
     "prompt_number": 34
    },
    {
     "cell_type": "code",
     "collapsed": false,
     "input": [
      "v = np.array([1., 2., 3.])\n",
      "v.dtype"
     ],
     "language": "python",
     "metadata": {},
     "outputs": [
      {
       "output_type": "pyout",
       "prompt_number": 35,
       "text": [
        "dtype('float64')"
       ]
      }
     ],
     "prompt_number": 35
    },
    {
     "cell_type": "code",
     "collapsed": false,
     "input": [
      "v = np.array([1,2,3], dtype=np.float32)\n",
      "v.dtype"
     ],
     "language": "python",
     "metadata": {},
     "outputs": [
      {
       "output_type": "pyout",
       "prompt_number": 36,
       "text": [
        "dtype('float32')"
       ]
      }
     ],
     "prompt_number": 36
    },
    {
     "cell_type": "code",
     "collapsed": false,
     "input": [
      "v"
     ],
     "language": "python",
     "metadata": {},
     "outputs": [
      {
       "output_type": "pyout",
       "prompt_number": 37,
       "text": [
        "array([ 1.,  2.,  3.], dtype=float32)"
       ]
      }
     ],
     "prompt_number": 37
    },
    {
     "cell_type": "code",
     "collapsed": false,
     "input": [
      "I = np.eye(3, dtype=np.uint8)\n",
      "I"
     ],
     "language": "python",
     "metadata": {},
     "outputs": [
      {
       "output_type": "pyout",
       "prompt_number": 38,
       "text": [
        "array([[1, 0, 0],\n",
        "       [0, 1, 0],\n",
        "       [0, 0, 1]], dtype=uint8)"
       ]
      }
     ],
     "prompt_number": 38
    },
    {
     "cell_type": "markdown",
     "metadata": {},
     "source": [
      "## Sub-arrays\n"
     ]
    },
    {
     "cell_type": "code",
     "collapsed": false,
     "input": [
      "import itertools as itts\n",
      "data = [10 * i + j for i, j in itts.product(range(6), range(6))]"
     ],
     "language": "python",
     "metadata": {},
     "outputs": [],
     "prompt_number": 39
    },
    {
     "cell_type": "code",
     "collapsed": false,
     "input": [
      "A = np.array(data)\n",
      "A.shape = 6,6\n",
      "A"
     ],
     "language": "python",
     "metadata": {},
     "outputs": [
      {
       "output_type": "pyout",
       "prompt_number": 40,
       "text": [
        "array([[ 0,  1,  2,  3,  4,  5],\n",
        "       [10, 11, 12, 13, 14, 15],\n",
        "       [20, 21, 22, 23, 24, 25],\n",
        "       [30, 31, 32, 33, 34, 35],\n",
        "       [40, 41, 42, 43, 44, 45],\n",
        "       [50, 51, 52, 53, 54, 55]])"
       ]
      }
     ],
     "prompt_number": 40
    },
    {
     "cell_type": "code",
     "collapsed": false,
     "input": [
      "A[0,3:5]"
     ],
     "language": "python",
     "metadata": {},
     "outputs": [
      {
       "output_type": "pyout",
       "prompt_number": 41,
       "text": [
        "array([3, 4])"
       ]
      }
     ],
     "prompt_number": 41
    },
    {
     "cell_type": "code",
     "collapsed": false,
     "input": [
      "A[4:,4:]"
     ],
     "language": "python",
     "metadata": {},
     "outputs": [
      {
       "output_type": "pyout",
       "prompt_number": 42,
       "text": [
        "array([[44, 45],\n",
        "       [54, 55]])"
       ]
      }
     ],
     "prompt_number": 42
    },
    {
     "cell_type": "code",
     "collapsed": false,
     "input": [
      "A[:,2]"
     ],
     "language": "python",
     "metadata": {},
     "outputs": [
      {
       "output_type": "pyout",
       "prompt_number": 43,
       "text": [
        "array([ 2, 12, 22, 32, 42, 52])"
       ]
      }
     ],
     "prompt_number": 43
    },
    {
     "cell_type": "code",
     "collapsed": false,
     "input": [
      "A[2::2,::2]"
     ],
     "language": "python",
     "metadata": {},
     "outputs": [
      {
       "output_type": "pyout",
       "prompt_number": 44,
       "text": [
        "array([[20, 22, 24],\n",
        "       [40, 42, 44]])"
       ]
      }
     ],
     "prompt_number": 44
    },
    {
     "cell_type": "markdown",
     "metadata": {},
     "source": [
      "* Essas opera\u00e7\u00f5es s\u00e3o chamadas de *slicing*\n",
      "* Elas criam um **vis\u00e3o** (*view*) do *array* original, n\u00e3o uma c\u00f3pia\n",
      "* Quando uma vis\u00e3o \u00e9 modificada, o *array* original \u00e9 modificado tamb\u00e9m:"
     ]
    },
    {
     "cell_type": "code",
     "collapsed": false,
     "input": [
      "B = A[0,3:5]\n",
      "B[0] = 99\n",
      "print B\n",
      "print A"
     ],
     "language": "python",
     "metadata": {},
     "outputs": [
      {
       "output_type": "stream",
       "stream": "stdout",
       "text": [
        "[99  4]\n",
        "[[ 0  1  2 99  4  5]\n",
        " [10 11 12 13 14 15]\n",
        " [20 21 22 23 24 25]\n",
        " [30 31 32 33 34 35]\n",
        " [40 41 42 43 44 45]\n",
        " [50 51 52 53 54 55]]\n"
       ]
      }
     ],
     "prompt_number": 45
    },
    {
     "cell_type": "code",
     "collapsed": false,
     "input": [
      "# C\u00f3pia!\n",
      "A = np.array(data)\n",
      "A.shape = 6,6\n",
      "B = A[0,3:5].copy()\n",
      "B[0] = 99\n",
      "print B\n",
      "print A"
     ],
     "language": "python",
     "metadata": {},
     "outputs": [
      {
       "output_type": "stream",
       "stream": "stdout",
       "text": [
        "[99  4]\n",
        "[[ 0  1  2  3  4  5]\n",
        " [10 11 12 13 14 15]\n",
        " [20 21 22 23 24 25]\n",
        " [30 31 32 33 34 35]\n",
        " [40 41 42 43 44 45]\n",
        " [50 51 52 53 54 55]]\n"
       ]
      }
     ],
     "prompt_number": 46
    },
    {
     "cell_type": "markdown",
     "metadata": {},
     "source": [
      "## *Fancy indexing*\n",
      "\n",
      "* Podemos utilizar **m\u00e1scaras** para selecionar os elementos de um *array*"
     ]
    },
    {
     "cell_type": "code",
     "collapsed": false,
     "input": [
      "A = np.array(data)\n",
      "A.shape = 6,6\n",
      "A"
     ],
     "language": "python",
     "metadata": {},
     "outputs": [
      {
       "output_type": "pyout",
       "prompt_number": 47,
       "text": [
        "array([[ 0,  1,  2,  3,  4,  5],\n",
        "       [10, 11, 12, 13, 14, 15],\n",
        "       [20, 21, 22, 23, 24, 25],\n",
        "       [30, 31, 32, 33, 34, 35],\n",
        "       [40, 41, 42, 43, 44, 45],\n",
        "       [50, 51, 52, 53, 54, 55]])"
       ]
      }
     ],
     "prompt_number": 47
    },
    {
     "cell_type": "code",
     "collapsed": false,
     "input": [
      "mask = A % 3 == 0\n",
      "mask"
     ],
     "language": "python",
     "metadata": {},
     "outputs": [
      {
       "output_type": "pyout",
       "prompt_number": 48,
       "text": [
        "array([[ True, False, False,  True, False, False],\n",
        "       [False, False,  True, False, False,  True],\n",
        "       [False,  True, False, False,  True, False],\n",
        "       [ True, False, False,  True, False, False],\n",
        "       [False, False,  True, False, False,  True],\n",
        "       [False,  True, False, False,  True, False]], dtype=bool)"
       ]
      }
     ],
     "prompt_number": 48
    },
    {
     "cell_type": "code",
     "collapsed": false,
     "input": [
      "A[mask]"
     ],
     "language": "python",
     "metadata": {},
     "outputs": [
      {
       "output_type": "pyout",
       "prompt_number": 49,
       "text": [
        "array([ 0,  3, 12, 15, 21, 24, 30, 33, 42, 45, 51, 54])"
       ]
      }
     ],
     "prompt_number": 49
    },
    {
     "cell_type": "markdown",
     "metadata": {},
     "source": [
      "Podemos tamb\u00e9m aplicar uma m\u00e1scara booleana diretamente:"
     ]
    },
    {
     "cell_type": "code",
     "collapsed": false,
     "input": [
      "B = A[A % 3 == 0]\n",
      "B # importante: B \u00e9 uma c\u00f3pia"
     ],
     "language": "python",
     "metadata": {},
     "outputs": [
      {
       "output_type": "pyout",
       "prompt_number": 50,
       "text": [
        "array([ 0,  3, 12, 15, 21, 24, 30, 33, 42, 45, 51, 54])"
       ]
      }
     ],
     "prompt_number": 50
    },
    {
     "cell_type": "markdown",
     "metadata": {},
     "source": [
      "* *Fancy indexing* tamb\u00e9m pode ser feito a partir de um *array de \u00edndices*:"
     ]
    },
    {
     "cell_type": "code",
     "collapsed": false,
     "input": [
      "v = array([10 * i for i in range(10)])\n",
      "v"
     ],
     "language": "python",
     "metadata": {},
     "outputs": [
      {
       "output_type": "pyout",
       "prompt_number": 51,
       "text": [
        "array([ 0, 10, 20, 30, 40, 50, 60, 70, 80, 90])"
       ]
      }
     ],
     "prompt_number": 51
    },
    {
     "cell_type": "code",
     "collapsed": false,
     "input": [
      "v[[1,5,6,8]]"
     ],
     "language": "python",
     "metadata": {},
     "outputs": [
      {
       "output_type": "pyout",
       "prompt_number": 52,
       "text": [
        "array([10, 50, 60, 80])"
       ]
      }
     ],
     "prompt_number": 52
    },
    {
     "cell_type": "code",
     "collapsed": false,
     "input": [
      "A"
     ],
     "language": "python",
     "metadata": {},
     "outputs": [
      {
       "output_type": "pyout",
       "prompt_number": 53,
       "text": [
        "array([[ 0,  1,  2,  3,  4,  5],\n",
        "       [10, 11, 12, 13, 14, 15],\n",
        "       [20, 21, 22, 23, 24, 25],\n",
        "       [30, 31, 32, 33, 34, 35],\n",
        "       [40, 41, 42, 43, 44, 45],\n",
        "       [50, 51, 52, 53, 54, 55]])"
       ]
      }
     ],
     "prompt_number": 53
    },
    {
     "cell_type": "code",
     "collapsed": false,
     "input": [
      "A[(0,1,2,3,4),(1,2,3,4,5)]"
     ],
     "language": "python",
     "metadata": {},
     "outputs": [
      {
       "output_type": "pyout",
       "prompt_number": 54,
       "text": [
        "array([ 1, 12, 23, 34, 45])"
       ]
      }
     ],
     "prompt_number": 54
    },
    {
     "cell_type": "markdown",
     "metadata": {},
     "source": [
      "## Opera\u00e7\u00f5es com *arrays*"
     ]
    },
    {
     "cell_type": "markdown",
     "metadata": {},
     "source": [
      "Escalar e *array*:"
     ]
    },
    {
     "cell_type": "code",
     "collapsed": false,
     "input": [
      "v = arange(10)\n",
      "v"
     ],
     "language": "python",
     "metadata": {},
     "outputs": [
      {
       "output_type": "pyout",
       "prompt_number": 55,
       "text": [
        "array([0, 1, 2, 3, 4, 5, 6, 7, 8, 9])"
       ]
      }
     ],
     "prompt_number": 55
    },
    {
     "cell_type": "code",
     "collapsed": false,
     "input": [
      "v + 1"
     ],
     "language": "python",
     "metadata": {},
     "outputs": [
      {
       "output_type": "pyout",
       "prompt_number": 56,
       "text": [
        "array([ 1,  2,  3,  4,  5,  6,  7,  8,  9, 10])"
       ]
      }
     ],
     "prompt_number": 56
    },
    {
     "cell_type": "code",
     "collapsed": false,
     "input": [
      "2**v"
     ],
     "language": "python",
     "metadata": {},
     "outputs": [
      {
       "output_type": "pyout",
       "prompt_number": 57,
       "text": [
        "array([  1,   2,   4,   8,  16,  32,  64, 128, 256, 512])"
       ]
      }
     ],
     "prompt_number": 57
    },
    {
     "cell_type": "markdown",
     "metadata": {},
     "source": [
      "Entre *arrays*, elemento por elemento:"
     ]
    },
    {
     "cell_type": "code",
     "collapsed": false,
     "input": [
      "A = np.ones((3,3))\n",
      "B = 2 * np.ones((3,3))\n",
      "print A\n",
      "print B"
     ],
     "language": "python",
     "metadata": {},
     "outputs": [
      {
       "output_type": "stream",
       "stream": "stdout",
       "text": [
        "[[ 1.  1.  1.]\n",
        " [ 1.  1.  1.]\n",
        " [ 1.  1.  1.]]\n",
        "[[ 2.  2.  2.]\n",
        " [ 2.  2.  2.]\n",
        " [ 2.  2.  2.]]\n"
       ]
      }
     ],
     "prompt_number": 58
    },
    {
     "cell_type": "code",
     "collapsed": false,
     "input": [
      "A + B"
     ],
     "language": "python",
     "metadata": {},
     "outputs": [
      {
       "output_type": "pyout",
       "prompt_number": 59,
       "text": [
        "array([[ 3.,  3.,  3.],\n",
        "       [ 3.,  3.,  3.],\n",
        "       [ 3.,  3.,  3.]])"
       ]
      }
     ],
     "prompt_number": 59
    },
    {
     "cell_type": "code",
     "collapsed": false,
     "input": [
      "A * B"
     ],
     "language": "python",
     "metadata": {},
     "outputs": [
      {
       "output_type": "pyout",
       "prompt_number": 60,
       "text": [
        "array([[ 2.,  2.,  2.],\n",
        "       [ 2.,  2.,  2.],\n",
        "       [ 2.,  2.,  2.]])"
       ]
      }
     ],
     "prompt_number": 60
    },
    {
     "cell_type": "markdown",
     "metadata": {},
     "source": [
      "**Importante**: multiplica\u00e7\u00e3o de *arrays* n\u00e3o equivale \u00e0 multiplica\u00e7\u00e3o de matrizes"
     ]
    },
    {
     "cell_type": "code",
     "collapsed": false,
     "input": [
      "np.dot(A, B)"
     ],
     "language": "python",
     "metadata": {},
     "outputs": [
      {
       "output_type": "pyout",
       "prompt_number": 61,
       "text": [
        "array([[ 6.,  6.,  6.],\n",
        "       [ 6.,  6.,  6.],\n",
        "       [ 6.,  6.,  6.]])"
       ]
      }
     ],
     "prompt_number": 61
    },
    {
     "cell_type": "markdown",
     "metadata": {},
     "source": [
      "Transposi\u00e7\u00e3o:"
     ]
    },
    {
     "cell_type": "code",
     "collapsed": false,
     "input": [
      "A = np.arange(12)\n",
      "A.shape = 3,4\n",
      "A"
     ],
     "language": "python",
     "metadata": {},
     "outputs": [
      {
       "output_type": "pyout",
       "prompt_number": 62,
       "text": [
        "array([[ 0,  1,  2,  3],\n",
        "       [ 4,  5,  6,  7],\n",
        "       [ 8,  9, 10, 11]])"
       ]
      }
     ],
     "prompt_number": 62
    },
    {
     "cell_type": "code",
     "collapsed": false,
     "input": [
      "A.T"
     ],
     "language": "python",
     "metadata": {},
     "outputs": [
      {
       "output_type": "pyout",
       "prompt_number": 63,
       "text": [
        "array([[ 0,  4,  8],\n",
        "       [ 1,  5,  9],\n",
        "       [ 2,  6, 10],\n",
        "       [ 3,  7, 11]])"
       ]
      }
     ],
     "prompt_number": 63
    },
    {
     "cell_type": "markdown",
     "metadata": {},
     "source": [
      "Compara\u00e7\u00f5es:"
     ]
    },
    {
     "cell_type": "code",
     "collapsed": false,
     "input": [
      "u = random.rand(5)\n",
      "u"
     ],
     "language": "python",
     "metadata": {},
     "outputs": [
      {
       "output_type": "pyout",
       "prompt_number": 64,
       "text": [
        "array([ 0.16842063,  0.17685553,  0.01508743,  0.86775508,  0.52999169])"
       ]
      }
     ],
     "prompt_number": 64
    },
    {
     "cell_type": "code",
     "collapsed": false,
     "input": [
      "v = random.rand(5)\n",
      "v"
     ],
     "language": "python",
     "metadata": {},
     "outputs": [
      {
       "output_type": "pyout",
       "prompt_number": 65,
       "text": [
        "array([ 0.04621188,  0.34961723,  0.61823557,  0.32773617,  0.97624271])"
       ]
      }
     ],
     "prompt_number": 65
    },
    {
     "cell_type": "code",
     "collapsed": false,
     "input": [
      "u > v"
     ],
     "language": "python",
     "metadata": {},
     "outputs": [
      {
       "output_type": "pyout",
       "prompt_number": 66,
       "text": [
        "array([ True, False, False,  True, False], dtype=bool)"
       ]
      }
     ],
     "prompt_number": 66
    },
    {
     "cell_type": "markdown",
     "metadata": {},
     "source": [
      "## \u00c1lgebra linear\n",
      "\n",
      "* Opera\u00e7\u00f5es de \u00e1lgebra linear s\u00e3o implementadas em `numpy.linalg`\n",
      "* Por\u00e9m, no geral, essas implementa\u00e7\u00f5es **n\u00e3o s\u00e3o eficientes**\n",
      "* O m\u00f3dulo `scipy.linalg` \u00e9 melhor otimizado e deve ser preferido"
     ]
    },
    {
     "cell_type": "markdown",
     "metadata": {},
     "source": [
      "## Exerc\u00edcio 5\n",
      "\n",
      "* Imagens podem ser pensadas como matrizes\n",
      "* Cada valor representa uma intensidade luminosa naquela posi\u00e7\u00e3o"
     ]
    },
    {
     "cell_type": "code",
     "collapsed": false,
     "input": [
      "from scipy.misc import lena"
     ],
     "language": "python",
     "metadata": {},
     "outputs": [],
     "prompt_number": 67
    },
    {
     "cell_type": "code",
     "collapsed": false,
     "input": [
      "I = lena()\n",
      "I"
     ],
     "language": "python",
     "metadata": {},
     "outputs": [
      {
       "output_type": "pyout",
       "prompt_number": 68,
       "text": [
        "array([[162, 162, 162, ..., 170, 155, 128],\n",
        "       [162, 162, 162, ..., 170, 155, 128],\n",
        "       [162, 162, 162, ..., 170, 155, 128],\n",
        "       ..., \n",
        "       [ 43,  43,  50, ..., 104, 100,  98],\n",
        "       [ 44,  44,  55, ..., 104, 105, 108],\n",
        "       [ 44,  44,  55, ..., 104, 105, 108]])"
       ]
      }
     ],
     "prompt_number": 68
    },
    {
     "cell_type": "code",
     "collapsed": false,
     "input": [
      "imshow(I, cmap=cm.gray)"
     ],
     "language": "python",
     "metadata": {},
     "outputs": [
      {
       "output_type": "pyout",
       "prompt_number": 69,
       "text": [
        "<matplotlib.image.AxesImage at 0x2b85e90>"
       ]
      },
      {
       "output_type": "display_data",
       "png": "[encoded data removed]"
      }
     ],
     "prompt_number": 69
    },
    {
     "cell_type": "markdown",
     "metadata": {},
     "source": [
      "### Exerc\u00edcio 5.1\n",
      "\n",
      "As intensidades luminosas est\u00e3o representadas inteiros entre 0 (preto) e 255 (branco). Utilize *slicing* para criar um **borda branca** na imagem, isto \u00e9, modificar as bordas da matriz para que assumam o valor 255 (branco)."
     ]
    },
    {
     "cell_type": "markdown",
     "metadata": {},
     "source": [
      "#### Solu\u00e7\u00e3o"
     ]
    },
    {
     "cell_type": "code",
     "collapsed": false,
     "input": [
      "B = I.copy()\n",
      "B[0:13, :] = 255\n",
      "B[:, 0:13] = 255\n",
      "B[-13:-1, :] = 255\n",
      "B[:, -13:-1] = 255\n",
      "imshow(B, cmap=cm.gray)"
     ],
     "language": "python",
     "metadata": {},
     "outputs": [
      {
       "output_type": "pyout",
       "prompt_number": 70,
       "text": [
        "<matplotlib.image.AxesImage at 0x2c95f50>"
       ]
      },
      {
       "output_type": "display_data",
       "png": "[encoded data removed]"
      }
     ],
     "prompt_number": 70
    },
    {
     "cell_type": "markdown",
     "metadata": {},
     "source": [
      "### Exerc\u00edcio 5.2\n",
      "\n",
      "**Limiariza\u00e7\u00e3o (*thresholding*)** - uma opera\u00e7\u00e3o comum em processamento de imagens, chamada de limiariza\u00e7\u00e3o, consiste em realizar o seguinte procedimento em cada pixel:\n",
      "\n",
      "$I'[x,y] \\leftarrow 255 \\; \\textrm{sse $I[x,y] > k$, 0 caso contr\u00e1rio}$\n",
      "\n",
      "o valor $k$ \u00e9 chamado de **limiar** (*threshold*). Implemente a limiariza\u00e7\u00e3o na imagem da *Lena*. Teste diferentes valores de $k$, como por exemplo 32, 64, 128."
     ]
    },
    {
     "cell_type": "markdown",
     "metadata": {},
     "source": [
      "#### Solu\u00e7\u00e3o"
     ]
    },
    {
     "cell_type": "code",
     "collapsed": false,
     "input": [
      "R = zeros_like(I)\n",
      "R[I > 128] = 255\n",
      "imshow(R, cmap=cm.gray)"
     ],
     "language": "python",
     "metadata": {},
     "outputs": [
      {
       "output_type": "pyout",
       "prompt_number": 71,
       "text": [
        "<matplotlib.image.AxesImage at 0x3850b50>"
       ]
      },
      {
       "output_type": "display_data",
       "png": "[encoded data removed]"
      }
     ],
     "prompt_number": 71
    },
    {
     "cell_type": "markdown",
     "metadata": {},
     "source": [
      "## *E os meus dados?*"
     ]
    },
    {
     "cell_type": "code",
     "collapsed": false,
     "input": [
      "!cat populations.txt"
     ],
     "language": "python",
     "metadata": {},
     "outputs": [
      {
       "output_type": "stream",
       "stream": "stdout",
       "text": [
        "# year\thare\tlynx\tcarrot\r\n",
        "1900\t30e3\t4e3\t48300\r\n",
        "1901\t47.2e3\t6.1e3\t48200\r\n",
        "1902\t70.2e3\t9.8e3\t41500\r\n",
        "1903\t77.4e3\t35.2e3\t38200\r\n",
        "1904\t36.3e3\t59.4e3\t40600\r\n",
        "1905\t20.6e3\t41.7e3\t39800\r\n",
        "1906\t18.1e3\t19e3\t38600\r\n",
        "1907\t21.4e3\t13e3\t42300\r\n",
        "1908\t22e3\t8.3e3\t44500\r\n",
        "1909\t25.4e3\t9.1e3\t42100\r\n",
        "1910\t27.1e3\t7.4e3\t46000\r\n",
        "1911\t40.3e3\t8e3\t46800\r\n",
        "1912\t57e3\t12.3e3\t43800\r\n",
        "1913\t76.6e3\t19.5e3\t40900\r\n",
        "1914\t52.3e3\t45.7e3\t39400\r\n",
        "1915\t19.5e3\t51.1e3\t39000\r\n",
        "1916\t11.2e3\t29.7e3\t36700\r\n",
        "1917\t7.6e3\t15.8e3\t41800\r\n",
        "1918\t14.6e3\t9.7e3\t43300\r\n",
        "1919\t16.2e3\t10.1e3\t41300\r\n",
        "1920\t24.7e3\t8.6e3\t47300\r\n"
       ]
      }
     ],
     "prompt_number": 72
    },
    {
     "cell_type": "code",
     "collapsed": false,
     "input": [
      "populations = loadtxt('populations.txt')"
     ],
     "language": "python",
     "metadata": {},
     "outputs": [],
     "prompt_number": 73
    },
    {
     "cell_type": "code",
     "collapsed": false,
     "input": [
      "populations"
     ],
     "language": "python",
     "metadata": {},
     "outputs": [
      {
       "output_type": "pyout",
       "prompt_number": 74,
       "text": [
        "array([[  1900.,  30000.,   4000.,  48300.],\n",
        "       [  1901.,  47200.,   6100.,  48200.],\n",
        "       [  1902.,  70200.,   9800.,  41500.],\n",
        "       [  1903.,  77400.,  35200.,  38200.],\n",
        "       [  1904.,  36300.,  59400.,  40600.],\n",
        "       [  1905.,  20600.,  41700.,  39800.],\n",
        "       [  1906.,  18100.,  19000.,  38600.],\n",
        "       [  1907.,  21400.,  13000.,  42300.],\n",
        "       [  1908.,  22000.,   8300.,  44500.],\n",
        "       [  1909.,  25400.,   9100.,  42100.],\n",
        "       [  1910.,  27100.,   7400.,  46000.],\n",
        "       [  1911.,  40300.,   8000.,  46800.],\n",
        "       [  1912.,  57000.,  12300.,  43800.],\n",
        "       [  1913.,  76600.,  19500.,  40900.],\n",
        "       [  1914.,  52300.,  45700.,  39400.],\n",
        "       [  1915.,  19500.,  51100.,  39000.],\n",
        "       [  1916.,  11200.,  29700.,  36700.],\n",
        "       [  1917.,   7600.,  15800.,  41800.],\n",
        "       [  1918.,  14600.,   9700.,  43300.],\n",
        "       [  1919.,  16200.,  10100.,  41300.],\n",
        "       [  1920.,  24700.,   8600.,  47300.]])"
       ]
      }
     ],
     "prompt_number": 74
    },
    {
     "cell_type": "code",
     "collapsed": false,
     "input": [
      "year = populations[:,0]\n",
      "hare = populations[:,1]\n",
      "lynx = populations[:,2]\n",
      "carrot = populations[:,3]\n",
      "plot(year, hare, 'b-')\n",
      "plot(year, lynx, 'r-')\n",
      "plot(year, carrot, 'g-')\n",
      "title(u'Popula\u00e7\u00e3o')\n",
      "legend(('Lebre', 'Lince', 'Cenouras'))"
     ],
     "language": "python",
     "metadata": {},
     "outputs": [
      {
       "output_type": "pyout",
       "prompt_number": 75,
       "text": [
        "<matplotlib.legend.Legend at 0x3885a50>"
       ]
      },
      {
       "output_type": "display_data",
       "png": "[encoded data removed]"
      }
     ],
     "prompt_number": 75
    },
    {
     "cell_type": "markdown",
     "metadata": {},
     "source": [
      "* De modo similar, `savetxt` pode ser utilizado para salvar as matrizes em **arquivo texto**.\n",
      "* NumPy tamb\u00e9m possui uma fun\u00e7\u00e3o `save` que salva as matrizes um **formato bin\u00e1rio** pr\u00f3prio."
     ]
    },
    {
     "cell_type": "markdown",
     "metadata": {},
     "source": [
      "## Um exemplo: Cadeias de Markov\n",
      "\n",
      "* Este exemplo foi retirado e modificado a partir da Wikipedia, [*Examples of Markov chains*](http://en.wikipedia.org/wiki/Examples_of_Markov_chains).\n",
      "\n",
      "### Um modelo de clima muito simples\n",
      "\n",
      "![Modelo de clima](http://upload.wikimedia.org/wikipedia/commons/7/7a/Markov_Chain_weather_model_matrix_as_a_graph.png)\n",
      "\n",
      "As probabilidades do dia ser *chuvoso* ou *ensolarado*, dado o clima do dia anterior, podem ser representadas a partir de uma **matriz de transi\u00e7\u00e3o**:"
     ]
    },
    {
     "cell_type": "code",
     "collapsed": false,
     "input": [
      "P = np.array([[0.9, 0.1],\n",
      "              [0.5, 0.5]])\n",
      "P"
     ],
     "language": "python",
     "metadata": {},
     "outputs": [
      {
       "output_type": "pyout",
       "prompt_number": 76,
       "text": [
        "array([[ 0.9,  0.1],\n",
        "       [ 0.5,  0.5]])"
       ]
      }
     ],
     "prompt_number": 76
    },
    {
     "cell_type": "markdown",
     "metadata": {},
     "source": [
      "A matriz $\\mathrm{\\tt P}$ representa um modelo de clima no qual h\u00e1 uma chance de 90% de um dia ensolarado se seguido por outro dia de sol e uma chance de 50% de um dia chuvoso se seguir a outro dia de chuva. As *colunas* podem ser rotuladas como *ensolarado* e *chuvoso* e as linhas na mesma ordem. \n",
      "\n",
      "Deta forma `P[i,j]` \u00e9 a probabilidade de um dia do tipo $i$ ser seguido por um dia do tipo $j$ (note que as linhas somam 1)."
     ]
    },
    {
     "cell_type": "markdown",
     "metadata": {},
     "source": [
      "#### Previs\u00e3o do tempo\n",
      "\n",
      "Considere que o tempo no primeiro dia foi ensolarado. Podemos representar este dia atrav\u00e9s de um vetor no qual o campo *ensolarado* \u00e9 100% e o campo *chuvoso* \u00e9 0:"
     ]
    },
    {
     "cell_type": "code",
     "collapsed": false,
     "input": [
      "x0 = np.array([1., 0])\n",
      "x0"
     ],
     "language": "python",
     "metadata": {},
     "outputs": [
      {
       "output_type": "pyout",
       "prompt_number": 77,
       "text": [
        "array([ 1.,  0.])"
       ]
      }
     ],
     "prompt_number": 77
    },
    {
     "cell_type": "markdown",
     "metadata": {},
     "source": [
      "A previs\u00e3o do tempo para o dia seguinte pode ser dada por:"
     ]
    },
    {
     "cell_type": "code",
     "collapsed": false,
     "input": [
      "x1 = x0.dot(P)\n",
      "x1"
     ],
     "language": "python",
     "metadata": {},
     "outputs": [
      {
       "output_type": "pyout",
       "prompt_number": 78,
       "text": [
        "array([ 0.9,  0.1])"
       ]
      }
     ],
     "prompt_number": 78
    },
    {
     "cell_type": "markdown",
     "metadata": {},
     "source": [
      "E no pr\u00f3ximo:"
     ]
    },
    {
     "cell_type": "code",
     "collapsed": false,
     "input": [
      "x2 = x1.dot(P)\n",
      "x2"
     ],
     "language": "python",
     "metadata": {},
     "outputs": [
      {
       "output_type": "pyout",
       "prompt_number": 79,
       "text": [
        "array([ 0.86,  0.14])"
       ]
      }
     ],
     "prompt_number": 79
    }
   ],
   "metadata": {}
  }
 ]
}