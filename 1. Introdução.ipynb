{
 "metadata": {
  "celltoolbar": "Slideshow",
  "name": "",
  "signature": "sha256:c35d2e4e2f8d2d51e4c51464dbbb5a59213e23300e256d06aa88f84ca2ea83a9"
 },
 "nbformat": 3,
 "nbformat_minor": 0,
 "worksheets": [
  {
   "cells": [
    {
     "cell_type": "markdown",
     "metadata": {
      "slideshow": {
       "slide_type": "slide"
      }
     },
     "source": [
      "# Introdu\u00e7\u00e3o\n",
      "\n",
      "Este curso \u00e9 baseado nas [*Scipy lecture notes*](http://scipy-lectures.github.io/intro/intro.html).\n",
      "\n",
      "## Computa\u00e7\u00e3o cient\u00edfica\n",
      "\n",
      "* H\u00e1 um conjunto vasto de ferramentas que deveria estar dispon\u00edvel\n",
      "* **N\u00e3o** desejamos re-implementar:\n",
      "  * *plotting*\n",
      "  * a Transformada de Fourier\n",
      "  * m\u00ednimos quadrados;\n",
      "  * a solu\u00e7\u00e3o de $\\mathrm{\\tt A} \\mathbf{x} = \\mathbf{b}$\n",
      "  * etc.\n",
      "* C\u00f3digo deveria ser *leg\u00edvel como em um livro*\n",
      "* Tempo de desenvolvimento deve ser **curto**\n",
      "  * (pois explorar ideias deveria ser **r\u00e1pido**)\n",
      "\n"
     ]
    },
    {
     "cell_type": "markdown",
     "metadata": {
      "slideshow": {
       "slide_type": "slide"
      }
     },
     "source": [
      "## Solu\u00e7\u00f5es existentes\n",
      "\n",
      "### Linguagens compiladas como C/C++ e Fortran\n",
      "\n",
      "* Vantagens:\n",
      "  * execu\u00e7\u00e3o *r\u00e1pida*;\n",
      "  * h\u00e1 rotinas cient\u00edficas em c\u00f3digo extremamente eficiente e otimizado\n",
      "    * *Exemplo*: BLAS (opera\u00e7\u00f5es com vetores e matrizes)\n",
      "* Desvantagens:\n",
      "  * n\u00e3o s\u00e3o interativas;\n",
      "  * gerenciamento de mem\u00f3ria deve ser realizado pelo programador;\n",
      "  * tempo de desenvolvimento \u00e9 **longo** \n",
      "       * ciclo de edi\u00e7\u00e3o-compila\u00e7\u00e3o-execu\u00e7\u00e3o\n",
      "       * depura\u00e7\u00e3o\n",
      "       * mesmo opera\u00e7\u00f5es simples podem requisitar muitas linhas de c\u00f3digo"
     ]
    },
    {
     "cell_type": "markdown",
     "metadata": {
      "slideshow": {
       "slide_type": "slide"
      }
     },
     "source": [
      "### Matlab\n",
      "\n",
      "* Vantagens:\n",
      "  * rica cole\u00e7\u00e3o de rotinas cient\u00edficas;\n",
      "  * bom ambiente de desenvolvimento;\n",
      "  * suporte comercial.\n",
      "* Desvantagens:\n",
      "  * n\u00e3o \u00e9 livre ou gratuita e\n",
      "  * linguagem \u00e9 pobre e restritiva para usu\u00e1rios mais avan\u00e7ados."
     ]
    },
    {
     "cell_type": "markdown",
     "metadata": {
      "slideshow": {
       "slide_type": "slide"
      }
     },
     "source": [
      "### Scilab, Octave, R, etc.\n",
      "\n",
      "* Vantagens:\n",
      "  * c\u00f3digo aberto;\n",
      "  * bastante avan\u00e7adas em certos dom\u00ednios \n",
      "       * *Exemplo*: R para estat\u00edstica\n",
      "* Desvantagens:\n",
      "  * menos recursos dispon\u00edveis se comparadas ao Matlab;\n",
      "  * linguagem pobre"
     ]
    },
    {
     "cell_type": "markdown",
     "metadata": {
      "slideshow": {
       "slide_type": "slide"
      }
     },
     "source": [
      "### Python\n",
      "\n",
      "* Vantagens:\n",
      "  * bibliotecas cient\u00edficas muito ricas;\n",
      "  * linguagem poderosa e elegante;\n",
      "  * diversas bibliotecas dedicadas a dom\u00ednios al\u00e9m da computa\u00e7\u00e3o cient\u00edfica (web servers, rede, banco de dados, etc.);\n",
      "  * c\u00f3digo-aberto;\n",
      "  * uma **gigantesca comunidade de usu\u00e1rios**\n",
      "* Desvantagens:\n",
      "  * carece de alguns algoritmos que podem ser encontrados em *toolboxes* especializadas\n",
      "\n",
      "![Otimiza\u00e7\u00e3o do qu\u00ea?](https://raw.github.com/jrjohansson/scientific-python-lectures/master/images/optimizing-what.png)\n",
      "\n",
      "Imagem: J.R. Johansson, [*Introduction to scientific computing with Python*](http://nbviewer.ipython.org/urls/raw.github.com/jrjohansson/scientific-python-lectures/master/Lecture-0-Scientific-Computing-with-Python.ipynb)"
     ]
    },
    {
     "cell_type": "markdown",
     "metadata": {
      "slideshow": {
       "slide_type": "slide"
      }
     },
     "source": [
      "## Python para Computa\u00e7\u00e3o Cient\u00edfica: componentes\n",
      "\n",
      "* **IPython** - interpretador de comandos\n",
      "* **Numpy** - fornece uma implementa\u00e7\u00e3o eficiente para *arrays N-dimensionais*\n",
      "* **Scipy** - diversas rotinas cientificas:\n",
      "  * otimiza\u00e7\u00e3o,\n",
      "  * regress\u00e3o,\n",
      "  * interpola\u00e7\u00e3o\n",
      "  * e muitas outras\n",
      "* **Matplotlib** - visualiza\u00e7\u00e3o cient\u00edfica (*plotting*)\n",
      "* **Mayavi** - visualiza\u00e7\u00e3o cient\u00edfica 3D\n",
      "\n",
      "### Enriquecendo o ambiente cient\u00edfico\n",
      "\n",
      "* **Scikit-learn** - aprendizado de m\u00e1quina (*machine learning*)\n",
      "* **Pandas** - an\u00e1lise de s\u00e9ries temporais\n",
      "* **SymPy** - matem\u00e1tica simb\u00f3lica (polin\u00f4mios, c\u00e1lculo diferencial e integral, resolu\u00e7\u00e3o de equa\u00e7\u00f5es,...)"
     ]
    },
    {
     "cell_type": "markdown",
     "metadata": {
      "slideshow": {
       "slide_type": "slide"
      }
     },
     "source": [
      "## Materiais\n",
      "\n",
      "Os **notebooks IPython** com o conte\u00fado do curso est\u00e3o dispon\u00edveis em\n",
      "\n",
      "[http://nbviewer.ipython.org/github/thsant/scipy4cv](http://nbviewer.ipython.org/github/thsant/scipy4cv) \n",
      "\n",
      "e no GitHub:\n",
      "\n",
      "[https://github.com/thsant/scipy4cv](https://github.com/thsant/scipy4cv) "
     ]
    },
    {
     "cell_type": "markdown",
     "metadata": {
      "slideshow": {
       "slide_type": "slide"
      }
     },
     "source": [
      "## Instala\u00e7\u00e3o\n",
      "\n",
      "### Windows and Mac\n",
      "\n",
      "Usu\u00e1rios do Windows e do deveriam considerar a **distribui\u00e7\u00e3o Anaconda da Continuum Analytics**\n",
      "\n",
      "[http://continuum.io/downloads](http://continuum.io/downloads)"
     ]
    },
    {
     "cell_type": "markdown",
     "metadata": {
      "slideshow": {
       "slide_type": "slide"
      }
     },
     "source": [
      "### Linux\n",
      "\n",
      "- Consider your system's package manager\n",
      "- For Debian/Ubuntu:\n",
      "\n",
      "        $ sudo apt-get install ipython ipython-qtconsole ipython-notebook\n",
      "        \n",
      "        $ sudo apt-get install python-scipy python-sklearn"
     ]
    },
    {
     "cell_type": "markdown",
     "metadata": {
      "slideshow": {
       "slide_type": "fragment"
      }
     },
     "source": [
      "### Alternativa: `pip`\n",
      "\n",
      "    $ pip install ipython scipy scikit-learn"
     ]
    }
   ],
   "metadata": {}
  }
 ]
}