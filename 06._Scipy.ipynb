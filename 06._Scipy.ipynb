{
 "metadata": {
  "celltoolbar": "Slideshow",
  "name": "",
  "signature": "sha256:bc0f560db013cb769e5779534526a34fc157f099572fddced358599cbc8f065a"
 },
 "nbformat": 3,
 "nbformat_minor": 0,
 "worksheets": [
  {
   "cells": [
    {
     "cell_type": "markdown",
     "metadata": {
      "slideshow": {
       "slide_type": "slide"
      }
     },
     "source": [
      "# A biblioteca SciPy"
     ]
    },
    {
     "cell_type": "markdown",
     "metadata": {
      "slideshow": {
       "slide_type": "notes"
      }
     },
     "source": [
      "A biblioteca SciPy implementa uma vasta gama de algoritmos em computa\u00e7\u00e3o cient\u00edfica, divididos em v\u00e1rios m\u00f3dulos:"
     ]
    },
    {
     "cell_type": "markdown",
     "metadata": {
      "slideshow": {
       "slide_type": "slide"
      }
     },
     "source": [
      "* `scipy.cluster` - K-m\u00e9dias, *vector quantization*\n",
      "* `scipy.constants` - constantes f\u00edsicas e matem\u00e1ticas\n",
      "* `scipy.fftpack` - transformada de Fourier\n",
      "* `scipy.integrate` - integra\u00e7\u00e3o\n",
      "* `scipy.interpolate` - interpola\u00e7\u00e3o\n",
      "* `scipy.io` - IO, permite a leitura de arquivos `.mat` (Matlab)\n",
      "* `scipy.linalg` - \u00e1lgebra linear\n",
      "* `scipy.ndimage` - processamento de sinais $n$-dimensionais\n",
      "* `scipy.odr` - regress\u00e3o \n",
      "* `scipy.optimize` - otimiza\u00e7\u00e3o\n",
      "    * BFGS, m\u00e9todo de Newton, ra\u00edzes de fun\u00e7\u00f5es, *simulated annealing*,...\n",
      "* `scipy.signal` - processamento de sinais\n",
      "* `scipy.sparse` - matrizes esparsas\n",
      "* `scipy.spatial` - algoritmos e estruturas de dados espaciais\n",
      "    * KD-Trees, Voronoi, Delaunay e fecho convexo\n",
      "* `scipy.special` - fun\u00e7\u00f5es matem\u00e1ticas diversas\n",
      "    * Bessel, fun\u00e7\u00f5es el\u00edpticas, hipergeom\u00e9tricas, parab\u00f3licas,...\n",
      "* `scipy.stats` - estat\u00edstica"
     ]
    },
    {
     "cell_type": "markdown",
     "metadata": {
      "slideshow": {
       "slide_type": "notes"
      }
     },
     "source": [
      "SciPy pode ser vista como uma biblioteca equivalente \u00e0 GSL (*GNU Scientific Library* C/C++) ou a v\u00e1rias *toolboxes* de MATLAB. SciPy faz uso da NumPy para produzir implementa\u00e7\u00f5es eficientes. \n",
      "\n",
      "O pesquisador deveria preferir implementa\u00e7\u00f5es oferecidas pela SciPy, como argumentado nas [Python scientific lecture notes](http://scipy-lectures.github.io/intro/scipy.html):\n",
      "\n",
      "> Antes de implementr uma rotina, \u00e9 importante checar se o processamento desejado j\u00e1 n\u00e3o se encontra implementado na SciPy. Como programadores, cientistas geralmente tendem a reinventar a roda, o que leva a c\u00f3digo incorreto, n\u00e3o-otimizado e dif\u00edcil de ser compartilhado e mantido. Em contraste, as rotinas da SciPy s\u00e3o otimizadas e testadas, e deveriam ser utilizadas sempre que poss\u00edvel.\n",
      "\n",
      "Nas pr\u00f3ximas se\u00e7\u00f5es, ser\u00e3o apresentados tr\u00eas dos m\u00f3dulos da SciPy: `linalg` para \u00e1lgebra linear, `optimize` para otimiza\u00e7\u00e3o cont\u00ednua e `stats` para estat\u00edstica. "
     ]
    },
    {
     "cell_type": "markdown",
     "metadata": {
      "slideshow": {
       "slide_type": "slide"
      }
     },
     "source": [
      "## \u00c1lgebra Linear - `scipy.linalg`\n",
      "\n",
      "O m\u00f3dulo `scipy.linalg` fornece opera\u00e7\u00f5es b\u00e1sicas de \u00e1lgebra linear e baseia-se em bibliotecas nativas eficientes como BLAS e LAPACK. No exemplo abaixo, o determinante de uma matrix \u00e9 computado:"
     ]
    },
    {
     "cell_type": "code",
     "collapsed": false,
     "input": [
      "from scipy import linalg\n",
      "A = array([[1, 2],\n",
      "           [3, 4]])\n",
      "linalg.det(A)"
     ],
     "language": "python",
     "metadata": {
      "slideshow": {
       "slide_type": "fragment"
      }
     },
     "outputs": [
      {
       "metadata": {},
       "output_type": "pyout",
       "prompt_number": 8,
       "text": [
        "-2.0"
       ]
      }
     ],
     "prompt_number": 8
    },
    {
     "cell_type": "markdown",
     "metadata": {
      "slideshow": {
       "slide_type": "notes"
      }
     },
     "source": [
      "Restri\u00e7\u00f5es envolvendo propriedades de matrizes s\u00e3o tratados como **exce\u00e7\u00f5es**. Python \u00e9 uma linguagem que suporta exce\u00e7\u00f5es, que podem ser capturadas em tempo de execu\u00e7\u00e3o de tratadas de acordo\u00b9. No exemplo abaixo, uma exce\u00e7\u00e3o, `ValueError`, \u00e9 gerada ao tentarmos computar o determinante de uma matrix que n\u00e3o \u00e9 quadrada:\n",
      "\n",
      "\u00b9 Ver [https://docs.python.org/2/tutorial/errors.html](https://docs.python.org/2/tutorial/errors.html) para detalhes."
     ]
    },
    {
     "cell_type": "code",
     "collapsed": false,
     "input": [
      "linalg.det(ones((3, 4)))"
     ],
     "language": "python",
     "metadata": {
      "slideshow": {
       "slide_type": "fragment"
      }
     },
     "outputs": [
      {
       "ename": "ValueError",
       "evalue": "expected square matrix",
       "output_type": "pyerr",
       "traceback": [
        "\u001b[1;31m---------------------------------------------------------------------------\u001b[0m\n\u001b[1;31mValueError\u001b[0m                                Traceback (most recent call last)",
        "\u001b[1;32m<ipython-input-9-737d1704a8e7>\u001b[0m in \u001b[0;36m<module>\u001b[1;34m()\u001b[0m\n\u001b[1;32m----> 1\u001b[1;33m \u001b[0mlinalg\u001b[0m\u001b[1;33m.\u001b[0m\u001b[0mdet\u001b[0m\u001b[1;33m(\u001b[0m\u001b[0mones\u001b[0m\u001b[1;33m(\u001b[0m\u001b[1;33m(\u001b[0m\u001b[1;36m3\u001b[0m\u001b[1;33m,\u001b[0m \u001b[1;36m4\u001b[0m\u001b[1;33m)\u001b[0m\u001b[1;33m)\u001b[0m\u001b[1;33m)\u001b[0m\u001b[1;33m\u001b[0m\u001b[0m\n\u001b[0m",
        "\u001b[1;32m/usr/lib/python2.7/dist-packages/scipy/linalg/basic.pyc\u001b[0m in \u001b[0;36mdet\u001b[1;34m(a, overwrite_a, check_finite)\u001b[0m\n\u001b[0;32m    440\u001b[0m         \u001b[0ma1\u001b[0m \u001b[1;33m=\u001b[0m \u001b[0mnp\u001b[0m\u001b[1;33m.\u001b[0m\u001b[0masarray\u001b[0m\u001b[1;33m(\u001b[0m\u001b[0ma\u001b[0m\u001b[1;33m)\u001b[0m\u001b[1;33m\u001b[0m\u001b[0m\n\u001b[0;32m    441\u001b[0m     \u001b[1;32mif\u001b[0m \u001b[0mlen\u001b[0m\u001b[1;33m(\u001b[0m\u001b[0ma1\u001b[0m\u001b[1;33m.\u001b[0m\u001b[0mshape\u001b[0m\u001b[1;33m)\u001b[0m \u001b[1;33m!=\u001b[0m \u001b[1;36m2\u001b[0m \u001b[1;32mor\u001b[0m \u001b[0ma1\u001b[0m\u001b[1;33m.\u001b[0m\u001b[0mshape\u001b[0m\u001b[1;33m[\u001b[0m\u001b[1;36m0\u001b[0m\u001b[1;33m]\u001b[0m \u001b[1;33m!=\u001b[0m \u001b[0ma1\u001b[0m\u001b[1;33m.\u001b[0m\u001b[0mshape\u001b[0m\u001b[1;33m[\u001b[0m\u001b[1;36m1\u001b[0m\u001b[1;33m]\u001b[0m\u001b[1;33m:\u001b[0m\u001b[1;33m\u001b[0m\u001b[0m\n\u001b[1;32m--> 442\u001b[1;33m         \u001b[1;32mraise\u001b[0m \u001b[0mValueError\u001b[0m\u001b[1;33m(\u001b[0m\u001b[1;34m'expected square matrix'\u001b[0m\u001b[1;33m)\u001b[0m\u001b[1;33m\u001b[0m\u001b[0m\n\u001b[0m\u001b[0;32m    443\u001b[0m     \u001b[0moverwrite_a\u001b[0m \u001b[1;33m=\u001b[0m \u001b[0moverwrite_a\u001b[0m \u001b[1;32mor\u001b[0m \u001b[0m_datacopied\u001b[0m\u001b[1;33m(\u001b[0m\u001b[0ma1\u001b[0m\u001b[1;33m,\u001b[0m \u001b[0ma\u001b[0m\u001b[1;33m)\u001b[0m\u001b[1;33m\u001b[0m\u001b[0m\n\u001b[0;32m    444\u001b[0m     \u001b[0mfdet\u001b[0m\u001b[1;33m,\u001b[0m \u001b[1;33m=\u001b[0m \u001b[0mget_flinalg_funcs\u001b[0m\u001b[1;33m(\u001b[0m\u001b[1;33m(\u001b[0m\u001b[1;34m'det'\u001b[0m\u001b[1;33m,\u001b[0m\u001b[1;33m)\u001b[0m\u001b[1;33m,\u001b[0m \u001b[1;33m(\u001b[0m\u001b[0ma1\u001b[0m\u001b[1;33m,\u001b[0m\u001b[1;33m)\u001b[0m\u001b[1;33m)\u001b[0m\u001b[1;33m\u001b[0m\u001b[0m\n",
        "\u001b[1;31mValueError\u001b[0m: expected square matrix"
       ]
      }
     ],
     "prompt_number": 9
    },
    {
     "cell_type": "markdown",
     "metadata": {
      "slideshow": {
       "slide_type": "subslide"
      }
     },
     "source": [
      "### Invers\u00e3o de matrizes"
     ]
    },
    {
     "cell_type": "code",
     "collapsed": false,
     "input": [
      "A = array([[1, 2],\n",
      "              [3, 4]])\n",
      "Ainv = linalg.inv(A)\n",
      "dot(A, Ainv)"
     ],
     "language": "python",
     "metadata": {
      "slideshow": {
       "slide_type": "fragment"
      }
     },
     "outputs": [
      {
       "metadata": {},
       "output_type": "pyout",
       "prompt_number": 10,
       "text": [
        "array([[  1.00000000e+00,   0.00000000e+00],\n",
        "       [  8.88178420e-16,   1.00000000e+00]])"
       ]
      }
     ],
     "prompt_number": 10
    },
    {
     "cell_type": "markdown",
     "metadata": {
      "slideshow": {
       "slide_type": "notes"
      }
     },
     "source": [
      "Caso se tente obter a inversa de uma **matriz singular**, uma exce\u00e7\u00e3o `LinAlgError` \u00e9 gerada:"
     ]
    },
    {
     "cell_type": "code",
     "collapsed": false,
     "input": [
      "A = array([[3, 2],\n",
      "           [6, 4]])\n",
      "linalg.inv(A)"
     ],
     "language": "python",
     "metadata": {
      "slideshow": {
       "slide_type": "subslide"
      }
     },
     "outputs": [
      {
       "ename": "LinAlgError",
       "evalue": "singular matrix",
       "output_type": "pyerr",
       "traceback": [
        "\u001b[1;31m---------------------------------------------------------------------------\u001b[0m\n\u001b[1;31mLinAlgError\u001b[0m                               Traceback (most recent call last)",
        "\u001b[1;32m<ipython-input-11-467e3ab89c8b>\u001b[0m in \u001b[0;36m<module>\u001b[1;34m()\u001b[0m\n\u001b[0;32m      1\u001b[0m A = array([[3, 2],\n\u001b[0;32m      2\u001b[0m            [6, 4]])\n\u001b[1;32m----> 3\u001b[1;33m \u001b[0mlinalg\u001b[0m\u001b[1;33m.\u001b[0m\u001b[0minv\u001b[0m\u001b[1;33m(\u001b[0m\u001b[0mA\u001b[0m\u001b[1;33m)\u001b[0m\u001b[1;33m\u001b[0m\u001b[0m\n\u001b[0m",
        "\u001b[1;32m/usr/lib/python2.7/dist-packages/scipy/linalg/basic.pyc\u001b[0m in \u001b[0;36minv\u001b[1;34m(a, overwrite_a, check_finite)\u001b[0m\n\u001b[0;32m    381\u001b[0m         \u001b[0minv_a\u001b[0m\u001b[1;33m,\u001b[0m \u001b[0minfo\u001b[0m \u001b[1;33m=\u001b[0m \u001b[0mgetri\u001b[0m\u001b[1;33m(\u001b[0m\u001b[0mlu\u001b[0m\u001b[1;33m,\u001b[0m \u001b[0mpiv\u001b[0m\u001b[1;33m,\u001b[0m \u001b[0mlwork\u001b[0m\u001b[1;33m=\u001b[0m\u001b[0mlwork\u001b[0m\u001b[1;33m,\u001b[0m \u001b[0moverwrite_lu\u001b[0m\u001b[1;33m=\u001b[0m\u001b[1;36m1\u001b[0m\u001b[1;33m)\u001b[0m\u001b[1;33m\u001b[0m\u001b[0m\n\u001b[0;32m    382\u001b[0m     \u001b[1;32mif\u001b[0m \u001b[0minfo\u001b[0m \u001b[1;33m>\u001b[0m \u001b[1;36m0\u001b[0m\u001b[1;33m:\u001b[0m\u001b[1;33m\u001b[0m\u001b[0m\n\u001b[1;32m--> 383\u001b[1;33m         \u001b[1;32mraise\u001b[0m \u001b[0mLinAlgError\u001b[0m\u001b[1;33m(\u001b[0m\u001b[1;34m\"singular matrix\"\u001b[0m\u001b[1;33m)\u001b[0m\u001b[1;33m\u001b[0m\u001b[0m\n\u001b[0m\u001b[0;32m    384\u001b[0m     \u001b[1;32mif\u001b[0m \u001b[0minfo\u001b[0m \u001b[1;33m<\u001b[0m \u001b[1;36m0\u001b[0m\u001b[1;33m:\u001b[0m\u001b[1;33m\u001b[0m\u001b[0m\n\u001b[0;32m    385\u001b[0m         raise ValueError('illegal value in %d-th argument of internal '\n",
        "\u001b[1;31mLinAlgError\u001b[0m: singular matrix"
       ]
      }
     ],
     "prompt_number": 11
    },
    {
     "cell_type": "markdown",
     "metadata": {
      "slideshow": {
       "slide_type": "subslide"
      }
     },
     "source": [
      "### Decomposi\u00e7\u00e3o em valores singulares: SVD\n",
      "\n",
      "A **decomposi\u00e7\u00e3o em valores sigulares** (*singular value decomposition* - SVD)\n",
      "\u00e9 uma fatoriza\u00e7\u00e3o especial de uma matriz real $\\mathrm{\\tt A}$ com diversas aplica\u00e7\u00f5es pr\u00e1ticas:\n",
      "\n",
      "$\\mathrm{\\tt A} = \\mathrm{\\tt U \\Sigma V} ^\\top$\n",
      "\n",
      "sendo $\\mathrm{\\tt \\Sigma}$ uma matriz diagonal de n\u00fameros reais, $\\mathrm{\\tt U}$ e $\\mathrm{\\tt V}$ matrizes unit\u00e1rias ($\\mathrm{\\tt U} \\mathrm{\\tt U^\\top} = \\mathrm{\\tt I}$ para matrizes reais).\n",
      "\n",
      "* As colunas de $\\mathrm{\\tt U}$ correspondem aos autovetores de $\\mathrm{\\tt A}\\mathrm{\\tt A}^\\top$\n",
      "* As colunas de $\\mathrm{\\tt V}$ correspondem aos autovetores de $\\mathrm{\\tt A}^\\top\\mathrm{\\tt A}$\n",
      "* Os autovalores de $\\mathrm{\\tt A}\\mathrm{\\tt A}^\\top$ e $\\mathrm{\\tt A}\\mathrm{\\tt A}^\\top$ correspondem aos valores da diagonal de $\\mathrm{\\tt \\Sigma}$.\n",
      "\n",
      "#### Aplica\u00e7\u00e3o: resolu\u00e7\u00e3o de sistemas homog\u00eaneos $\\mathrm{\\tt A}\\mathbf{x} = \\mathbf{0}$"
     ]
    },
    {
     "cell_type": "code",
     "collapsed": false,
     "input": [
      "A = array([[ 0.84499381, -0.46944101],\n",
      "           [ 0.6248284 , -0.34712689],\n",
      "           [ 0.46448266, -0.25804592],\n",
      "           [ 0.64654437, -0.35919131],\n",
      "           [ 0.73794547, -0.4099697 ],\n",
      "           [ 0.8193507 , -0.45519483],\n",
      "           [ 0.92559289, -0.51421827],\n",
      "           [ 0.43297558, -0.24054199],\n",
      "           [ 0.35868939, -0.19927188]])"
     ],
     "language": "python",
     "metadata": {
      "slideshow": {
       "slide_type": "fragment"
      }
     },
     "outputs": [],
     "prompt_number": 12
    },
    {
     "cell_type": "code",
     "collapsed": false,
     "input": [
      "U, s, VT = linalg.svd(A)\n",
      "V = VT.T"
     ],
     "language": "python",
     "metadata": {
      "slideshow": {
       "slide_type": "subslide"
      }
     },
     "outputs": [],
     "prompt_number": 13
    },
    {
     "cell_type": "markdown",
     "metadata": {
      "slideshow": {
       "slide_type": "fragment"
      }
     },
     "source": [
      "Se o sistema $\\mathrm{\\tt A} \\mathbf{x} = 0$ tem solu\u00e7\u00e3o, ent\u00e3o o menor valor singular \u00e9 zero:"
     ]
    },
    {
     "cell_type": "code",
     "collapsed": false,
     "input": [
      "print s \n",
      "print abs(s[1]) < 1.0e-7"
     ],
     "language": "python",
     "metadata": {
      "slideshow": {
       "slide_type": "fragment"
      }
     },
     "outputs": [
      {
       "output_type": "stream",
       "stream": "stdout",
       "text": [
        "[  2.32393669e+00   8.86916086e-09]\n",
        "True\n"
       ]
      }
     ],
     "prompt_number": 14
    },
    {
     "cell_type": "markdown",
     "metadata": {
      "slideshow": {
       "slide_type": "fragment"
      }
     },
     "source": [
      "Nesse caso, a solu\u00e7\u00e3o aqui se encontra no 2\u00ba valor singular \u00e0 direita, ou seja, a \u00faltima coluna de $\\mathrm{\\tt V}$:"
     ]
    },
    {
     "cell_type": "code",
     "collapsed": false,
     "input": [
      "x = V[:,-1]\n",
      "print x"
     ],
     "language": "python",
     "metadata": {
      "slideshow": {
       "slide_type": "fragment"
      }
     },
     "outputs": [
      {
       "output_type": "stream",
       "stream": "stdout",
       "text": [
        "[ 0.48564293  0.87415728]\n"
       ]
      }
     ],
     "prompt_number": 15
    },
    {
     "cell_type": "code",
     "collapsed": false,
     "input": [
      "dot(A, x)"
     ],
     "language": "python",
     "metadata": {
      "slideshow": {
       "slide_type": "fragment"
      }
     },
     "outputs": [
      {
       "metadata": {},
       "output_type": "pyout",
       "prompt_number": 16,
       "text": [
        "array([ -5.76358272e-09,  -2.36029274e-09,   9.10016895e-10,\n",
        "         4.39043324e-09,   3.21596083e-09,   1.09242354e-09,\n",
        "        -1.15040977e-10,  -1.93379981e-09,   2.11648343e-09])"
       ]
      }
     ],
     "prompt_number": 16
    },
    {
     "cell_type": "markdown",
     "metadata": {
      "slideshow": {
       "slide_type": "fragment"
      }
     },
     "source": [
      "SVD possui diversas outras aplica\u00e7\u00f5es como a resolu\u00e7\u00e3o de sistemas lineares super-determinados, isto \u00e9, sistemas com mais equa\u00e7\u00f5es que inc\u00f3gnitas, e minimiza\u00e7\u00e3o por m\u00ednimos quadrados (GOLUB; LOAN, 2013)."
     ]
    },
    {
     "cell_type": "markdown",
     "metadata": {
      "slideshow": {
       "slide_type": "slide"
      }
     },
     "source": [
      "## Otimiza\u00e7\u00e3o - `scipy.optimize`\n",
      "\n",
      "**Otimiza\u00e7\u00e3o** consiste em encontrar uma solu\u00e7\u00e3o num\u00e9rica que minimiza uma fun\u00e7\u00e3o. Este m\u00f3dulo fornece algoritmos para minimiza\u00e7\u00e3o de fun\u00e7\u00f5es, *fitting* e busca de ra\u00edzes (zeros de uma fun\u00e7\u00e3o).\n",
      "\n",
      "Considere a seguinte fun\u00e7\u00e3o:"
     ]
    },
    {
     "cell_type": "code",
     "collapsed": false,
     "input": [
      "def f(x):\n",
      "    return x**2 + 0.2*x + 4 * cos(x)\n",
      "\n",
      "x = linspace(-3, 3, 200)\n",
      "plot(x, f(x), 'r-')\n",
      "xlim((-3, 3))"
     ],
     "language": "python",
     "metadata": {
      "slideshow": {
       "slide_type": "fragment"
      }
     },
     "outputs": [
      {
       "metadata": {},
       "output_type": "pyout",
       "prompt_number": 17,
       "text": [
        "(-3, 3)"
       ]
      },
      {
       "metadata": {},
       "output_type": "display_data",
       "png": "[encoded data removed]",
       "text": [
        "<matplotlib.figure.Figure at 0x7fc099c92950>"
       ]
      }
     ],
     "prompt_number": 17
    },
    {
     "cell_type": "markdown",
     "metadata": {
      "slideshow": {
       "slide_type": "subslide"
      }
     },
     "source": [
      "Uma alternativa para obter o m\u00ednimo de uma fun\u00e7\u00e3o \u00e9 utilizar o m\u00e9todo *BFGS* (Broyden\u2013Fletcher\u2013Goldfarb\u2013Shanno), um m\u00e9todo iterativo de otimiza\u00e7\u00e3o:"
     ]
    },
    {
     "cell_type": "code",
     "collapsed": false,
     "input": [
      "from scipy.optimize import fmin_bfgs\n",
      "\n",
      "xmin = fmin_bfgs(f, 0)\n",
      "xmin"
     ],
     "language": "python",
     "metadata": {
      "slideshow": {
       "slide_type": "fragment"
      }
     },
     "outputs": [
      {
       "output_type": "stream",
       "stream": "stdout",
       "text": [
        "Optimization terminated successfully.\n",
        "         Current function value: 1.931741\n",
        "         Iterations: 3\n",
        "         Function evaluations: 27\n",
        "         Gradient evaluations: 9\n"
       ]
      },
      {
       "metadata": {},
       "output_type": "pyout",
       "prompt_number": 18,
       "text": [
        "array([-1.95453947])"
       ]
      }
     ],
     "prompt_number": 18
    },
    {
     "cell_type": "code",
     "collapsed": false,
     "input": [
      "def show_opt_result(x, f, xmin, opt_title=None):\n",
      "\n",
      "    plot(x, f(x), 'r-')\n",
      "    xlim((-3,3))\n",
      "    scatter([xmin],[f(xmin)], 10, color='red')\n",
      "    annotate('%f' % xmin, \n",
      "            xy=(xmin, f(xmin)), fontsize=12, xycoords='data',\n",
      "            xytext=(-90, -50), textcoords='offset points',\n",
      "            arrowprops=dict(arrowstyle=\"->\", connectionstyle=\"arc3,rad=.2\"))\n",
      "    if opt_title != None:\n",
      "        title(opt_title)\n",
      "    \n",
      "show_opt_result(x, f, xmin, u'M\u00e9todo quasi-Newton BFGS')"
     ],
     "language": "python",
     "metadata": {
      "slideshow": {
       "slide_type": "fragment"
      }
     },
     "outputs": [
      {
       "metadata": {},
       "output_type": "display_data",
       "png": "[encoded data removed]",
       "text": [
        "<matplotlib.figure.Figure at 0x7fc099b34990>"
       ]
      }
     ],
     "prompt_number": 19
    },
    {
     "cell_type": "markdown",
     "metadata": {
      "slideshow": {
       "slide_type": "subslide"
      }
     },
     "source": [
      "Um problema com este m\u00e9todo \u00e9 que dependendo do ponto inicial o processo de *descida* pode ficar \"preso\" em um **m\u00ednimo local**:"
     ]
    },
    {
     "cell_type": "code",
     "collapsed": false,
     "input": [
      "xmin = fmin_bfgs(f, 1, disp=0)\n",
      "xmin\n",
      "show_opt_result(x, f, xmin, u'M\u00e9todo quasi-Newton BFGS')"
     ],
     "language": "python",
     "metadata": {
      "slideshow": {
       "slide_type": "fragment"
      }
     },
     "outputs": [
      {
       "metadata": {},
       "output_type": "display_data",
       "png": "[encoded data removed]",
       "text": [
        "<matplotlib.figure.Figure at 0x7fc099c4b910>"
       ]
      }
     ],
     "prompt_number": 20
    },
    {
     "cell_type": "markdown",
     "metadata": {
      "slideshow": {
       "slide_type": "subslide"
      }
     },
     "source": [
      "Podemos computar o m\u00ednimo global por **for\u00e7a bruta**, isto \u00e9, calculando o valor de $f(x)$ para *todo $x$* em uma certa *grade* (conjunto de valores em um intervalo espa\u00e7ado). "
     ]
    },
    {
     "cell_type": "code",
     "collapsed": false,
     "input": [
      "from scipy.optimize import brute\n",
      "grid = (-3, 3, 0.1)\n",
      "xmin = brute(f, (grid,))\n",
      "show_opt_result(x, f, xmin, u'For\u00e7a bruta')"
     ],
     "language": "python",
     "metadata": {
      "slideshow": {
       "slide_type": "fragment"
      }
     },
     "outputs": [
      {
       "metadata": {},
       "output_type": "display_data",
       "png": "[encoded data removed]",
       "text": [
        "<matplotlib.figure.Figure at 0x7fc08f81a690>"
       ]
      }
     ],
     "prompt_number": 21
    },
    {
     "cell_type": "markdown",
     "metadata": {
      "slideshow": {
       "slide_type": "subslide"
      }
     },
     "source": [
      "Obviamente, se a grade for muito grande, a execu\u00e7\u00e3o de `brute` se torna **muito lenta**. Outros algoritmos podem ser utilizados como, por exemplo, *basin hopping*. Com um n\u00famero suficiente de itera\u00e7\u00f5es, o m\u00e9todo pode encontrar o m\u00ednimo global:"
     ]
    },
    {
     "cell_type": "code",
     "collapsed": false,
     "input": [
      "from scipy.optimize import basinhopping\n",
      "# N\u00famero de itera\u00e7\u00f5es n\u00e3o \u00e9 o suficiente\n",
      "xmin = basinhopping(f, 1, niter=200)\n",
      "xmin"
     ],
     "language": "python",
     "metadata": {},
     "outputs": [
      {
       "metadata": {},
       "output_type": "pyout",
       "prompt_number": 22,
       "text": [
        "    nfev: 3267\n",
        "     fun: 2.6896496507852756\n",
        "       x: array([ 1.83210529])\n",
        " message: ['requested number of basinhopping iterations completed successfully']\n",
        "    njev: 1089\n",
        "     nit: 200"
       ]
      }
     ],
     "prompt_number": 22
    },
    {
     "cell_type": "code",
     "collapsed": false,
     "input": [
      "show_opt_result(x, f, xmin.x, u'M\u00e9todo basin hopping')"
     ],
     "language": "python",
     "metadata": {
      "slideshow": {
       "slide_type": "fragment"
      }
     },
     "outputs": [
      {
       "metadata": {},
       "output_type": "display_data",
       "png": "[encoded data removed]",
       "text": [
        "<matplotlib.figure.Figure at 0x7fc099b97b90>"
       ]
      }
     ],
     "prompt_number": 23
    },
    {
     "cell_type": "code",
     "collapsed": false,
     "input": [
      "# Novamente, com um maior n\u00famero de itera\u00e7\u00f5es\n",
      "xmin = basinhopping(f, 1, niter=250)\n",
      "xmin"
     ],
     "language": "python",
     "metadata": {},
     "outputs": [
      {
       "metadata": {},
       "output_type": "pyout",
       "prompt_number": 24,
       "text": [
        "    nfev: 4176\n",
        "     fun: 1.9317406957346788\n",
        "       x: array([-1.95453946])\n",
        " message: ['requested number of basinhopping iterations completed successfully']\n",
        "    njev: 1392\n",
        "     nit: 250"
       ]
      }
     ],
     "prompt_number": 24
    },
    {
     "cell_type": "code",
     "collapsed": false,
     "input": [
      "show_opt_result(x, f, xmin.x, u'M\u00e9todo basin hopping')"
     ],
     "language": "python",
     "metadata": {
      "slideshow": {
       "slide_type": "fragment"
      }
     },
     "outputs": [
      {
       "metadata": {},
       "output_type": "display_data",
       "png": "[encoded data removed]",
       "text": [
        "<matplotlib.figure.Figure at 0x7fc099b8ddd0>"
       ]
      }
     ],
     "prompt_number": 25
    },
    {
     "cell_type": "markdown",
     "metadata": {
      "slideshow": {
       "slide_type": "subslide"
      }
     },
     "source": [
      "### *Fitting*\n",
      "\n",
      "Suponha que tenhamos obtido uma *amostra* de $f(x)$ com algum *ru\u00eddo*:"
     ]
    },
    {
     "cell_type": "code",
     "collapsed": false,
     "input": [
      "Xdata = linspace(-3, 3, num=20)\n",
      "Ydata = f(Xdata) + 0.2 * np.random.randn(Xdata.size)\n",
      "plot(Xdata, Ydata, 'r+')\n",
      "xlim((-3,3))"
     ],
     "language": "python",
     "metadata": {
      "slideshow": {
       "slide_type": "fragment"
      }
     },
     "outputs": [
      {
       "metadata": {},
       "output_type": "pyout",
       "prompt_number": 26,
       "text": [
        "(-3, 3)"
       ]
      },
      {
       "metadata": {},
       "output_type": "display_data",
       "png": "[encoded data removed]",
       "text": [
        "<matplotlib.figure.Figure at 0x7fc099be5590>"
       ]
      }
     ],
     "prompt_number": 26
    },
    {
     "cell_type": "markdown",
     "metadata": {
      "slideshow": {
       "slide_type": "subslide"
      }
     },
     "source": [
      "Suponha que n\u00f3s tenhamos um bom **modelo param\u00e9trico**, mas com os par\u00e2metros desconhecidos. Aqui, nosso modelo \u00e9 da forma $\\theta_1 x^2 + \\theta_2 x + \\theta_3 \\cos(x)$:"
     ]
    },
    {
     "cell_type": "code",
     "collapsed": false,
     "input": [
      "def model(x, theta1, theta2, theta3):\n",
      "    return theta1 * x**2 + theta2 * x + theta3 * cos(x)"
     ],
     "language": "python",
     "metadata": {
      "slideshow": {
       "slide_type": "fragment"
      }
     },
     "outputs": [],
     "prompt_number": 27
    },
    {
     "cell_type": "markdown",
     "metadata": {
      "slideshow": {
       "slide_type": "fragment"
      }
     },
     "source": [
      "N\u00f3s podemos estimar os par\u00e2metros $\\theta_1$, $\\theta_2$ e $\\theta_3$ atrav\u00e9s do m\u00e9todo de **m\u00ednimos quadrados**:"
     ]
    },
    {
     "cell_type": "code",
     "collapsed": false,
     "input": [
      "from scipy.optimize import curve_fit"
     ],
     "language": "python",
     "metadata": {
      "slideshow": {
       "slide_type": "fragment"
      }
     },
     "outputs": [],
     "prompt_number": 28
    },
    {
     "cell_type": "code",
     "collapsed": false,
     "input": [
      "palpite = [1,1,1]\n",
      "theta, theta_cov = curve_fit(model, Xdata, Ydata, palpite)\n",
      "theta"
     ],
     "language": "python",
     "metadata": {
      "slideshow": {
       "slide_type": "fragment"
      }
     },
     "outputs": [
      {
       "metadata": {},
       "output_type": "pyout",
       "prompt_number": 29,
       "text": [
        "array([ 0.99306504,  0.19043778,  3.99791708])"
       ]
      }
     ],
     "prompt_number": 29
    },
    {
     "cell_type": "markdown",
     "metadata": {
      "slideshow": {
       "slide_type": "fragment"
      }
     },
     "source": [
      "Note como o resultado acima \u00e9 muito pr\u00f3ximo da nossa fun\u00e7\u00e3o verdadeira, $f(x) = x^2 + 0.2 x + 4 \\cos(x)$."
     ]
    },
    {
     "cell_type": "code",
     "collapsed": false,
     "input": [
      "X = linspace(-3, 3, num=200)\n",
      "plot(X, f(X), 'r-', label=r'$f(x)$') \n",
      "plot(Xdata, Ydata, 'rx', label=r'Dados')\n",
      "theta1, theta2, theta3 = theta\n",
      "Y_model = [model(x, theta1, theta2, theta3) for x in X]\n",
      "plot(X, Y_model, 'b--', label=r'Fitting')\n",
      "xlim((-3,3))\n",
      "title(u'Fitting')\n",
      "legend()"
     ],
     "language": "python",
     "metadata": {
      "slideshow": {
       "slide_type": "subslide"
      }
     },
     "outputs": [
      {
       "metadata": {},
       "output_type": "pyout",
       "prompt_number": 30,
       "text": [
        "<matplotlib.legend.Legend at 0x7fc099b48b90>"
       ]
      },
      {
       "metadata": {},
       "output_type": "display_data",
       "png": "[encoded data removed]",
       "text": [
        "<matplotlib.figure.Figure at 0x7fc08f864950>"
       ]
      }
     ],
     "prompt_number": 30
    },
    {
     "cell_type": "markdown",
     "metadata": {
      "slideshow": {
       "slide_type": "fragment"
      }
     },
     "source": [
      "O resultado \u00e9 muito bom, mas h\u00e1 um por\u00e9m: o **modelo escolhido \u00e9 perfeito**, isto \u00e9, ele tem a mesma forma param\u00e9trica da verdadeira fun\u00e7\u00e3o $f(x)$. E se o modelo proposto fosse menos preciso?"
     ]
    },
    {
     "cell_type": "code",
     "collapsed": false,
     "input": [
      "def model2(x, theta1, theta2, theta3):\n",
      "    return theta1 * x**2 + theta2 * x + theta3"
     ],
     "language": "python",
     "metadata": {
      "slideshow": {
       "slide_type": "subslide"
      }
     },
     "outputs": [],
     "prompt_number": 31
    },
    {
     "cell_type": "code",
     "collapsed": false,
     "input": [
      "palpite = [1,1,1]\n",
      "theta, theta_cov = curve_fit(model2, Xdata, Ydata, palpite)\n",
      "theta"
     ],
     "language": "python",
     "metadata": {
      "slideshow": {
       "slide_type": "fragment"
      }
     },
     "outputs": [
      {
       "metadata": {},
       "output_type": "pyout",
       "prompt_number": 32,
       "text": [
        "array([ 0.07386207,  0.19043777,  3.01696373])"
       ]
      }
     ],
     "prompt_number": 32
    },
    {
     "cell_type": "code",
     "collapsed": false,
     "input": [
      "X = linspace(-3, 3, num=200)\n",
      "plot(X, f(X), 'r-', label=r'$f(x)$') \n",
      "plot(Xdata, Ydata, 'rx', label=r'Dados')\n",
      "theta1, theta2, theta3 = theta\n",
      "Y_model = [model2(x, theta1, theta2, theta3) for x in X]\n",
      "plot(X, Y_model, 'b--', label=r'Fitting')\n",
      "xlim((-3,3))\n",
      "title(u'Fitting (modelo polinomial)')\n",
      "legend()"
     ],
     "language": "python",
     "metadata": {
      "slideshow": {
       "slide_type": "fragment"
      }
     },
     "outputs": [
      {
       "metadata": {},
       "output_type": "pyout",
       "prompt_number": 33,
       "text": [
        "<matplotlib.legend.Legend at 0x7fc08f8ce310>"
       ]
      },
      {
       "metadata": {},
       "output_type": "display_data",
       "png": "[encoded data removed]",
       "text": [
        "<matplotlib.figure.Figure at 0x7fc08f8453d0>"
       ]
      }
     ],
     "prompt_number": 33
    },
    {
     "cell_type": "markdown",
     "metadata": {
      "slideshow": {
       "slide_type": "slide"
      }
     },
     "source": [
      "### Exemplo - determina\u00e7\u00e3o de uma fun\u00e7\u00e3o para temperatura anual\n",
      "\n",
      "Os vetores abaixo correspondem \u00e0s temperaturas extremas do Alasca para cada m\u00eas (em \u00b0C):"
     ]
    },
    {
     "cell_type": "code",
     "collapsed": false,
     "input": [
      "tmax = [17,  19,  21,  28,  33,  38, 37,  37,  31,  23,  19,  18]\n",
      "tmin = [-62, -59, -56, -46, -32, -18, -9, -13, -25, -46, -52, -58]\n",
      "month = arange(12)"
     ],
     "language": "python",
     "metadata": {
      "slideshow": {
       "slide_type": "fragment"
      }
     },
     "outputs": [],
     "prompt_number": 34
    },
    {
     "cell_type": "code",
     "collapsed": false,
     "input": [
      "plot(month, tmin, 'bo-')\n",
      "plot(month, tmax, 'ro-')\n",
      "xlim(0,11)\n",
      "ylim(-80,60)\n",
      "ylabel(r'Celsius')\n",
      "xlabel(u'M\u00eas')\n",
      "title(r'Extremos de temperatura no Alasca')"
     ],
     "language": "python",
     "metadata": {
      "slideshow": {
       "slide_type": "fragment"
      }
     },
     "outputs": [
      {
       "metadata": {},
       "output_type": "pyout",
       "prompt_number": 35,
       "text": [
        "<matplotlib.text.Text at 0x7fc08f5f4f10>"
       ]
      },
      {
       "metadata": {},
       "output_type": "display_data",
       "png": "[encoded data removed]",
       "text": [
        "<matplotlib.figure.Figure at 0x7fc08f845d50>"
       ]
      }
     ],
     "prompt_number": 35
    },
    {
     "cell_type": "markdown",
     "metadata": {
      "slideshow": {
       "slide_type": "notes"
      }
     },
     "source": [
      "A partir desses dados, gostar\u00edamos de estimar fun\u00e7\u00f5es para prever a temperatura ao longo do ano. O formato se \"sino\" dos gr\u00e1ficos acima sugere que uma fun\u00e7\u00e3o Gaussiana poderia produzir um bom *fitting*:"
     ]
    },
    {
     "cell_type": "code",
     "collapsed": false,
     "input": [
      "import scipy.optimize as opt\n",
      "\n",
      "def f(x, a, b, c, d):\n",
      "    return a * exp(-(x-b)**2/(2*c**2)) + d"
     ],
     "language": "python",
     "metadata": {},
     "outputs": [],
     "prompt_number": 36
    },
    {
     "cell_type": "code",
     "collapsed": false,
     "input": [
      "theta_min, theta_min_cov = opt.curve_fit(f, month, tmin, [10., 6, 2, -60])\n",
      "theta_min"
     ],
     "language": "python",
     "metadata": {
      "slideshow": {
       "slide_type": "fragment"
      }
     },
     "outputs": [
      {
       "metadata": {},
       "output_type": "pyout",
       "prompt_number": 37,
       "text": [
        "array([ 52.64929193,   6.16452601,   1.9759001 , -61.32093597])"
       ]
      }
     ],
     "prompt_number": 37
    },
    {
     "cell_type": "code",
     "collapsed": false,
     "input": [
      "theta_max, theta_max_cov = opt.curve_fit(f, month, tmax, [10., 6, 2, -60])\n",
      "theta_max"
     ],
     "language": "python",
     "metadata": {
      "slideshow": {
       "slide_type": "fragment"
      }
     },
     "outputs": [
      {
       "metadata": {},
       "output_type": "pyout",
       "prompt_number": 38,
       "text": [
        "array([ 23.09208263,   5.73581613,   2.2944347 ,  15.77932609])"
       ]
      }
     ],
     "prompt_number": 38
    },
    {
     "cell_type": "code",
     "collapsed": false,
     "input": [
      "X = linspace(0, 11, 25)\n",
      "a, b, c, d = theta_max\n",
      "plot(month, tmax, 'ro', linewidth=3, alpha=0.3, label=u'm\u00e1ximas')\n",
      "plot(X, [f(x, a, b, c, d) for x in X], 'r-', alpha=0.7, label=r'$f_{\\max}$')\n",
      "\n",
      "a, b, c, d = theta_min\n",
      "plot(month, tmin, 'bo', linewidth=3, alpha=0.3, label=u'm\u00ednimas')\n",
      "plot(X, [f(x, a, b, c, d) for x in X], 'b-', alpha=0.7, label=r'$f_{\\min}$')\n",
      "\n",
      "ylabel(r'Celsius')\n",
      "xlabel(u'M\u00eas')\n",
      "xlim(0,11)\n",
      "ylim(-80,60)\n",
      "legend(bbox_to_anchor=(1.34,1))\n",
      "title(r'Extremos de temperatura no Alasca')"
     ],
     "language": "python",
     "metadata": {
      "slideshow": {
       "slide_type": "subslide"
      }
     },
     "outputs": [
      {
       "metadata": {},
       "output_type": "pyout",
       "prompt_number": 39,
       "text": [
        "<matplotlib.text.Text at 0x7fc08f76ff90>"
       ]
      },
      {
       "metadata": {},
       "output_type": "display_data",
       "png": "[encoded data removed]",
       "text": [
        "<matplotlib.figure.Figure at 0x7fc08f5e9ad0>"
       ]
      }
     ],
     "prompt_number": 39
    },
    {
     "cell_type": "markdown",
     "metadata": {
      "slideshow": {
       "slide_type": "slide"
      }
     },
     "source": [
      "## Estat\u00edstica - `scipy.stats`"
     ]
    },
    {
     "cell_type": "markdown",
     "metadata": {
      "slideshow": {
       "slide_type": "slide"
      }
     },
     "source": [
      "### Fun\u00e7\u00f5es de densidade de probabilidade"
     ]
    },
    {
     "cell_type": "code",
     "collapsed": false,
     "input": [
      "from scipy import stats"
     ],
     "language": "python",
     "metadata": {
      "slideshow": {
       "slide_type": "fragment"
      }
     },
     "outputs": [],
     "prompt_number": 40
    },
    {
     "cell_type": "markdown",
     "metadata": {
      "slideshow": {
       "slide_type": "notes"
      }
     },
     "source": [
      "O m\u00f3dulo `stats` fornece diversas fun\u00e7\u00f5es de densidade de probabilidade (pdf). Abaixo, s\u00e3o computadas as probabilidades para todo ponto $x$ em um certo dom\u00ednio $X$, tomando-se uma distribui\u00e7\u00e3o normal com m\u00e9dia igual a 5 e desvio padr\u00e3o igual a 1,5.: "
     ]
    },
    {
     "cell_type": "code",
     "collapsed": false,
     "input": [
      "X = arange(-2, 12, 0.05)\n",
      "plot(X, [stats.norm.pdf(x, 5., 1.5) for x in X])\n",
      "xlabel('x')\n",
      "ylabel(r'$N(5, 1.5)$')"
     ],
     "language": "python",
     "metadata": {
      "slideshow": {
       "slide_type": "fragment"
      }
     },
     "outputs": [
      {
       "metadata": {},
       "output_type": "pyout",
       "prompt_number": 41,
       "text": [
        "<matplotlib.text.Text at 0x7fc08f3c5250>"
       ]
      },
      {
       "metadata": {},
       "output_type": "display_data",
       "png": "[encoded data removed]",
       "text": [
        "<matplotlib.figure.Figure at 0x7fc08f84fa10>"
       ]
      }
     ],
     "prompt_number": 41
    },
    {
     "cell_type": "markdown",
     "metadata": {
      "slideshow": {
       "slide_type": "subslide"
      }
     },
     "source": [
      "### *Fitting*"
     ]
    },
    {
     "cell_type": "markdown",
     "metadata": {},
     "source": [
      "Uma atividade frequente em an\u00e1lise estat\u00edstica \u00e9 estimar os par\u00e2metros de uma distribui\u00e7\u00e3o a partir de dados observados. Os m\u00e9todos `fit` das v\u00e1rias distribui\u00e7\u00f5es encontradas em `stats` s\u00e3o capazes de realizar a estima\u00e7\u00e3o dos par\u00e2metros por m\u00e1xima verossimilhan\u00e7a (*maximum likelihood estimate* - MLE). Como exemplo, considere os dados de comprimento da s\u00e9pala para *Iris setosa*:"
     ]
    },
    {
     "cell_type": "code",
     "collapsed": false,
     "input": [
      "iris_data = loadtxt('./data/iris.data.txt', usecols=(0,1,2,3))\n",
      "iris_class = loadtxt('./data/iris.data.txt', dtype='string')[:,4]\n",
      "\n",
      "setosa = iris_data[iris_class == 'Iris-setosa']"
     ],
     "language": "python",
     "metadata": {
      "slideshow": {
       "slide_type": "fragment"
      }
     },
     "outputs": [],
     "prompt_number": 42
    },
    {
     "cell_type": "markdown",
     "metadata": {
      "slideshow": {
       "slide_type": "notes"
      }
     },
     "source": [
      "O exemplo abaixo ilustra a estima\u00e7\u00e3o para a distribui\u00e7\u00e3o normal:"
     ]
    },
    {
     "cell_type": "code",
     "collapsed": false,
     "input": [
      "sep_len = setosa[:,0]\n",
      "mu, sig = stats.norm.fit(sep_len)\n",
      "mu, sig"
     ],
     "language": "python",
     "metadata": {
      "slideshow": {
       "slide_type": "fragment"
      }
     },
     "outputs": [
      {
       "metadata": {},
       "output_type": "pyout",
       "prompt_number": 43,
       "text": [
        "(5.0059999999999993, 0.34894698737773899)"
       ]
      }
     ],
     "prompt_number": 43
    },
    {
     "cell_type": "code",
     "collapsed": false,
     "input": [
      "subplot(2,1,1)\n",
      "n, pan, binstches = hist(sep_len, 10)\n",
      "\n",
      "subplot(2,1,2)\n",
      "X = arange(3, 7, 0.05)\n",
      "plot(X, [stats.norm.pdf(x, mu, sig) for x in X])\n",
      "xlabel(u'Comprimento da s\u00e9pala')\n",
      "ylabel(r'$N(%.2f, %.2f)$' % (mu, sig))"
     ],
     "language": "python",
     "metadata": {
      "slideshow": {
       "slide_type": "subslide"
      }
     },
     "outputs": [
      {
       "metadata": {},
       "output_type": "pyout",
       "prompt_number": 44,
       "text": [
        "<matplotlib.text.Text at 0x7fc08d34f550>"
       ]
      },
      {
       "metadata": {},
       "output_type": "display_data",
       "png": "[encoded data removed]",
       "text": [
        "<matplotlib.figure.Figure at 0x7fc08f3c5d10>"
       ]
      }
     ],
     "prompt_number": 44
    },
    {
     "cell_type": "markdown",
     "metadata": {
      "slideshow": {
       "slide_type": "subslide"
      }
     },
     "source": [
      "### Percentis"
     ]
    },
    {
     "cell_type": "markdown",
     "metadata": {
      "slideshow": {
       "slide_type": "notes"
      }
     },
     "source": [
      "Vamos olhar mais uma vez os dados sobre o comprimento de s\u00e9pala em *Iris setosa*:"
     ]
    },
    {
     "cell_type": "code",
     "collapsed": false,
     "input": [
      "boxplot(sep_len)"
     ],
     "language": "python",
     "metadata": {},
     "outputs": [
      {
       "metadata": {},
       "output_type": "pyout",
       "prompt_number": 45,
       "text": [
        "{'boxes': [<matplotlib.lines.Line2D at 0x7fc08d27c950>],\n",
        " 'caps': [<matplotlib.lines.Line2D at 0x7fc08d290c90>,\n",
        "  <matplotlib.lines.Line2D at 0x7fc08d27c310>],\n",
        " 'fliers': [<matplotlib.lines.Line2D at 0x7fc08d036610>,\n",
        "  <matplotlib.lines.Line2D at 0x7fc08d036fd0>],\n",
        " 'medians': [<matplotlib.lines.Line2D at 0x7fc08d27cf90>],\n",
        " 'whiskers': [<matplotlib.lines.Line2D at 0x7fc08d290350>,\n",
        "  <matplotlib.lines.Line2D at 0x7fc08d2905d0>]}"
       ]
      },
      {
       "metadata": {},
       "output_type": "display_data",
       "png": "[encoded data removed]",
       "text": [
        "<matplotlib.figure.Figure at 0x7fc08f3d2250>"
       ]
      }
     ],
     "prompt_number": 45
    },
    {
     "cell_type": "markdown",
     "metadata": {
      "slideshow": {
       "slide_type": "notes"
      }
     },
     "source": [
      "Abaixo, computamos a mediana utilizando `median` da NumPy:"
     ]
    },
    {
     "cell_type": "code",
     "collapsed": false,
     "input": [
      "np.median(sep_len)"
     ],
     "language": "python",
     "metadata": {
      "slideshow": {
       "slide_type": "fragment"
      }
     },
     "outputs": [
      {
       "metadata": {},
       "output_type": "pyout",
       "prompt_number": 46,
       "text": [
        "5.0"
       ]
      }
     ],
     "prompt_number": 46
    },
    {
     "cell_type": "markdown",
     "metadata": {
      "slideshow": {
       "slide_type": "notes"
      }
     },
     "source": [
      "A mediana obviamente coincide com o percentil 50:"
     ]
    },
    {
     "cell_type": "code",
     "collapsed": false,
     "input": [
      "stats.scoreatpercentile(sep_len, 50)"
     ],
     "language": "python",
     "metadata": {
      "slideshow": {
       "slide_type": "fragment"
      }
     },
     "outputs": [
      {
       "metadata": {},
       "output_type": "pyout",
       "prompt_number": 47,
       "text": [
        "5.0"
       ]
      }
     ],
     "prompt_number": 47
    },
    {
     "cell_type": "markdown",
     "metadata": {
      "slideshow": {
       "slide_type": "notes"
      }
     },
     "source": [
      "Qualquer percentil pode ser recuperado:"
     ]
    },
    {
     "cell_type": "code",
     "collapsed": false,
     "input": [
      "stats.scoreatpercentile(sep_len, 90)"
     ],
     "language": "python",
     "metadata": {
      "slideshow": {
       "slide_type": "fragment"
      }
     },
     "outputs": [
      {
       "metadata": {},
       "output_type": "pyout",
       "prompt_number": 48,
       "text": [
        "5.4100000000000001"
       ]
      }
     ],
     "prompt_number": 48
    },
    {
     "cell_type": "code",
     "collapsed": false,
     "input": [
      "stats.scoreatpercentile(sep_len, 15)"
     ],
     "language": "python",
     "metadata": {
      "slideshow": {
       "slide_type": "fragment"
      }
     },
     "outputs": [
      {
       "metadata": {},
       "output_type": "pyout",
       "prompt_number": 49,
       "text": [
        "4.5999999999999996"
       ]
      }
     ],
     "prompt_number": 49
    },
    {
     "cell_type": "markdown",
     "metadata": {
      "slideshow": {
       "slide_type": "subslide"
      }
     },
     "source": [
      "### Testes estat\u00edsticos\n",
      "\n",
      "O teste t-Student toma duas amostras independentes e verifica a hip\u00f3tese de que a m\u00e9dia das duas popula\u00e7\u00f5es (assumindo a mesma vari\u00e2ncia ) s\u00e3o iguais (hip\u00f3tese nula - *null-hypothesis*). O teste avalia se a m\u00e9dia esperada difere significativamente entre as duas amostras. Implementado na rotina `tttest_ind`, o teste tamb\u00e9m computa o **p-valor**. Se o valor do p-valor for menor que um limiar (por exemplo, 1%), rejeita-se a hip\u00f3tese de m\u00e9dias iguais."
     ]
    },
    {
     "cell_type": "markdown",
     "metadata": {
      "slideshow": {
       "slide_type": "notes"
      }
     },
     "source": [
      "Considere como exemplo tr\u00eas amostras, $a$, $b$ e $c$. As amostras $a$ e $c$ s\u00e3o produzidas a partir de uma distribui\u00e7\u00e3o normal $\\mathcal{N}(0, 1.)$ enquanto que $b$ \u00e9 oriunda de uma distribui\u00e7\u00e3o $\\mathcal{N}(1, 1)$. Note que todas as distribui\u00e7\u00f5es tem a mesma vari\u00e2ncias, mas a distribui\u00e7\u00e3o de $b$ difere das outras duas em rela\u00e7\u00e3o \u00e0 m\u00e9dia:"
     ]
    },
    {
     "cell_type": "code",
     "collapsed": false,
     "input": [
      "a = random.normal(0, 1, size=500)\n",
      "b = random.normal(1, 1, size=100)\n",
      "c = random.normal(0, 1, size=100)"
     ],
     "language": "python",
     "metadata": {
      "slideshow": {
       "slide_type": "fragment"
      }
     },
     "outputs": [],
     "prompt_number": 50
    },
    {
     "cell_type": "code",
     "collapsed": false,
     "input": [
      "n, pan, binstches = hist(a, 25, label='a')\n",
      "n, pan, binstches = hist(b, 25, alpha=0.75, label='b')\n",
      "n, pan, binstches = hist(c, 25, alpha=0.5, label='c')\n",
      "legend()"
     ],
     "language": "python",
     "metadata": {
      "slideshow": {
       "slide_type": "fragment"
      }
     },
     "outputs": [
      {
       "metadata": {},
       "output_type": "pyout",
       "prompt_number": 51,
       "text": [
        "<matplotlib.legend.Legend at 0x7fc08d2df090>"
       ]
      },
      {
       "metadata": {},
       "output_type": "display_data",
       "png": "[encoded data removed]",
       "text": [
        "<matplotlib.figure.Figure at 0x7fc08d2df0d0>"
       ]
      }
     ],
     "prompt_number": 51
    },
    {
     "cell_type": "markdown",
     "metadata": {
      "slideshow": {
       "slide_type": "notes"
      }
     },
     "source": [
      "Como esperado, $a$ e $b$ diferem segundo o teste (note o baix\u00edssimo p-valor):"
     ]
    },
    {
     "cell_type": "code",
     "collapsed": false,
     "input": [
      "stats.ttest_ind(a, b)"
     ],
     "language": "python",
     "metadata": {
      "slideshow": {
       "slide_type": "fragment"
      }
     },
     "outputs": [
      {
       "metadata": {},
       "output_type": "pyout",
       "prompt_number": 52,
       "text": [
        "(array(-9.133939657615127), 1.012363940213494e-18)"
       ]
      }
     ],
     "prompt_number": 52
    },
    {
     "cell_type": "markdown",
     "metadata": {
      "slideshow": {
       "slide_type": "notes"
      }
     },
     "source": [
      "O teste corretamente informa que n\u00e3o podemos descartar a hip\u00f3tese nula para $a$ e $c$:"
     ]
    },
    {
     "cell_type": "code",
     "collapsed": false,
     "input": [
      "stats.ttest_ind(a, c)"
     ],
     "language": "python",
     "metadata": {
      "slideshow": {
       "slide_type": "fragment"
      }
     },
     "outputs": [
      {
       "metadata": {},
       "output_type": "pyout",
       "prompt_number": 53,
       "text": [
        "(array(0.8294178095763991), 0.40719898095416118)"
       ]
      }
     ],
     "prompt_number": 53
    }
   ],
   "metadata": {}
  }
 ]
}