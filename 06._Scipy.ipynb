{
 "metadata": {
  "celltoolbar": "Slideshow",
  "name": "",
  "signature": "sha256:44e3df3bd6fded6a87e6a1aff5332549e862d7248509a21a65e02541c217589a"
 },
 "nbformat": 3,
 "nbformat_minor": 0,
 "worksheets": [
  {
   "cells": [
    {
     "cell_type": "markdown",
     "metadata": {
      "slideshow": {
       "slide_type": "slide"
      }
     },
     "source": [
      "# Scipy\n",
      "\n",
      "* Implementa procedimentos comuns em computa\u00e7\u00e3o cient\u00edfica:\n",
      "  * `scipy.cluster` - K-m\u00e9dias, *vector quantization*\n",
      "\n",
      "  * `scipy.constants` - constantes f\u00edsicas e matem\u00e1ticas\n",
      "  * `scipy.fftpack` - transformada de Fourier\n",
      "  * `scipy.integrate` - integra\u00e7\u00e3o\n",
      "  * `scipy.interpolate` - interpola\u00e7\u00e3o\n",
      "  * `scipy.io` - IO, permite a leitura de arquivos `.mat` (Matlab)\n",
      "  * `scipy.linalg` - \u00e1lgebra linear\n",
      "  * `scipy.ndimage` - processamento de sinais $n$-dimensionais\n",
      "  * `scipy.odr` - regress\u00e3o \n",
      "  "
     ]
    },
    {
     "cell_type": "markdown",
     "metadata": {
      "slideshow": {
       "slide_type": "subslide"
      }
     },
     "source": [
      "* *Continua\u00e7\u00e3o...*\n",
      "  * `scipy.optimize` - otimiza\u00e7\u00e3o\n",
      "     * BFGS, m\u00e9todo de Newton, ra\u00edzes de fun\u00e7\u00f5es, *simulated annealing*,...\n",
      "  * `scipy.signal` - processamento de sinais\n",
      "  * `scipy.sparse` - matrizes esparsas\n",
      "  * `scipy.spatial` - algoritmos e estruturas de dados espaciais\n",
      "     * KD-Trees, Voronoi, Delaunay e fecho convexo\n",
      "  * `scipy.special` - fun\u00e7\u00f5es matem\u00e1ticas diversas\n",
      "     * Bessel, fun\u00e7\u00f5es el\u00edpticas, hipergeom\u00e9tricas, parab\u00f3licas,...\n",
      "  * `scipy.stats` - estat\u00edstica\n",
      "* Equivalente \u00e0 GSL (*GNU Scientific Library* - C/C++) e \u00e0s *toolboxes* do Matlab\n",
      "* Integra\u00e7\u00e3o com a NumPy para produzir implementa\u00e7\u00f5es eficientes"
     ]
    },
    {
     "cell_type": "markdown",
     "metadata": {
      "slideshow": {
       "slide_type": "subslide"
      }
     },
     "source": [
      "> *Before implementing a routine, it is worth checking if the desired data processing is not already implemented in Scipy. As non-professional programmers, **scientists often tend to re-invent the wheel**, which leads to **buggy, non-optimal, difficult-to-share and unmaintainable code**. By contrast, Scipy\u2018s routines are optimized and tested, and should therefore be used when possible.* \n",
      "\n",
      "> [*Scipy lecture notes*](http://scipy-lectures.github.io/intro/scipy.html)"
     ]
    },
    {
     "cell_type": "markdown",
     "metadata": {
      "slideshow": {
       "slide_type": "slide"
      }
     },
     "source": [
      "## \u00c1lgebra Linear - `scipy.linalg`\n",
      "\n",
      "O m\u00f3dulo `scipy.linalg` fornece opera\u00e7\u00f5es b\u00e1sicas de \u00e1lgebra linear e baseia-se em bibliotecas nativas eficientes como BLAS e LAPACK."
     ]
    },
    {
     "cell_type": "code",
     "collapsed": false,
     "input": [
      "from scipy import linalg\n",
      "A = np.array([[1, 2],\n",
      "              [3, 4]])\n",
      "linalg.det(A)"
     ],
     "language": "python",
     "metadata": {
      "slideshow": {
       "slide_type": "fragment"
      }
     },
     "outputs": [
      {
       "metadata": {},
       "output_type": "pyout",
       "prompt_number": 1,
       "text": [
        "-2.0"
       ]
      }
     ],
     "prompt_number": 1
    },
    {
     "cell_type": "code",
     "collapsed": false,
     "input": [
      "linalg.det(ones((3, 4)))"
     ],
     "language": "python",
     "metadata": {
      "slideshow": {
       "slide_type": "fragment"
      }
     },
     "outputs": [
      {
       "ename": "ValueError",
       "evalue": "expected square matrix",
       "output_type": "pyerr",
       "traceback": [
        "\u001b[1;31m---------------------------------------------------------------------------\u001b[0m\n\u001b[1;31mValueError\u001b[0m                                Traceback (most recent call last)",
        "\u001b[1;32m<ipython-input-2-737d1704a8e7>\u001b[0m in \u001b[0;36m<module>\u001b[1;34m()\u001b[0m\n\u001b[1;32m----> 1\u001b[1;33m \u001b[0mlinalg\u001b[0m\u001b[1;33m.\u001b[0m\u001b[0mdet\u001b[0m\u001b[1;33m(\u001b[0m\u001b[0mones\u001b[0m\u001b[1;33m(\u001b[0m\u001b[1;33m(\u001b[0m\u001b[1;36m3\u001b[0m\u001b[1;33m,\u001b[0m \u001b[1;36m4\u001b[0m\u001b[1;33m)\u001b[0m\u001b[1;33m)\u001b[0m\u001b[1;33m)\u001b[0m\u001b[1;33m\u001b[0m\u001b[0m\n\u001b[0m",
        "\u001b[1;32m/usr/lib/python2.7/dist-packages/scipy/linalg/basic.pyc\u001b[0m in \u001b[0;36mdet\u001b[1;34m(a, overwrite_a, check_finite)\u001b[0m\n\u001b[0;32m    440\u001b[0m         \u001b[0ma1\u001b[0m \u001b[1;33m=\u001b[0m \u001b[0mnp\u001b[0m\u001b[1;33m.\u001b[0m\u001b[0masarray\u001b[0m\u001b[1;33m(\u001b[0m\u001b[0ma\u001b[0m\u001b[1;33m)\u001b[0m\u001b[1;33m\u001b[0m\u001b[0m\n\u001b[0;32m    441\u001b[0m     \u001b[1;32mif\u001b[0m \u001b[0mlen\u001b[0m\u001b[1;33m(\u001b[0m\u001b[0ma1\u001b[0m\u001b[1;33m.\u001b[0m\u001b[0mshape\u001b[0m\u001b[1;33m)\u001b[0m \u001b[1;33m!=\u001b[0m \u001b[1;36m2\u001b[0m \u001b[1;32mor\u001b[0m \u001b[0ma1\u001b[0m\u001b[1;33m.\u001b[0m\u001b[0mshape\u001b[0m\u001b[1;33m[\u001b[0m\u001b[1;36m0\u001b[0m\u001b[1;33m]\u001b[0m \u001b[1;33m!=\u001b[0m \u001b[0ma1\u001b[0m\u001b[1;33m.\u001b[0m\u001b[0mshape\u001b[0m\u001b[1;33m[\u001b[0m\u001b[1;36m1\u001b[0m\u001b[1;33m]\u001b[0m\u001b[1;33m:\u001b[0m\u001b[1;33m\u001b[0m\u001b[0m\n\u001b[1;32m--> 442\u001b[1;33m         \u001b[1;32mraise\u001b[0m \u001b[0mValueError\u001b[0m\u001b[1;33m(\u001b[0m\u001b[1;34m'expected square matrix'\u001b[0m\u001b[1;33m)\u001b[0m\u001b[1;33m\u001b[0m\u001b[0m\n\u001b[0m\u001b[0;32m    443\u001b[0m     \u001b[0moverwrite_a\u001b[0m \u001b[1;33m=\u001b[0m \u001b[0moverwrite_a\u001b[0m \u001b[1;32mor\u001b[0m \u001b[0m_datacopied\u001b[0m\u001b[1;33m(\u001b[0m\u001b[0ma1\u001b[0m\u001b[1;33m,\u001b[0m \u001b[0ma\u001b[0m\u001b[1;33m)\u001b[0m\u001b[1;33m\u001b[0m\u001b[0m\n\u001b[0;32m    444\u001b[0m     \u001b[0mfdet\u001b[0m\u001b[1;33m,\u001b[0m \u001b[1;33m=\u001b[0m \u001b[0mget_flinalg_funcs\u001b[0m\u001b[1;33m(\u001b[0m\u001b[1;33m(\u001b[0m\u001b[1;34m'det'\u001b[0m\u001b[1;33m,\u001b[0m\u001b[1;33m)\u001b[0m\u001b[1;33m,\u001b[0m \u001b[1;33m(\u001b[0m\u001b[0ma1\u001b[0m\u001b[1;33m,\u001b[0m\u001b[1;33m)\u001b[0m\u001b[1;33m)\u001b[0m\u001b[1;33m\u001b[0m\u001b[0m\n",
        "\u001b[1;31mValueError\u001b[0m: expected square matrix"
       ]
      }
     ],
     "prompt_number": 2
    },
    {
     "cell_type": "markdown",
     "metadata": {
      "slideshow": {
       "slide_type": "subslide"
      }
     },
     "source": [
      "### Invers\u00e3o de matrizes"
     ]
    },
    {
     "cell_type": "code",
     "collapsed": false,
     "input": [
      "A = array([[1, 2],\n",
      "              [3, 4]])\n",
      "Ainv = linalg.inv(A)\n",
      "dot(A, Ainv)"
     ],
     "language": "python",
     "metadata": {
      "slideshow": {
       "slide_type": "fragment"
      }
     },
     "outputs": [
      {
       "metadata": {},
       "output_type": "pyout",
       "prompt_number": 3,
       "text": [
        "array([[  1.00000000e+00,   0.00000000e+00],\n",
        "       [  8.88178420e-16,   1.00000000e+00]])"
       ]
      }
     ],
     "prompt_number": 3
    },
    {
     "cell_type": "code",
     "collapsed": false,
     "input": [
      "A = array([[3, 2],\n",
      "           [6, 4]])\n",
      "linalg.inv(A)"
     ],
     "language": "python",
     "metadata": {
      "slideshow": {
       "slide_type": "subslide"
      }
     },
     "outputs": [
      {
       "ename": "LinAlgError",
       "evalue": "singular matrix",
       "output_type": "pyerr",
       "traceback": [
        "\u001b[1;31m---------------------------------------------------------------------------\u001b[0m\n\u001b[1;31mLinAlgError\u001b[0m                               Traceback (most recent call last)",
        "\u001b[1;32m<ipython-input-4-467e3ab89c8b>\u001b[0m in \u001b[0;36m<module>\u001b[1;34m()\u001b[0m\n\u001b[0;32m      1\u001b[0m A = array([[3, 2],\n\u001b[0;32m      2\u001b[0m            [6, 4]])\n\u001b[1;32m----> 3\u001b[1;33m \u001b[0mlinalg\u001b[0m\u001b[1;33m.\u001b[0m\u001b[0minv\u001b[0m\u001b[1;33m(\u001b[0m\u001b[0mA\u001b[0m\u001b[1;33m)\u001b[0m\u001b[1;33m\u001b[0m\u001b[0m\n\u001b[0m",
        "\u001b[1;32m/usr/lib/python2.7/dist-packages/scipy/linalg/basic.pyc\u001b[0m in \u001b[0;36minv\u001b[1;34m(a, overwrite_a, check_finite)\u001b[0m\n\u001b[0;32m    381\u001b[0m         \u001b[0minv_a\u001b[0m\u001b[1;33m,\u001b[0m \u001b[0minfo\u001b[0m \u001b[1;33m=\u001b[0m \u001b[0mgetri\u001b[0m\u001b[1;33m(\u001b[0m\u001b[0mlu\u001b[0m\u001b[1;33m,\u001b[0m \u001b[0mpiv\u001b[0m\u001b[1;33m,\u001b[0m \u001b[0mlwork\u001b[0m\u001b[1;33m=\u001b[0m\u001b[0mlwork\u001b[0m\u001b[1;33m,\u001b[0m \u001b[0moverwrite_lu\u001b[0m\u001b[1;33m=\u001b[0m\u001b[1;36m1\u001b[0m\u001b[1;33m)\u001b[0m\u001b[1;33m\u001b[0m\u001b[0m\n\u001b[0;32m    382\u001b[0m     \u001b[1;32mif\u001b[0m \u001b[0minfo\u001b[0m \u001b[1;33m>\u001b[0m \u001b[1;36m0\u001b[0m\u001b[1;33m:\u001b[0m\u001b[1;33m\u001b[0m\u001b[0m\n\u001b[1;32m--> 383\u001b[1;33m         \u001b[1;32mraise\u001b[0m \u001b[0mLinAlgError\u001b[0m\u001b[1;33m(\u001b[0m\u001b[1;34m\"singular matrix\"\u001b[0m\u001b[1;33m)\u001b[0m\u001b[1;33m\u001b[0m\u001b[0m\n\u001b[0m\u001b[0;32m    384\u001b[0m     \u001b[1;32mif\u001b[0m \u001b[0minfo\u001b[0m \u001b[1;33m<\u001b[0m \u001b[1;36m0\u001b[0m\u001b[1;33m:\u001b[0m\u001b[1;33m\u001b[0m\u001b[0m\n\u001b[0;32m    385\u001b[0m         raise ValueError('illegal value in %d-th argument of internal '\n",
        "\u001b[1;31mLinAlgError\u001b[0m: singular matrix"
       ]
      }
     ],
     "prompt_number": 4
    },
    {
     "cell_type": "markdown",
     "metadata": {
      "slideshow": {
       "slide_type": "subslide"
      }
     },
     "source": [
      "### Decomposi\u00e7\u00e3o em valores singulares: SVD\n",
      "\n",
      "A **decomposi\u00e7\u00e3o em valores sigulares** (*singular value decomposition* - SVD)\n",
      "\u00e9 uma fatoriza\u00e7\u00e3o especial de uma matriz real $\\mathrm{\\tt A}$ com diversas aplica\u00e7\u00f5es pr\u00e1ticas:\n",
      "\n",
      "$\\mathrm{\\tt A} = \\mathrm{\\tt U \\Sigma V} ^\\top$\n",
      "\n",
      "sendo $\\mathrm{\\tt \\Sigma}$ uma matriz diagonal de n\u00fameros reais, $\\mathrm{\\tt U}$ e $\\mathrm{\\tt V}$ matrizes unit\u00e1rias (em matrizes reais, significa que\n",
      "$\\mathrm{\\tt U} \\mathrm{\\tt U^\\top} = \\mathrm{\\tt I}$.\n",
      "\n",
      "* As colunas de $\\mathrm{\\tt U}$ correspondem aos autovetores de $\\mathrm{\\tt A}\\mathrm{\\tt A}^\\top$\n",
      "* As colunas de $\\mathrm{\\tt V}$ correspondem aos autovetores de $\\mathrm{\\tt A}^\\top\\mathrm{\\tt A}$\n",
      "* Os autovalores de $\\mathrm{\\tt A}\\mathrm{\\tt A}^\\top$ e $\\mathrm{\\tt A}\\mathrm{\\tt A}^\\top$ correspondem aos valores da diagonal de $\\mathrm{\\tt \\Sigma}$.\n",
      "\n",
      "#### Aplica\u00e7\u00e3o: resolu\u00e7\u00e3o de sistemas homog\u00eaneos $\\mathrm{\\tt A}\\mathbf{x} = \\mathbf{0}$"
     ]
    },
    {
     "cell_type": "code",
     "collapsed": false,
     "input": [
      "A = array([[ 0.84499381, -0.46944101],\n",
      "           [ 0.6248284 , -0.34712689],\n",
      "           [ 0.46448266, -0.25804592],\n",
      "           [ 0.64654437, -0.35919131],\n",
      "           [ 0.73794547, -0.4099697 ],\n",
      "           [ 0.8193507 , -0.45519483],\n",
      "           [ 0.92559289, -0.51421827],\n",
      "           [ 0.43297558, -0.24054199],\n",
      "           [ 0.35868939, -0.19927188]])"
     ],
     "language": "python",
     "metadata": {
      "slideshow": {
       "slide_type": "fragment"
      }
     },
     "outputs": [],
     "prompt_number": 5
    },
    {
     "cell_type": "code",
     "collapsed": false,
     "input": [
      "U, s, VT = linalg.svd(A)\n",
      "V = VT.T"
     ],
     "language": "python",
     "metadata": {
      "slideshow": {
       "slide_type": "subslide"
      }
     },
     "outputs": [],
     "prompt_number": 6
    },
    {
     "cell_type": "markdown",
     "metadata": {
      "slideshow": {
       "slide_type": "fragment"
      }
     },
     "source": [
      "Se o sistema $\\mathrm{\\tt A} \\mathbf{x} = 0$ tem solu\u00e7\u00e3o, ent\u00e3o o menor valor singular \u00e9 zero:"
     ]
    },
    {
     "cell_type": "code",
     "collapsed": false,
     "input": [
      "print s \n",
      "print abs(s[1]) < 1.0e-7"
     ],
     "language": "python",
     "metadata": {
      "slideshow": {
       "slide_type": "fragment"
      }
     },
     "outputs": [
      {
       "output_type": "stream",
       "stream": "stdout",
       "text": [
        "[  2.32393669e+00   8.86916086e-09]\n",
        "True\n"
       ]
      }
     ],
     "prompt_number": 7
    },
    {
     "cell_type": "markdown",
     "metadata": {
      "slideshow": {
       "slide_type": "fragment"
      }
     },
     "source": [
      "Assim, a solu\u00e7\u00e3o aqui corresponde encontra-se no 2\u00ba valor singular \u00e0 direita, ou seja, a \u00faltima coluna de $\\mathrm{\\tt V}$:"
     ]
    },
    {
     "cell_type": "code",
     "collapsed": false,
     "input": [
      "x = V[:,-1]\n",
      "print x"
     ],
     "language": "python",
     "metadata": {
      "slideshow": {
       "slide_type": "fragment"
      }
     },
     "outputs": [
      {
       "output_type": "stream",
       "stream": "stdout",
       "text": [
        "[ 0.48564293  0.87415728]\n"
       ]
      }
     ],
     "prompt_number": 8
    },
    {
     "cell_type": "code",
     "collapsed": false,
     "input": [
      "dot(A, x)"
     ],
     "language": "python",
     "metadata": {
      "slideshow": {
       "slide_type": "fragment"
      }
     },
     "outputs": [
      {
       "metadata": {},
       "output_type": "pyout",
       "prompt_number": 9,
       "text": [
        "array([ -5.76358272e-09,  -2.36029274e-09,   9.10016895e-10,\n",
        "         4.39043324e-09,   3.21596083e-09,   1.09242354e-09,\n",
        "        -1.15040977e-10,  -1.93379981e-09,   2.11648343e-09])"
       ]
      }
     ],
     "prompt_number": 9
    },
    {
     "cell_type": "markdown",
     "metadata": {
      "slideshow": {
       "slide_type": "fragment"
      }
     },
     "source": [
      "#### Aplica\u00e7\u00e3o: otimiza\u00e7\u00e3o por m\u00ednimos quadrados\n",
      "\n",
      "SVD pode ser utilizado para encontrar o vetor $\\mathbf{x}$ que minimiza a norma Euclideana de $\\mathrm{\\tt A}\\mathbf{x}$ sujeito \u00e0 restri\u00e7\u00e3o $\\|\\mathbf{x}\\| = 1$."
     ]
    },
    {
     "cell_type": "markdown",
     "metadata": {
      "slideshow": {
       "slide_type": "slide"
      }
     },
     "source": [
      "## Otimiza\u00e7\u00e3o - `scipy.optimize`\n",
      "\n",
      "**Otimiza\u00e7\u00e3o** consiste em encontrar uma solu\u00e7\u00e3o num\u00e9rica que minimiza uma fun\u00e7\u00e3o. Este m\u00f3dulo fornece algoritmos para minimiza\u00e7\u00e3o de fun\u00e7\u00f5es, *fitting* e busca de ra\u00edzes (zeros de uma fun\u00e7\u00e3o).\n",
      "\n",
      "Considere a seguinte fun\u00e7\u00e3o:"
     ]
    },
    {
     "cell_type": "code",
     "collapsed": false,
     "input": [
      "def f(x):\n",
      "    return x**2 + 10 * sin(x)\n",
      "\n",
      "x = arange(-10, 10, 0.1)\n",
      "figsize(14,5)\n",
      "plot(x, f(x), 'r-')"
     ],
     "language": "python",
     "metadata": {
      "slideshow": {
       "slide_type": "fragment"
      }
     },
     "outputs": [
      {
       "metadata": {},
       "output_type": "pyout",
       "prompt_number": 10,
       "text": [
        "[<matplotlib.lines.Line2D at 0x7f3aa8c43f50>]"
       ]
      },
      {
       "metadata": {},
       "output_type": "display_data",
       "png": "[encoded data removed]",
       "text": [
        "<matplotlib.figure.Figure at 0x7f3aa8d144d0>"
       ]
      }
     ],
     "prompt_number": 10
    },
    {
     "cell_type": "markdown",
     "metadata": {
      "slideshow": {
       "slide_type": "subslide"
      }
     },
     "source": [
      "Uma alternativa para obter o m\u00ednimo desta fun\u00e7\u00e3o \u00e9 m\u00e9todo de *gradientes descendentes*:"
     ]
    },
    {
     "cell_type": "code",
     "collapsed": false,
     "input": [
      "from scipy.optimize import fmin_bfgs\n",
      "\n",
      "xmin = fmin_bfgs(f, 0)\n",
      "xmin"
     ],
     "language": "python",
     "metadata": {
      "slideshow": {
       "slide_type": "fragment"
      }
     },
     "outputs": [
      {
       "output_type": "stream",
       "stream": "stdout",
       "text": [
        "Optimization terminated successfully.\n",
        "         Current function value: -7.945823\n",
        "         Iterations: 5\n",
        "         Function evaluations: 24\n",
        "         Gradient evaluations: 8\n"
       ]
      },
      {
       "metadata": {},
       "output_type": "pyout",
       "prompt_number": 11,
       "text": [
        "array([-1.30644003])"
       ]
      }
     ],
     "prompt_number": 11
    },
    {
     "cell_type": "code",
     "collapsed": false,
     "input": [
      "plot(x, f(x), 'r-')\n",
      "scatter([xmin],[f(xmin)], 10, color='red')\n",
      "annotate('%f' % xmin, \n",
      "        xy=(xmin, f(xmin)), fontsize=12, xycoords='data',\n",
      "          xytext=(-90, -50), textcoords='offset points',\n",
      "          arrowprops=dict(arrowstyle=\"->\", connectionstyle=\"arc3,rad=.2\"))\n",
      "title(u'M\u00e9todo quasi-Newton BFGS')"
     ],
     "language": "python",
     "metadata": {
      "slideshow": {
       "slide_type": "fragment"
      }
     },
     "outputs": [
      {
       "metadata": {},
       "output_type": "pyout",
       "prompt_number": 12,
       "text": [
        "<matplotlib.text.Text at 0x7f3aa8b0af50>"
       ]
      },
      {
       "metadata": {},
       "output_type": "display_data",
       "png": "[encoded data removed]",
       "text": [
        "<matplotlib.figure.Figure at 0x7f3aa8b33f90>"
       ]
      }
     ],
     "prompt_number": 12
    },
    {
     "cell_type": "markdown",
     "metadata": {
      "slideshow": {
       "slide_type": "subslide"
      }
     },
     "source": [
      "Um problema com este m\u00e9todo \u00e9 que dependendo do ponto inicial o processo de *descida* pode ficar \"preso\" em um **m\u00ednimo local**:"
     ]
    },
    {
     "cell_type": "code",
     "collapsed": false,
     "input": [
      "xmin = fmin_bfgs(f, 3, disp=0)\n",
      "xmin"
     ],
     "language": "python",
     "metadata": {
      "slideshow": {
       "slide_type": "fragment"
      }
     },
     "outputs": [
      {
       "metadata": {},
       "output_type": "pyout",
       "prompt_number": 13,
       "text": [
        "array([ 3.83746663])"
       ]
      }
     ],
     "prompt_number": 13
    },
    {
     "cell_type": "code",
     "collapsed": false,
     "input": [
      "plot(x, f(x), 'r-')\n",
      "scatter([xmin],[f(xmin)], 10, color='red')\n",
      "annotate('%f' % xmin, \n",
      "        xy=(xmin, f(xmin)), fontsize=12, xycoords='data',\n",
      "          xytext=(40, -75), textcoords='offset points',\n",
      "          arrowprops=dict(arrowstyle=\"->\", connectionstyle=\"arc3,rad=.2\"))\n",
      "title(u'BFGS preso a um m\u00ednimo local')"
     ],
     "language": "python",
     "metadata": {
      "slideshow": {
       "slide_type": "fragment"
      }
     },
     "outputs": [
      {
       "metadata": {},
       "output_type": "pyout",
       "prompt_number": 14,
       "text": [
        "<matplotlib.text.Text at 0x7f3a9e735190>"
       ]
      },
      {
       "metadata": {},
       "output_type": "display_data",
       "png": "[encoded data removed]",
       "text": [
        "<matplotlib.figure.Figure at 0x7f3aa8d0b6d0>"
       ]
      }
     ],
     "prompt_number": 14
    },
    {
     "cell_type": "markdown",
     "metadata": {
      "slideshow": {
       "slide_type": "subslide"
      }
     },
     "source": [
      "Podemos computar o m\u00ednimo global por **for\u00e7a bruta**, isto \u00e9, calculando o valor de $f(x)$ para *todo $x$* em uma certa *grade* (conjunto de valores em um intervalo espa\u00e7ado). "
     ]
    },
    {
     "cell_type": "code",
     "collapsed": false,
     "input": [
      "from scipy.optimize import brute\n",
      "grid = (-10, 10, 0.1)\n",
      "xmin = brute(f, (grid,))\n",
      "xmin"
     ],
     "language": "python",
     "metadata": {
      "slideshow": {
       "slide_type": "fragment"
      }
     },
     "outputs": [
      {
       "metadata": {},
       "output_type": "pyout",
       "prompt_number": 15,
       "text": [
        "array([-1.30641113])"
       ]
      }
     ],
     "prompt_number": 15
    },
    {
     "cell_type": "code",
     "collapsed": false,
     "input": [
      "plot(x, f(x), 'r-')\n",
      "scatter([xmin],[f(xmin)], 10, color='red')\n",
      "annotate('%f' % xmin, \n",
      "        xy=(xmin, f(xmin)), fontsize=12, xycoords='data',\n",
      "          xytext=(-90, -50), textcoords='offset points',\n",
      "          arrowprops=dict(arrowstyle=\"->\", connectionstyle=\"arc3,rad=.2\"))\n",
      "title(u'For\u00e7a bruta')"
     ],
     "language": "python",
     "metadata": {
      "slideshow": {
       "slide_type": "fragment"
      }
     },
     "outputs": [
      {
       "metadata": {},
       "output_type": "pyout",
       "prompt_number": 16,
       "text": [
        "<matplotlib.text.Text at 0x7f3a9e6708d0>"
       ]
      },
      {
       "metadata": {},
       "output_type": "display_data",
       "png": "[encoded data removed]",
       "text": [
        "<matplotlib.figure.Figure at 0x7f3a9e700b10>"
       ]
      }
     ],
     "prompt_number": 16
    },
    {
     "cell_type": "markdown",
     "metadata": {
      "slideshow": {
       "slide_type": "subslide"
      }
     },
     "source": [
      "Obviamente, se a grade for muito grande, `brute` se torna *muito lenta*. Outros algoritmos podem ser utilizados como, por exemplo, *simulated annealing*:"
     ]
    },
    {
     "cell_type": "code",
     "collapsed": false,
     "input": [
      "def f_d(x):\n",
      "    return 2*x + 10 * cos(x)\n",
      "\n",
      "from scipy.optimize import fmin_ncg\n",
      "xmin = fmin_ncg(f, 0, f_d)\n",
      "xmin"
     ],
     "language": "python",
     "metadata": {
      "slideshow": {
       "slide_type": "fragment"
      }
     },
     "outputs": [
      {
       "output_type": "stream",
       "stream": "stdout",
       "text": [
        "Optimization terminated successfully.\n",
        "         Current function value: -7.945823\n",
        "         Iterations: 5\n",
        "         Function evaluations: 7\n",
        "         Gradient evaluations: 21\n",
        "         Hessian evaluations: 0\n"
       ]
      },
      {
       "metadata": {},
       "output_type": "pyout",
       "prompt_number": 17,
       "text": [
        "array([-1.30644001])"
       ]
      }
     ],
     "prompt_number": 17
    },
    {
     "cell_type": "code",
     "collapsed": false,
     "input": [
      "plot(x, f(x), 'r-')\n",
      "scatter([xmin],[f(xmin)], 10, color='red')\n",
      "annotate('%f' % xmin, \n",
      "        xy=(xmin, f(xmin)), fontsize=12, xycoords='data',\n",
      "          xytext=(-90, -70), textcoords='offset points',\n",
      "          arrowprops=dict(arrowstyle=\"->\", connectionstyle=\"arc3,rad=.2\"))\n",
      "title(u'M\u00e9todo de Newton truncado')"
     ],
     "language": "python",
     "metadata": {
      "slideshow": {
       "slide_type": "fragment"
      }
     },
     "outputs": [
      {
       "metadata": {},
       "output_type": "pyout",
       "prompt_number": 18,
       "text": [
        "<matplotlib.text.Text at 0x7f3a9e5b3110>"
       ]
      },
      {
       "metadata": {},
       "output_type": "display_data",
       "png": "[encoded data removed]",
       "text": [
        "<matplotlib.figure.Figure at 0x7f3a9e656490>"
       ]
      }
     ],
     "prompt_number": 18
    },
    {
     "cell_type": "markdown",
     "metadata": {
      "slideshow": {
       "slide_type": "subslide"
      }
     },
     "source": [
      "### Encontrar as ra\u00edzes de uma fun\u00e7\u00e3o"
     ]
    },
    {
     "cell_type": "code",
     "collapsed": false,
     "input": [
      "import scipy.optimize as opt\n",
      "\n",
      "root0 = opt.fsolve(f, 1.)\n",
      "root1 = opt.fsolve(f, -3.)\n",
      "root0, root1"
     ],
     "language": "python",
     "metadata": {
      "slideshow": {
       "slide_type": "fragment"
      }
     },
     "outputs": [
      {
       "metadata": {},
       "output_type": "pyout",
       "prompt_number": 19,
       "text": [
        "(array([ 0.]), array([-2.47948183]))"
       ]
      }
     ],
     "prompt_number": 19
    },
    {
     "cell_type": "code",
     "collapsed": false,
     "input": [
      "x0 = root0[0]\n",
      "x1 = root1[0]\n",
      "\n",
      "plot(x, f(x), 'r-')\n",
      "xlim([-10,10])\n",
      "ylim([-20,120])\n",
      "plot([-10,0], [0,f(x0)], 'r--')\n",
      "plot([x0,x0], [-20, f(x0)], 'r--')\n",
      "plot([x1,x1], [-20, f(x1)], 'r--')\n",
      "scatter([x0, x1],[f(x0), f(x1)], 10, color='red')\n",
      "title(u'Ra\u00edzes')"
     ],
     "language": "python",
     "metadata": {
      "slideshow": {
       "slide_type": "fragment"
      }
     },
     "outputs": [
      {
       "metadata": {},
       "output_type": "pyout",
       "prompt_number": 20,
       "text": [
        "<matplotlib.text.Text at 0x7f3a9e4f7110>"
       ]
      },
      {
       "metadata": {},
       "output_type": "display_data",
       "png": "[encoded data removed]",
       "text": [
        "<matplotlib.figure.Figure at 0x7f3a9e57e810>"
       ]
      }
     ],
     "prompt_number": 20
    },
    {
     "cell_type": "markdown",
     "metadata": {
      "slideshow": {
       "slide_type": "subslide"
      }
     },
     "source": [
      "### *Fitting*\n",
      "\n",
      "Suponha que tenhamos obtido uma *amostra* de $f(x)$ com algum *ru\u00eddo*:"
     ]
    },
    {
     "cell_type": "code",
     "collapsed": false,
     "input": [
      "xdata = np.linspace(-10, 10, num=10)\n",
      "ydata = f(xdata) + np.random.randn(xdata.size)\n",
      "plot(xdata, ydata, 'r+')\n",
      "xlim([-10,10])\n",
      "ylim([-20,120])"
     ],
     "language": "python",
     "metadata": {
      "slideshow": {
       "slide_type": "fragment"
      }
     },
     "outputs": [
      {
       "metadata": {},
       "output_type": "pyout",
       "prompt_number": 21,
       "text": [
        "(-20, 120)"
       ]
      },
      {
       "metadata": {},
       "output_type": "display_data",
       "png": "[encoded data removed]",
       "text": [
        "<matplotlib.figure.Figure at 0x7f3a9e474650>"
       ]
      }
     ],
     "prompt_number": 21
    },
    {
     "cell_type": "markdown",
     "metadata": {
      "slideshow": {
       "slide_type": "subslide"
      }
     },
     "source": [
      "Suponha que n\u00f3s tenhamos um bom **modelo param\u00e9trico**, mas com os par\u00e2metros desconhecidos. Aqui, nosso modelo \u00e9 da forma $\\theta_1 x^2 + \\theta_2 \\sin(x)$:"
     ]
    },
    {
     "cell_type": "code",
     "collapsed": false,
     "input": [
      "def model(x, theta1, theta2):\n",
      "    return theta1 * x**2 + theta2 * sin(x)"
     ],
     "language": "python",
     "metadata": {
      "slideshow": {
       "slide_type": "fragment"
      }
     },
     "outputs": [],
     "prompt_number": 22
    },
    {
     "cell_type": "markdown",
     "metadata": {
      "slideshow": {
       "slide_type": "fragment"
      }
     },
     "source": [
      "N\u00f3s podemos estimar os par\u00e2metros $\\theta_1$ e $\\theta_2$ atrav\u00e9s de m\u00ednimos quadrados:"
     ]
    },
    {
     "cell_type": "code",
     "collapsed": false,
     "input": [
      "chute = [2,2]\n",
      "theta, theta_cov = opt.curve_fit(model, xdata, ydata, chute)\n",
      "theta"
     ],
     "language": "python",
     "metadata": {
      "slideshow": {
       "slide_type": "fragment"
      }
     },
     "outputs": [
      {
       "metadata": {},
       "output_type": "pyout",
       "prompt_number": 23,
       "text": [
        "array([ 1.00257174,  9.9872515 ])"
       ]
      }
     ],
     "prompt_number": 23
    },
    {
     "cell_type": "markdown",
     "metadata": {
      "slideshow": {
       "slide_type": "fragment"
      }
     },
     "source": [
      "Note como o resultado acima \u00e9 muito pr\u00f3ximo da nossa fun\u00e7\u00e3o verdadeira, $f(x) = x^2 + 10 \\sin(x)$."
     ]
    },
    {
     "cell_type": "code",
     "collapsed": false,
     "input": [
      "X = linspace(-10, 10, num=100)\n",
      "plot(X, f(X), 'r-', label=r'$f(x)$')\n",
      "theta1, theta2 = theta\n",
      "y = [model(x, theta1, theta2) for x in X]\n",
      "plot(X, y, 'b--', label=r'modelo')\n",
      "xlim([-10,10])\n",
      "ylim([-20,120])\n",
      "title(u'Fitting')\n",
      "legend()"
     ],
     "language": "python",
     "metadata": {
      "slideshow": {
       "slide_type": "subslide"
      }
     },
     "outputs": [
      {
       "metadata": {},
       "output_type": "pyout",
       "prompt_number": 24,
       "text": [
        "<matplotlib.legend.Legend at 0x7f3a9e405210>"
       ]
      },
      {
       "metadata": {},
       "output_type": "display_data",
       "png": "[encoded data removed]",
       "text": [
        "<matplotlib.figure.Figure at 0x7f3a9e44d8d0>"
       ]
      }
     ],
     "prompt_number": 24
    },
    {
     "cell_type": "markdown",
     "metadata": {
      "slideshow": {
       "slide_type": "fragment"
      }
     },
     "source": [
      "O resultado \u00e9 *muito bom*, mas h\u00e1 um por\u00e9m: o modelo escolhido \u00e9 perfeito. E se nosso palpite fosse menos preciso?"
     ]
    },
    {
     "cell_type": "code",
     "collapsed": false,
     "input": [
      "def model2(x, theta1, theta2, theta3):\n",
      "    return theta1 * x**2 + theta2 * x + theta3"
     ],
     "language": "python",
     "metadata": {
      "slideshow": {
       "slide_type": "subslide"
      }
     },
     "outputs": [],
     "prompt_number": 25
    },
    {
     "cell_type": "code",
     "collapsed": false,
     "input": [
      "chute = [2,2,2]\n",
      "theta, theta_cov = opt.curve_fit(model2, xdata, ydata, chute)\n",
      "theta"
     ],
     "language": "python",
     "metadata": {
      "slideshow": {
       "slide_type": "fragment"
      }
     },
     "outputs": [
      {
       "metadata": {},
       "output_type": "pyout",
       "prompt_number": 26,
       "text": [
        "array([ 0.99549433,  0.00848021,  0.51202033])"
       ]
      }
     ],
     "prompt_number": 26
    },
    {
     "cell_type": "code",
     "collapsed": false,
     "input": [
      "plot(X, f(X), 'r-', label=r'$f(x)$')\n",
      "theta1, theta2, theta3 = theta\n",
      "y = [model2(x, theta1, theta2, theta3) for x in X]\n",
      "plot(X, y, 'b--', label=r'$\\theta_1 x^2 + \\theta_2 x + \\theta_3$')\n",
      "xlim([-10,10])\n",
      "ylim([-20,120])\n",
      "title(u'Fitting (modelo polinomial)')\n",
      "legend()"
     ],
     "language": "python",
     "metadata": {
      "slideshow": {
       "slide_type": "fragment"
      }
     },
     "outputs": [
      {
       "metadata": {},
       "output_type": "pyout",
       "prompt_number": 27,
       "text": [
        "<matplotlib.legend.Legend at 0x7f3a9e19aa50>"
       ]
      },
      {
       "metadata": {},
       "output_type": "display_data",
       "png": "[encoded data removed]",
       "text": [
        "<matplotlib.figure.Figure at 0x7f3a9e405b50>"
       ]
      }
     ],
     "prompt_number": 27
    },
    {
     "cell_type": "markdown",
     "metadata": {
      "slideshow": {
       "slide_type": "slide"
      }
     },
     "source": [
      "## Exerc\u00edcio 7\n",
      "\n",
      "Os vetores abaixo correspondem \u00e0s temperaturas extremas do Alasca para cada m\u00eas (em \u00b0C):"
     ]
    },
    {
     "cell_type": "code",
     "collapsed": false,
     "input": [
      "tmax = [17,  19,  21,  28,  33,  38, 37,  37,  31,  23,  19,  18]\n",
      "tmin = [-62, -59, -56, -46, -32, -18, -9, -13, -25, -46, -52, -58]\n",
      "month = arange(12)"
     ],
     "language": "python",
     "metadata": {
      "slideshow": {
       "slide_type": "fragment"
      }
     },
     "outputs": [],
     "prompt_number": 28
    },
    {
     "cell_type": "markdown",
     "metadata": {
      "slideshow": {
       "slide_type": "fragment"
      }
     },
     "source": [
      "* Visualize as temperaturas em um gr\u00e1fico com Matplotlib\n",
      "* Escolha um modelo para descrever as temperaturas\n",
      "* Use `curve_fit` para encontrar os par\u00e2metros do seu modelo"
     ]
    },
    {
     "cell_type": "markdown",
     "metadata": {
      "slideshow": {
       "slide_type": "subslide"
      }
     },
     "source": [
      "### Solu\u00e7\u00e3o"
     ]
    },
    {
     "cell_type": "code",
     "collapsed": false,
     "input": [
      "plot(month, tmin, 'bo-')\n",
      "plot(month, tmax, 'ro-')\n",
      "xlim(0,11)\n",
      "ylim(-80,60)\n",
      "ylabel(r'Celsius')\n",
      "xlabel(u'M\u00eas')\n",
      "title(r'Extremos de temperatura no Alasca')"
     ],
     "language": "python",
     "metadata": {
      "slideshow": {
       "slide_type": "fragment"
      }
     },
     "outputs": [
      {
       "metadata": {},
       "output_type": "pyout",
       "prompt_number": 29,
       "text": [
        "<matplotlib.text.Text at 0x7f3a9e156c50>"
       ]
      },
      {
       "metadata": {},
       "output_type": "display_data",
       "png": "[encoded data removed]",
       "text": [
        "<matplotlib.figure.Figure at 0x7f3a9e294590>"
       ]
      }
     ],
     "prompt_number": 29
    },
    {
     "cell_type": "code",
     "collapsed": false,
     "input": [
      "import scipy.optimize as opt\n",
      "\n",
      "def f(x, a, b, c, d):\n",
      "    return a * exp(-(x-b)**2/(2*c**2)) + d"
     ],
     "language": "python",
     "metadata": {
      "slideshow": {
       "slide_type": "subslide"
      }
     },
     "outputs": [],
     "prompt_number": 30
    },
    {
     "cell_type": "code",
     "collapsed": false,
     "input": [
      "theta_min, theta_min_cov = opt.curve_fit(f, month, tmin, [10., 6, 2, -60])\n",
      "theta_min"
     ],
     "language": "python",
     "metadata": {
      "slideshow": {
       "slide_type": "fragment"
      }
     },
     "outputs": [
      {
       "metadata": {},
       "output_type": "pyout",
       "prompt_number": 31,
       "text": [
        "array([ 52.64929193,   6.16452601,   1.9759001 , -61.32093597])"
       ]
      }
     ],
     "prompt_number": 31
    },
    {
     "cell_type": "code",
     "collapsed": false,
     "input": [
      "theta_max, theta_max_cov = opt.curve_fit(f, month, tmax, [10., 6, 2, -60])\n",
      "theta_max"
     ],
     "language": "python",
     "metadata": {
      "slideshow": {
       "slide_type": "fragment"
      }
     },
     "outputs": [
      {
       "metadata": {},
       "output_type": "pyout",
       "prompt_number": 32,
       "text": [
        "array([ 23.09208263,   5.73581613,   2.2944347 ,  15.77932609])"
       ]
      }
     ],
     "prompt_number": 32
    },
    {
     "cell_type": "code",
     "collapsed": false,
     "input": [
      "X = linspace(0, 11, 25)\n",
      "a, b, c, d = theta_max\n",
      "plot(month, tmax, 'ro-', linewidth=3, alpha=0.3, label=u'm\u00e1ximas')\n",
      "plot(X, [f(x, a, b, c, d) for x in X], 'm^-', alpha=0.7, label=r'$f_{\\max}$')\n",
      "\n",
      "a, b, c, d = theta_min\n",
      "plot(month, tmin, 'bo-', linewidth=3, alpha=0.3, label=u'm\u00ednimas')\n",
      "plot(X, [f(x, a, b, c, d) for x in X], 'g^-', alpha=0.7, label=r'$f_{\\min}$')\n",
      "\n",
      "ylabel(r'Celsius')\n",
      "xlabel(u'M\u00eas')\n",
      "xlim(0,11)\n",
      "ylim(-80,60)\n",
      "legend(bbox_to_anchor=(1.34,1))\n",
      "title(r'Extremos de temperatura no Alasca')"
     ],
     "language": "python",
     "metadata": {
      "slideshow": {
       "slide_type": "subslide"
      }
     },
     "outputs": [
      {
       "metadata": {},
       "output_type": "pyout",
       "prompt_number": 33,
       "text": [
        "<matplotlib.text.Text at 0x7f3a9e202c90>"
       ]
      },
      {
       "metadata": {},
       "output_type": "display_data",
       "png": "[encoded data removed]",
       "text": [
        "<matplotlib.figure.Figure at 0x7f3a9e153e90>"
       ]
      }
     ],
     "prompt_number": 33
    },
    {
     "cell_type": "markdown",
     "metadata": {
      "slideshow": {
       "slide_type": "slide"
      }
     },
     "source": [
      "## Estat\u00edstica - `scipy.stats`\n",
      "\n",
      "### Fun\u00e7\u00f5es de densidade de probabilidade"
     ]
    },
    {
     "cell_type": "code",
     "collapsed": false,
     "input": [
      "from scipy import stats"
     ],
     "language": "python",
     "metadata": {
      "slideshow": {
       "slide_type": "fragment"
      }
     },
     "outputs": [],
     "prompt_number": 34
    },
    {
     "cell_type": "code",
     "collapsed": false,
     "input": [
      "X = arange(-2, 12, 0.05)\n",
      "plot(X, [stats.norm.pdf(x, 5., 1.5) for x in X])\n",
      "xlabel('x')\n",
      "ylabel(r'$N(5, 1.5)$')"
     ],
     "language": "python",
     "metadata": {
      "slideshow": {
       "slide_type": "fragment"
      }
     },
     "outputs": [
      {
       "metadata": {},
       "output_type": "pyout",
       "prompt_number": 35,
       "text": [
        "<matplotlib.text.Text at 0x7f3a9df67f10>"
       ]
      },
      {
       "metadata": {},
       "output_type": "display_data",
       "png": "[encoded data removed]",
       "text": [
        "<matplotlib.figure.Figure at 0x7f3a9e467950>"
       ]
      }
     ],
     "prompt_number": 35
    },
    {
     "cell_type": "markdown",
     "metadata": {
      "slideshow": {
       "slide_type": "subslide"
      }
     },
     "source": [
      "### *Fitting*"
     ]
    },
    {
     "cell_type": "code",
     "collapsed": false,
     "input": [
      "iris_data = loadtxt('./data/iris.data.txt', usecols=(0,1,2,3))\n",
      "iris_class = loadtxt('./data/iris.data.txt', dtype='string')[:,4]\n",
      "\n",
      "setosa = iris_data[iris_class == 'Iris-setosa']\n",
      "virginica = iris_data[iris_class == 'Iris-virginica']\n",
      "versicolor = iris_data[iris_class == 'Iris-versicolor']"
     ],
     "language": "python",
     "metadata": {
      "slideshow": {
       "slide_type": "fragment"
      }
     },
     "outputs": [],
     "prompt_number": 36
    },
    {
     "cell_type": "code",
     "collapsed": false,
     "input": [
      "sep_len = setosa[:,0]\n",
      "mu, sig = stats.norm.fit(sep_len)\n",
      "mu, sig"
     ],
     "language": "python",
     "metadata": {
      "slideshow": {
       "slide_type": "fragment"
      }
     },
     "outputs": [
      {
       "metadata": {},
       "output_type": "pyout",
       "prompt_number": 37,
       "text": [
        "(5.0059999999999993, 0.34894698737773899)"
       ]
      }
     ],
     "prompt_number": 37
    },
    {
     "cell_type": "code",
     "collapsed": false,
     "input": [
      "subplot(2,1,1)\n",
      "n, pan, binstches = hist(sep_len, 10)\n",
      "\n",
      "subplot(2,1,2)\n",
      "X = arange(3, 7, 0.05)\n",
      "plot(X, [stats.norm.pdf(x, mu, sig) for x in X])\n",
      "xlabel(u'Comprimento da s\u00e9pala')\n",
      "ylabel(r'$N(%.2f, %.2f)$' % (mu, sig))"
     ],
     "language": "python",
     "metadata": {
      "slideshow": {
       "slide_type": "subslide"
      }
     },
     "outputs": [
      {
       "metadata": {},
       "output_type": "pyout",
       "prompt_number": 38,
       "text": [
        "<matplotlib.text.Text at 0x7f3a9be8f250>"
       ]
      },
      {
       "metadata": {},
       "output_type": "display_data",
       "png": "[encoded data removed]",
       "text": [
        "<matplotlib.figure.Figure at 0x7f3a9bf8dbd0>"
       ]
      }
     ],
     "prompt_number": 38
    },
    {
     "cell_type": "markdown",
     "metadata": {
      "slideshow": {
       "slide_type": "subslide"
      }
     },
     "source": [
      "### Percentis"
     ]
    },
    {
     "cell_type": "code",
     "collapsed": false,
     "input": [
      "np.median(sep_len)"
     ],
     "language": "python",
     "metadata": {
      "slideshow": {
       "slide_type": "fragment"
      }
     },
     "outputs": [
      {
       "metadata": {},
       "output_type": "pyout",
       "prompt_number": 39,
       "text": [
        "5.0"
       ]
      }
     ],
     "prompt_number": 39
    },
    {
     "cell_type": "code",
     "collapsed": false,
     "input": [
      "stats.scoreatpercentile(sep_len, 50)"
     ],
     "language": "python",
     "metadata": {
      "slideshow": {
       "slide_type": "fragment"
      }
     },
     "outputs": [
      {
       "metadata": {},
       "output_type": "pyout",
       "prompt_number": 40,
       "text": [
        "5.0"
       ]
      }
     ],
     "prompt_number": 40
    },
    {
     "cell_type": "code",
     "collapsed": false,
     "input": [
      "stats.scoreatpercentile(sep_len, 90)"
     ],
     "language": "python",
     "metadata": {
      "slideshow": {
       "slide_type": "fragment"
      }
     },
     "outputs": [
      {
       "metadata": {},
       "output_type": "pyout",
       "prompt_number": 41,
       "text": [
        "5.4100000000000001"
       ]
      }
     ],
     "prompt_number": 41
    },
    {
     "cell_type": "code",
     "collapsed": false,
     "input": [
      "stats.scoreatpercentile(sep_len, 15)"
     ],
     "language": "python",
     "metadata": {
      "slideshow": {
       "slide_type": "fragment"
      }
     },
     "outputs": [
      {
       "metadata": {},
       "output_type": "pyout",
       "prompt_number": 42,
       "text": [
        "4.5999999999999996"
       ]
      }
     ],
     "prompt_number": 42
    },
    {
     "cell_type": "markdown",
     "metadata": {
      "slideshow": {
       "slide_type": "subslide"
      }
     },
     "source": [
      "### Testes estat\u00edsticos\n",
      "\n",
      "* *T teste* - testa a hip\u00f3tese de que a m\u00e9dia de duas popula\u00e7\u00f5es com distribui\u00e7\u00e3o normal (e mesma vari\u00e2ncia) s\u00e3o iguais (*null-hypothesis*);\n",
      "* *p-valor* - a probabilidade de dois processos serem id\u00eanticos."
     ]
    },
    {
     "cell_type": "code",
     "collapsed": false,
     "input": [
      "a = np.random.normal(0, 1, size=500)\n",
      "b = np.random.normal(1, 1, size=100)\n",
      "c = np.random.normal(0, 1, size=100)"
     ],
     "language": "python",
     "metadata": {
      "slideshow": {
       "slide_type": "fragment"
      }
     },
     "outputs": [],
     "prompt_number": 43
    },
    {
     "cell_type": "code",
     "collapsed": false,
     "input": [
      "n, pan, binstches = hist(a, 25, label='a')\n",
      "n, pan, binstches = hist(b, 25, alpha=0.75, label='b')\n",
      "n, pan, binstches = hist(c, 25, alpha=0.5, label='c')\n",
      "legend()"
     ],
     "language": "python",
     "metadata": {
      "slideshow": {
       "slide_type": "fragment"
      }
     },
     "outputs": [
      {
       "metadata": {},
       "output_type": "pyout",
       "prompt_number": 44,
       "text": [
        "<matplotlib.legend.Legend at 0x7f3a9e053d90>"
       ]
      },
      {
       "metadata": {},
       "output_type": "display_data",
       "png": "[encoded data removed]",
       "text": [
        "<matplotlib.figure.Figure at 0x7f3a9bf10890>"
       ]
      }
     ],
     "prompt_number": 44
    },
    {
     "cell_type": "code",
     "collapsed": false,
     "input": [
      "stats.ttest_ind(a, b)"
     ],
     "language": "python",
     "metadata": {
      "slideshow": {
       "slide_type": "fragment"
      }
     },
     "outputs": [
      {
       "metadata": {},
       "output_type": "pyout",
       "prompt_number": 45,
       "text": [
        "(array(-8.098973663538303), 3.1225295015678306e-15)"
       ]
      }
     ],
     "prompt_number": 45
    },
    {
     "cell_type": "code",
     "collapsed": false,
     "input": [
      "stats.ttest_ind(a, c)"
     ],
     "language": "python",
     "metadata": {
      "slideshow": {
       "slide_type": "fragment"
      }
     },
     "outputs": [
      {
       "metadata": {},
       "output_type": "pyout",
       "prompt_number": 46,
       "text": [
        "(array(-0.1831522791160062), 0.85474061544614233)"
       ]
      }
     ],
     "prompt_number": 46
    },
    {
     "cell_type": "code",
     "collapsed": false,
     "input": [
      "stats.ttest_ind(a, a)"
     ],
     "language": "python",
     "metadata": {
      "slideshow": {
       "slide_type": "fragment"
      }
     },
     "outputs": [
      {
       "metadata": {},
       "output_type": "pyout",
       "prompt_number": 47,
       "text": [
        "(array(0.0), 1.0)"
       ]
      }
     ],
     "prompt_number": 47
    }
   ],
   "metadata": {}
  }
 ]
}