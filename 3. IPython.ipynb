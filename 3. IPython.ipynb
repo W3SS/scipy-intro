{
 "metadata": {
  "celltoolbar": "Slideshow",
  "name": "",
  "signature": "sha256:65834a345969aad6415182ca806f744e7ef82b8ee37cf9f21c8193e305967fec"
 },
 "nbformat": 3,
 "nbformat_minor": 0,
 "worksheets": [
  {
   "cells": [
    {
     "cell_type": "markdown",
     "metadata": {
      "slideshow": {
       "slide_type": "slide"
      }
     },
     "source": [
      "# IPython\n",
      "\n",
      "* IPython \u00e9 um sistema para computa\u00e7\u00e3o cient\u00edfica **interativa**\n",
      "\n",
      "> This flexible style matches well the spirit of computing in a \n",
      "> scientific context, in which determining what computations must \n",
      "> be performed next often requires significant work. An interactive \n",
      "> environment lets scientists look at data, test new ideas, combine \n",
      "> algorithmic ap- proaches, and evaluate their outcomes directly\n",
      ">\n",
      "Fernando P\u00e9rez e Brian E. Granger, [IPython: A System for Interactive Scientific Computing](10.1109/MCSE.2007.53)\n",
      "\n",
      "\n",
      "* Estende a funcionalidade b\u00e1sica do interpretador Python\n",
      "* Possui recursos para **visualiza\u00e7\u00e3o de dados**\n",
      "* Facilita o emprego de **computa\u00e7\u00e3o paralela e distribu\u00edda**"
     ]
    },
    {
     "cell_type": "markdown",
     "metadata": {
      "slideshow": {
       "slide_type": "slide"
      }
     },
     "source": [
      "## Console b\u00e1sico\n",
      "\n",
      "O console b\u00e1sico pode ser iniciado simplemente executando o comando `ipython`"
     ]
    },
    {
     "cell_type": "markdown",
     "metadata": {
      "slideshow": {
       "slide_type": "fragment"
      }
     },
     "source": [
      "    thiago@lntd053:~$ ipython\n",
      "    Python 2.7.5+ (default, Feb 27 2014, 19:37:08) \n",
      "    Type \"copyright\", \"credits\" or \"license\" for more information.\n",
      "    \n",
      "    IPython 0.13.1 -- An enhanced Interactive Python.\n",
      "    ?         -> Introduction and overview of IPython's features.\n",
      "    %quickref -> Quick reference.\n",
      "    help      -> Python's own help system.\n",
      "    object?   -> Details about 'object', use 'object??' for extra details.\n",
      "    \n",
      "    In [1]: \n"
     ]
    },
    {
     "cell_type": "markdown",
     "metadata": {
      "slideshow": {
       "slide_type": "subslide"
      }
     },
     "source": [
      "## Qtconsole\n",
      "\n",
      "Qtconsole \u00e9 um terminal IPython que utiliza uma interface gr\u00e1fica baseada na biblioteca Qt."
     ]
    },
    {
     "cell_type": "markdown",
     "metadata": {
      "slideshow": {
       "slide_type": "fragment"
      }
     },
     "source": [
      "    $ ipython qtconsole"
     ]
    },
    {
     "cell_type": "markdown",
     "metadata": {
      "slideshow": {
       "slide_type": "subslide"
      }
     },
     "source": [
      "## Pylab\n",
      "\n",
      "* O comando `pylab` simplesmente importa para o ambiente os pacotes essenciais para arrays da NumPy e as rotinas de *plotting* da Matplotlib. \n",
      "* Podemos executar o comando \"m\u00e1gico\" `%pylab` dentro de um console IPython em execu\u00e7\u00e3o.\n",
      "* Alternativamente, podemos iniciar o IPython j\u00e1 com o pylab carregado."
     ]
    },
    {
     "cell_type": "markdown",
     "metadata": {
      "slideshow": {
       "slide_type": "fragment"
      }
     },
     "source": [
      "    $ ipython qtconsole --pylab"
     ]
    },
    {
     "cell_type": "markdown",
     "metadata": {
      "slideshow": {
       "slide_type": "slide"
      }
     },
     "source": [
      "## Exerc\u00edcio 1\n",
      "\n",
      "Explore os *containers* da linguagem Python utilizando um console IPython. Utilize os recursos de auto-completar do console IPython para explorar a funcionalidade dessas estruturas de dados.\n",
      "\n",
      "1. Crie uma lista. Visualize seu conte\u00fado. Adicione e remova elementos.\n",
      "2. Crie um dicion\u00e1rio. Acesse os valores atrav\u00e9s de suas chaves. Adicione e remova novos pares chave/valor.\n",
      "3. Crie e visualize tuplas."
     ]
    },
    {
     "cell_type": "markdown",
     "metadata": {
      "slideshow": {
       "slide_type": "slide"
      }
     },
     "source": [
      "## Exerc\u00edcio 2\n",
      "\n",
      "Compute o valor de $\\pi$ utilizando a f\u00f3rmula de Wallis:\n",
      "\n",
      "$\\pi = 2 \\prod_{i=1}^{\\infty} \\frac{4i^2}{4i^2-1}$"
     ]
    },
    {
     "cell_type": "markdown",
     "metadata": {
      "slideshow": {
       "slide_type": "subslide"
      }
     },
     "source": [
      "### Solu\u00e7\u00e3o"
     ]
    },
    {
     "cell_type": "code",
     "collapsed": false,
     "input": [
      "a = range(1,10000,1)\n",
      "pi = 2.\n",
      "for i in a:\n",
      "    pi = pi * 4*i**2/(4*i**2-1)\n",
      "pi"
     ],
     "language": "python",
     "metadata": {
      "slideshow": {
       "slide_type": "fragment"
      }
     },
     "outputs": [
      {
       "metadata": {},
       "output_type": "pyout",
       "prompt_number": 1,
       "text": [
        "3.141514110828136"
       ]
      }
     ],
     "prompt_number": 1
    },
    {
     "cell_type": "markdown",
     "metadata": {
      "slideshow": {
       "slide_type": "slide"
      }
     },
     "source": [
      "## Seu \"caderno de laborat\u00f3rio\": IPython Notebook\n",
      "\n",
      "* IPython notebooks s\u00e3o uma forma elegante de manter **anota\u00e7\u00f5es e c\u00f3digo**\n",
      "* Possibilitam a cria\u00e7\u00e3o de **\"artigos execut\u00e1veis\"** (*executable papers*)"
     ]
    },
    {
     "cell_type": "markdown",
     "metadata": {
      "slideshow": {
       "slide_type": "fragment"
      }
     },
     "source": [
      "    ipython notebook --pylab=inline"
     ]
    },
    {
     "cell_type": "markdown",
     "metadata": {
      "slideshow": {
       "slide_type": "fragment"
      }
     },
     "source": [
      "* IPython notebooks est\u00e3o impactando a divulga\u00e7\u00e3o de material cient\u00edfico. \n",
      "  * Livros inteiros t\u00eam sido escritos utilizando-se notebooks\n",
      "  * *Exemplo*: [Probabilistic Programming and Bayesian Methods for Hackers](http://nbviewer.ipython.org/github/CamDavidsonPilon/Probabilistic-Programming-and-Bayesian-Methods-for-Hackers/blob/master/Prologue/Prologue.ipynb) por Cameron Davidson-Pilon\n",
      "  * Notebooks podem ser publicados na Web, em s\u00edtios como [nbviewer.ipython.org](http://nbviewer.ipython.org/)\n"
     ]
    },
    {
     "cell_type": "markdown",
     "metadata": {
      "slideshow": {
       "slide_type": "subslide"
      }
     },
     "source": [
      "### C\u00e9lulas\n",
      "\n",
      "* O conte\u00fado dos notebooks \u00e9 dividido em **c\u00e9lulas**\n",
      "* H\u00e1 dois tipos de c\u00e9lula: *c\u00f3digo* e *texto*\n",
      "* C\u00e9lulas de c\u00f3digo cont\u00e9m *micro-programas* em Python\n",
      "* C\u00e9lulas de texto cont\u00e9m anota\u00e7\u00f5es, que podem ser facilmente formatadas utilizando-se a marca\u00e7\u00e3o [Markdown](http://daringfireball.net/projects/markdown/syntax)"
     ]
    },
    {
     "cell_type": "markdown",
     "metadata": {
      "slideshow": {
       "slide_type": "subslide"
      }
     },
     "source": [
      "#### Matem\u00e1tica\n",
      "\n",
      "* C\u00e9lulas de texto suportam tamb\u00e9m **f\u00f3rmulas matem\u00e1ticas**, utilizando a sintaxe do LaTeX\n",
      "    * *Exemplo*: `y = 3 x^2 + \\epsilon`, colocado entre cifr\u00f5es produz $y = 3 x^2 + \\epsilon$\n",
      "* Para mais detalhes sobre como escrever f\u00f3rmulas matem\u00e1ticas na sintaxe do LaTeX, considere [este guia no Wikibooks](http://en.wikibooks.org/wiki/LaTeX/Mathematics)\n",
      "* *Exemplos*:\n",
      "\n",
      "    $\\lim_{x \\to \\infty} \\exp(-x) = 0$\n",
      "\n",
      "    $\\sqrt[n]{1+x+x^2+x^3+\\ldots}$\n",
      "\n",
      "    $\\int_0^\\infty \\mathrm{e}^{-x} \\mathrm{d}x$\n",
      "\n",
      "    $\\sum_{i=1}^{10} t_i$"
     ]
    },
    {
     "cell_type": "markdown",
     "metadata": {
      "slideshow": {
       "slide_type": "subslide"
      }
     },
     "source": [
      "### Os arquivos `.ipynb`\n",
      "\n",
      "- Os notebooks IPython s\u00e3o armazenados como arquivos *JSON*\n",
      "- Esses arquivos podem ser *convertidos* para outrso formatos:\n",
      "    - um script Python\n",
      "    - um documento em reStructuredText\n",
      "    - um documento em HTML\n",
      "    - um documento LaTeX\n",
      "    - um documento em Markdown\n",
      "    - slides\n",
      "  \n",
      "- Para mais detalhes, confira:\n",
      "\n",
      "`$ ipython nbconvert --help`"
     ]
    },
    {
     "cell_type": "markdown",
     "metadata": {
      "slideshow": {
       "slide_type": "slide"
      }
     },
     "source": [
      "## Visualiza\u00e7\u00e3o cient\u00edfica\n",
      "\n",
      "IPython integra-se facilmente \u00e0 Matplotlib"
     ]
    },
    {
     "cell_type": "code",
     "collapsed": false,
     "input": [
      "data = random.rand(100)\n",
      "bp = boxplot(data)"
     ],
     "language": "python",
     "metadata": {
      "slideshow": {
       "slide_type": "subslide"
      }
     },
     "outputs": [
      {
       "metadata": {},
       "output_type": "display_data",
       "png": "[encoded data removed]"
      }
     ],
     "prompt_number": 2
    },
    {
     "cell_type": "code",
     "collapsed": false,
     "input": [
      "plot(data)"
     ],
     "language": "python",
     "metadata": {
      "slideshow": {
       "slide_type": "subslide"
      }
     },
     "outputs": [
      {
       "metadata": {},
       "output_type": "pyout",
       "prompt_number": 3,
       "text": [
        "[<matplotlib.lines.Line2D at 0x3c9b250>]"
       ]
      },
      {
       "metadata": {},
       "output_type": "display_data",
       "png": "[encoded data removed]"
      }
     ],
     "prompt_number": 3
    },
    {
     "cell_type": "code",
     "collapsed": false,
     "input": [
      "plot(data, 'ro')"
     ],
     "language": "python",
     "metadata": {
      "slideshow": {
       "slide_type": "subslide"
      }
     },
     "outputs": [
      {
       "metadata": {},
       "output_type": "pyout",
       "prompt_number": 4,
       "text": [
        "[<matplotlib.lines.Line2D at 0x3d36d50>]"
       ]
      },
      {
       "metadata": {},
       "output_type": "display_data",
       "png": "[encoded data removed]"
      }
     ],
     "prompt_number": 4
    },
    {
     "cell_type": "code",
     "collapsed": false,
     "input": [
      "plot(data, 'r-')\n",
      "plot(data, 'ro')\n",
      "title('Data, data, data')\n",
      "xlabel('x')\n",
      "ylabel('y = f(x)')"
     ],
     "language": "python",
     "metadata": {
      "slideshow": {
       "slide_type": "subslide"
      }
     },
     "outputs": [
      {
       "metadata": {},
       "output_type": "pyout",
       "prompt_number": 5,
       "text": [
        "<matplotlib.text.Text at 0x3d50350>"
       ]
      },
      {
       "metadata": {},
       "output_type": "display_data",
       "png": "[encoded data removed]"
      }
     ],
     "prompt_number": 5
    },
    {
     "cell_type": "markdown",
     "metadata": {
      "slideshow": {
       "slide_type": "slide"
      }
     },
     "source": [
      "## Acesso ao sistema operacional (IPython como um console de sistema)\n",
      "\n",
      "Podemos executar comandos do sistema diretamente do console IPython. Por exemplo, para listar arquivos no diret\u00f3rio corrente:"
     ]
    },
    {
     "cell_type": "code",
     "collapsed": false,
     "input": [
      "ls"
     ],
     "language": "python",
     "metadata": {
      "slideshow": {
       "slide_type": "fragment"
      }
     },
     "outputs": [
      {
       "output_type": "stream",
       "stream": "stdout",
       "text": [
        "1. Introdu\u00e7\u00e3o.ipynb          4. NumPy.ipynb       ex1data1.txt     libpeerconnection.log  trig.pdf\r\n",
        "2. A Linguagem Python.ipynb  5. Matplotlib.ipynb  iris.data.txt    populations.txt        \u001b[0m\u001b[01;35mtrig.png\u001b[0m\r\n",
        "3. IPython.ipynb             6. Scipy.ipynb       \u001b[01;35mjohn-hunter.jpg\u001b[0m  \u001b[01;35mpython.png\u001b[0m             \u001b[01;35mtrig.tif\u001b[0m\r\n"
       ]
      }
     ],
     "prompt_number": 6
    },
    {
     "cell_type": "markdown",
     "metadata": {
      "slideshow": {
       "slide_type": "subslide"
      }
     },
     "source": [
      "Utilizando `!` antes do comando, podemos armazenar o resultado em uma vari\u00e1vel Python: "
     ]
    },
    {
     "cell_type": "code",
     "collapsed": false,
     "input": [
      "l = !ls"
     ],
     "language": "python",
     "metadata": {
      "slideshow": {
       "slide_type": "fragment"
      }
     },
     "outputs": [],
     "prompt_number": 7
    },
    {
     "cell_type": "code",
     "collapsed": false,
     "input": [
      "l"
     ],
     "language": "python",
     "metadata": {
      "slideshow": {
       "slide_type": "fragment"
      }
     },
     "outputs": [
      {
       "metadata": {},
       "output_type": "pyout",
       "prompt_number": 8,
       "text": [
        "['1. Introdu\\xc3\\xa7\\xc3\\xa3o.ipynb',\n",
        " '2. A Linguagem Python.ipynb',\n",
        " '3. IPython.ipynb',\n",
        " '4. NumPy.ipynb',\n",
        " '5. Matplotlib.ipynb',\n",
        " '6. Scipy.ipynb',\n",
        " 'ex1data1.txt',\n",
        " 'iris.data.txt',\n",
        " 'john-hunter.jpg',\n",
        " 'libpeerconnection.log',\n",
        " 'populations.txt',\n",
        " 'python.png',\n",
        " 'trig.pdf',\n",
        " 'trig.png',\n",
        " 'trig.tif']"
       ]
      }
     ],
     "prompt_number": 8
    },
    {
     "cell_type": "code",
     "collapsed": false,
     "input": [
      "figs = [f for f in l if f.endswith('.png')]"
     ],
     "language": "python",
     "metadata": {
      "slideshow": {
       "slide_type": "fragment"
      }
     },
     "outputs": [],
     "prompt_number": 9
    },
    {
     "cell_type": "code",
     "collapsed": false,
     "input": [
      "figs"
     ],
     "language": "python",
     "metadata": {
      "slideshow": {
       "slide_type": "fragment"
      }
     },
     "outputs": [
      {
       "metadata": {},
       "output_type": "pyout",
       "prompt_number": 10,
       "text": [
        "['python.png', 'trig.png']"
       ]
      }
     ],
     "prompt_number": 10
    },
    {
     "cell_type": "markdown",
     "metadata": {
      "slideshow": {
       "slide_type": "subslide"
      }
     },
     "source": [
      "E podemos executar comandos do sistema utilizando par\u00e2metros armazenados em vari\u00e1veis Python:"
     ]
    },
    {
     "cell_type": "code",
     "collapsed": false,
     "input": [
      "for f in figs:\n",
      "    !cp $f /tmp/"
     ],
     "language": "python",
     "metadata": {
      "slideshow": {
       "slide_type": "fragment"
      }
     },
     "outputs": [],
     "prompt_number": 11
    },
    {
     "cell_type": "code",
     "collapsed": false,
     "input": [
      "ls /tmp/*.png"
     ],
     "language": "python",
     "metadata": {
      "slideshow": {
       "slide_type": "fragment"
      }
     },
     "outputs": [
      {
       "output_type": "stream",
       "stream": "stdout",
       "text": [
        "\u001b[0m\u001b[01;35m/tmp/python.png\u001b[0m  \u001b[01;35m/tmp/trig.png\u001b[0m\r\n"
       ]
      }
     ],
     "prompt_number": 12
    },
    {
     "cell_type": "markdown",
     "metadata": {
      "slideshow": {
       "slide_type": "slide"
      }
     },
     "source": [
      "## Exerc\u00edcio 3\n",
      "\n",
      "Explore o uso das c\u00e9lulas de texto (*Markdown*). \n",
      "\n",
      "* Visite [http://www.markitdown.net/markdown](http://www.markitdown.net/markdown) e teste v\u00e1rias formata\u00e7\u00f5es de texto (**negrito**, *it\u00e1lico*, `code`, etc.).\n",
      "* Visite [http://en.wikibooks.org/wiki/LaTeX/Mathematics](http://en.wikibooks.org/wiki/LaTeX/Mathematics) e teste v\u00e1rias f\u00f3rmulas matem\u00e1ticas em seu notebook."
     ]
    }
   ],
   "metadata": {}
  }
 ]
}