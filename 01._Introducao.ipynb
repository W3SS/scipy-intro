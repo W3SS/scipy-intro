{
 "metadata": {
  "celltoolbar": "Slideshow",
  "name": "",
  "signature": "sha256:aff3d113ef48a0adec005ae279e9125cc2d125fcafb8fff3c3b9dcda3cb0b45e"
 },
 "nbformat": 3,
 "nbformat_minor": 0,
 "worksheets": [
  {
   "cells": [
    {
     "cell_type": "markdown",
     "metadata": {
      "slideshow": {
       "slide_type": "slide"
      }
     },
     "source": [
      "# Introdu\u00e7\u00e3o"
     ]
    },
    {
     "cell_type": "markdown",
     "metadata": {
      "slideshow": {
       "slide_type": "notes"
      }
     },
     "source": [
      "Pesquisadores empregam cotidianamente t\u00e9cnicas computacionais para simula\u00e7\u00e3o, visualiza\u00e7\u00e3o e an\u00e1lise de dados e teste de hip\u00f3teses. Assumindo uma vis\u00e3o Popperiana\u00b9 da ci\u00eancia, a computa\u00e7\u00e3o auxilia o cientista no desenvolvimento de modelos com boa capacidade de predi\u00e7\u00e3o, isto \u00e9, capazes n\u00e3o s\u00f3 de explicar os dados observados no passado mas tamb\u00e9m prever fen\u00f4menos futuros (DHAR, 2013).\n",
      "\n",
      "\u00b9 Karl Popper defendia que o crit\u00e9rio principal para se avaliar um modelo era sua capacidade de prever fen\u00f4menos futuros, ou seja, seu **poder de predi\u00e7\u00e3o**. Ver Popper (1963) ou Dhar (2013) para um vis\u00e3o moderna envolvendo computa\u00e7\u00e3o e ci\u00eancia dos dados."
     ]
    },
    {
     "cell_type": "markdown",
     "metadata": {
      "slideshow": {
       "slide_type": "notes"
      }
     },
     "source": [
      "O presente material se originou em um tutorial sobre **computa\u00e7\u00e3o cient\u00edfica com Python**  regularmente oferecido pelo autor na Embrapa Inform\u00e1tica Agropecu\u00e1ria, na forma de um curso introdut\u00f3rio com um dia de dura\u00e7\u00e3o. Texto e tutorial s\u00e3o inspirados nas [*Python scientific lecture notes*](http://scipy-lectures.github.io/intro/intro.html), editadas por Haenel, Gouillart e Varoquaux (2013)\u00b2 e fortemente recomendadas ao leitor interessado no tema.\n",
      "\n",
      "\u00b2 Alguns exemplos utilizados no presente texto s\u00e3o modifica\u00e7\u00f5es de exemplos contidos nas *Python scientific lecture notes*, mas obedecem extritamente os termos da licen\u00e7a Creative Commons Atribui\u00e7\u00e3o 3.0 (CC BY 3.0) que garante o direito de remix, transforma\u00e7\u00e3o e cria\u00e7\u00e3o a partir do material para qualquer fim."
     ]
    },
    {
     "cell_type": "markdown",
     "metadata": {
      "slideshow": {
       "slide_type": "slide"
      }
     },
     "source": [
      "## Computa\u00e7\u00e3o cient\u00edfica"
     ]
    },
    {
     "cell_type": "markdown",
     "metadata": {
      "slideshow": {
       "slide_type": "notes"
      }
     },
     "source": [
      "Com o enorme aumento no volume de dados dispon\u00edveis aos cientista devido \u00e0 informatiza\u00e7\u00e3o e a novos sensores, o desenvolvimento de modelos preditivos vem sendo chamado de **ci\u00eancia dos dados** (*data science* -  HEY; TANSLEY; TOLLE, 2009; DHAR, 2013). O cientista necessita ent\u00e3o de um ambiente no qual um vasto conjunto de ferramentas computacionais e estat\u00edstiscas estejam dispon\u00edveis, auxiliando-o no desenvolvimento de resultados replic\u00e1veis, ou seja, um ambiente de **computa\u00e7\u00e3o cient\u00edfica**.\n",
      "\n",
      "Tal ambiente deveria prover f\u00e1cil acesso a implementa\u00e7\u00f5es de diversas ferramentas matem\u00e1ticas em \u00e1lgebra linear, estat\u00edstica, processamento de sinais, visualiza\u00e7\u00e3o cient\u00edfica (*plotting* de gr\u00e1ficos 2D e 3D), c\u00e1lculo diferencial e integral, otimiza\u00e7\u00e3o,  e probabilidade entre muitas outras. Contudo, o uso de tal ambiente deveria implicar em um tempo de codifica\u00e7\u00e3o curto, permitindo que a explora\u00e7\u00e3o de ideias e a avalia\u00e7\u00e3o de modelos seja realizada rapidamente, al\u00e9m de produzir c\u00f3digo e documenta\u00e7\u00e3o leg\u00edveis para o cientista e seus pares, favorecendo a **reprodutibilidade** dos resultados."
     ]
    },
    {
     "cell_type": "markdown",
     "metadata": {
      "slideshow": {
       "slide_type": "skip"
      }
     },
     "source": [
      "#### **Pontos-chave**"
     ]
    },
    {
     "cell_type": "markdown",
     "metadata": {
      "slideshow": {
       "slide_type": "slide"
      }
     },
     "source": [
      "* H\u00e1 um conjunto vasto de ferramentas que deve estar \u00e0 disposi\u00e7\u00e3o do pesquisador\n",
      "* Pesquisadores **n\u00e3o** desejamo re-implementar:\n",
      "    * *plotting*;\n",
      "    * a Transformada de Fourier;\n",
      "    * m\u00ednimos quadrados;\n",
      "    * a solu\u00e7\u00e3o de um sistema linear $\\mathrm{\\tt A} \\mathbf{x} = \\mathbf{b}$.\n",
      "* C\u00f3digo e coment\u00e1rios deveriam ser leg\u00edveis, favorecendo **reprodutibilidade**\n",
      "* Tempo de desenvolvimento deve ser **curto** pois explorar ideias deve ser **r\u00e1pido**\n",
      "* Linguagem e ambiente n\u00e3o devem disputar o foco do pesquisador com o problema cient\u00edfico que est\u00e1 sendo tratado."
     ]
    },
    {
     "cell_type": "markdown",
     "metadata": {
      "slideshow": {
       "slide_type": "slide"
      }
     },
     "source": [
      "## Solu\u00e7\u00f5es existentes"
     ]
    },
    {
     "cell_type": "markdown",
     "metadata": {
      "slideshow": {
       "slide_type": "slide"
      }
     },
     "source": [
      "### Linguagens compiladas como C/C++ e Fortran"
     ]
    },
    {
     "cell_type": "markdown",
     "metadata": {
      "slideshow": {
       "slide_type": "notes"
      }
     },
     "source": [
      "A linguagem Fortran foi criada na d\u00e9cada de 1950 como uma alternativa \u00e0 linguagem *assembly* para computa\u00e7\u00e3o cient\u00edfica e an\u00e1lise num\u00e9rica (seu nome \u00e9 derivado da express\u00e3o *Formula Translating System*). Ao longo de quase 60 anos, in\u00fameras bibliotecas de computa\u00e7\u00e3o cient\u00edfica foram produzidas para a linguagem, como por exemplo as bibliotecas de \u00e1lgebra linear BLAS (Basic Linear Algebra Subprograms) e LAPACK. Com a cria\u00e7\u00e3o da linguagem C em 1972 e da linguagem C++ em 1985, parte da comunidade cient\u00edfica passou a utiliz\u00e1-las, e bibliotecas de computa\u00e7\u00e3o cient\u00edfica foram desenvolvidas especialmente para elas, como por examplo a GNU Scientific Library (GSL).\n",
      "\n",
      "Embora capazes de produzir c\u00f3digo extremamente eficiente quanto ao uso da capacidade dos processadores, essas linguagens apresentam tempos de desenvolvimento longos, marcados por ciclos de edi\u00e7\u00e3o, compila\u00e7\u00e3o e execu\u00e7\u00e3o de c\u00f3digo e atividades de gerenciamento de mem\u00f3ria e depura\u00e7\u00e3o. Mesmo opera\u00e7\u00f5es simples como a leitura de dados a partir de um arquivo podem requerer diversas linhas de c\u00f3digo. Outra desvantagem vem do fato de n\u00e3o fornecerem um modo **interativo** de programa\u00e7\u00e3o, no qual pequenos trechos de c\u00f3digo podem ser executados e seus resultados examinados prontamente pelo pesquisador."
     ]
    },
    {
     "cell_type": "markdown",
     "metadata": {
      "slideshow": {
       "slide_type": "skip"
      }
     },
     "source": [
      "#### Pontos-chave"
     ]
    },
    {
     "cell_type": "markdown",
     "metadata": {
      "slideshow": {
       "slide_type": "slide"
      }
     },
     "source": [
      "* Vantagens:\n",
      "    * execu\u00e7\u00e3o *r\u00e1pida*;\n",
      "        * h\u00e1 rotinas cient\u00edficas em c\u00f3digo extremamente eficiente e otimizadas\n",
      "    * *Exemplo*: BLAS (opera\u00e7\u00f5es com vetores e matrizes)\n",
      "* Desvantagens:\n",
      "    * n\u00e3o s\u00e3o interativas;\n",
      "    * gerenciamento de mem\u00f3ria deve ser realizado pelo programador;\n",
      "    * tempo de desenvolvimento \u00e9 **longo** \n",
      "        * ciclo de edi\u00e7\u00e3o-compila\u00e7\u00e3o-execu\u00e7\u00e3o\n",
      "        * depura\u00e7\u00e3o\n",
      "        * mesmo opera\u00e7\u00f5es simples podem requisitar muitas linhas de c\u00f3digo"
     ]
    },
    {
     "cell_type": "markdown",
     "metadata": {
      "slideshow": {
       "slide_type": "slide"
      }
     },
     "source": [
      "### MATLAB"
     ]
    },
    {
     "cell_type": "markdown",
     "metadata": {
      "slideshow": {
       "slide_type": "notes"
      }
     },
     "source": [
      "MATLAB, nome derivado da express\u00e3o *matrix laboratory*, \u00e9 um ambiente de computa\u00e7\u00e3o cient\u00edfica que se originou dos esfor\u00e7os de Cleve Moler, professor da Universidade do Novo M\u00e9xico, que desejava introduzir as ferramente de \u00e1lgebra linear dispon\u00edveis nas bibliotecas LAPACK e EISPACK aos seus alunos, mas sem que estes necessitassem aprender Fortran. MATLAB foi lan\u00e7ada como produto comercial em 1984. Desde ent\u00e3o, diversas bibliotecas de computa\u00e7\u00e3o cient\u00edfica, chamadas de *toolboxes*, passaram a ser fornecidas para MATLAB, em \u00e1reas t\u00e3o diversas como processamento de imagens, bioinform\u00e1tica, econometria e sistemas de controle.\n",
      "\n",
      "As duas principais desvatangens de MATLAB s\u00e3o (i) seu elevado custo, o que torna a redistribui\u00e7\u00e3o de c\u00f3digo entre pesquisadores mais dif\u00edcil, comprometendo a reprodutibilidade dos experimentos, e (ii) sua linguagem, bastante limitada frente a linguagens de programa\u00e7\u00e3o como Fortran, C ou Python. "
     ]
    },
    {
     "cell_type": "markdown",
     "metadata": {
      "slideshow": {
       "slide_type": "skip"
      }
     },
     "source": [
      "#### Pontos-chave"
     ]
    },
    {
     "cell_type": "markdown",
     "metadata": {
      "slideshow": {
       "slide_type": "slide"
      }
     },
     "source": [
      "* Vantagens:\n",
      "    * rica cole\u00e7\u00e3o de rotinas cient\u00edficas;\n",
      "    * ambiente de computa\u00e7\u00e3o interativo;\n",
      "    * suporte comercial.\n",
      "* Desvantagens:\n",
      "    * n\u00e3o \u00e9 livre ou gratuita e\n",
      "    * linguagem \u00e9 pobre e restritiva para usu\u00e1rios mais avan\u00e7ados."
     ]
    },
    {
     "cell_type": "markdown",
     "metadata": {
      "slideshow": {
       "slide_type": "slide"
      }
     },
     "source": [
      "### Scilab, Octave e R"
     ]
    },
    {
     "cell_type": "markdown",
     "metadata": {
      "slideshow": {
       "slide_type": "notes"
      }
     },
     "source": [
      "Scilab e Octave s\u00e3o ambientes de computa\u00e7\u00e3o cient\u00edfica de c\u00f3digo aberto que surgiram como alternativas ao MATLAB. R \u00e9 um ambiente para computa\u00e7\u00e3o estat\u00edstica que surgiu como uma alternativa ao ambiente S, tornando-se uma das plataformas mais populares atualmente em estat\u00edstica e an\u00e1lise de dados."
     ]
    },
    {
     "cell_type": "markdown",
     "metadata": {
      "slideshow": {
       "slide_type": "skip"
      }
     },
     "source": [
      "#### Pontos-chave"
     ]
    },
    {
     "cell_type": "markdown",
     "metadata": {
      "slideshow": {
       "slide_type": "slide"
      }
     },
     "source": [
      "* Vantagens:\n",
      "    * c\u00f3digo aberto;\n",
      "    * bastante avan\u00e7adas em certos dom\u00ednios.\n",
      "        * *Exemplo*: R para estat\u00edstica\n",
      "* Desvantagens:\n",
      "    * menos recursos dispon\u00edveis se comparadas ao MATLAB;\n",
      "    * linguagem pobre e restritiva no caso dos clones MATLAB (Scilab e Octave)."
     ]
    },
    {
     "cell_type": "markdown",
     "metadata": {
      "slideshow": {
       "slide_type": "slide"
      }
     },
     "source": [
      "### Python"
     ]
    },
    {
     "cell_type": "markdown",
     "metadata": {
      "slideshow": {
       "slide_type": "notes"
      }
     },
     "source": [
      "Nos \u00faltimos anos, um ambiente para computa\u00e7\u00e3o cient\u00edfica emergiu em torno da linguagem de  programa\u00e7\u00e3o Python. Seu desenvolvimento pode ser tra\u00e7ado a partir do desenvolvimento do m\u00f3dulo Numarray, criado pela comunidade de astrof\u00edsica para a representa\u00e7\u00e3o de matrices $n$-dimensionais de modo similar a ambientes como MATLAB e Octave. Seu sucessor, o m\u00f3dulo **NumPy**, tornou-se o padr\u00e3o para a representa\u00e7\u00e3o de dados na forma de *arrays* $n$-dimensionais em Python. Originou-se da\u00ed uma pilha de software (*software stack*) dedicada \u00e0 computa\u00e7\u00e3o cient\u00edfica em Python, a **SciPy Stack**, bem como uma comunidade dedicada de desenvolvedores, que se reunem regularmente em confer\u00eancias *SciPy* em todo o mundo.\n",
      "\n",
      "Uma das principais vantagens do ambiente SciPy \u00e9 o uso da linguagem Python. Clara e elegante, a linguagem n\u00e3o tem uma curva \u00edngreme de aprendizado como C ou Fortran. Recursos avan\u00e7ados como gerenciamento autom\u00e1tico de mem\u00f3ria (*garbage collection*), tipagem din\u00e2mica e introspec\u00e7\u00e3o facilitam e aceleram o desenvolvimento  de c\u00f3digo. Expressiva e madura, Python \u00e9 uma linguagem usada no desenvolvimento de produtos e servi\u00e7os no mundo todo e conta com uma extensa lista de m\u00f3dulos para programa\u00e7\u00e3o de prop\u00f3sito geral, al\u00e9m dos componentes de computa\u00e7\u00e3o cient\u00edfica."
     ]
    },
    {
     "cell_type": "markdown",
     "metadata": {
      "slideshow": {
       "slide_type": "skip"
      }
     },
     "source": [
      "#### Pontos-chave"
     ]
    },
    {
     "cell_type": "markdown",
     "metadata": {
      "slideshow": {
       "slide_type": "slide"
      }
     },
     "source": [
      "* Vantagens:\n",
      "    * bibliotecas cient\u00edficas muito ricas;\n",
      "    * linguagem poderosa e elegante;\n",
      "    * diversas bibliotecas dedicadas a dom\u00ednios al\u00e9m da computa\u00e7\u00e3o cient\u00edfica:\n",
      "        * servidores Web,\n",
      "        * rede,\n",
      "        * bancos de dados,\n",
      "        * persist\u00eancia de dados\n",
      "    * c\u00f3digo-aberto;\n",
      "    * uma **gigantesca comunidade de usu\u00e1rios**\n",
      "* Desvantagens:\n",
      "    * carece de alguns algoritmos que podem ser encontrados em *toolboxes* especializadas do MATLAB."
     ]
    },
    {
     "cell_type": "markdown",
     "metadata": {
      "slideshow": {
       "slide_type": "slide"
      }
     },
     "source": [
      "## Componentes de um ambiente Python para computa\u00e7\u00e3o cient\u00edfica"
     ]
    },
    {
     "cell_type": "markdown",
     "metadata": {
      "slideshow": {
       "slide_type": "notes"
      }
     },
     "source": [
      "A comunidade SciPy assume que h\u00e1 um **n\u00facleo duro** (*core*) de m\u00f3dulos que constitui um ambiente SciPy de computa\u00e7\u00e3o cient\u00edfica. Fazem parte de tal n\u00facleo a pr\u00f3pria **linguagem Python**, o m\u00f3dulo **NumPy** para *arrays* $n$-dimensionais, o interpretador de comandos **IPython** e a **biblioteca SciPy**, um conjunto de m\u00f3dulos que prov\u00ea uma vasta gama de rotinas cient\u00edficas em estat\u00edstica, otimiza\u00e7\u00e3o, interpola\u00e7\u00e3o e algebra linear, entre outras. Tamb\u00e9m fazem parte do n\u00facleo os m\u00f3dulos **Matplotlib** e **SymPy**. Matplotlib  fornece rotinas para a produ\u00e7\u00e3o de gr\u00e1ficos 2D e 3D para visualiza\u00e7\u00e3o cient\u00edfica. SymPy \u00e9 um sistema para **\u00e1lgebra computacional** que fornece ferramentas para c\u00e1lculo diferencial e integral, manipula\u00e7\u00e3o de polin\u00f4mios e equa\u00e7\u00f5es diferenciais, entre outras.\n",
      "\n",
      "Diversos outros m\u00f3dulos cient\u00edficos est\u00e3o dispon\u00edveis fora do *core*. Um dos mais populares \u00e9 o m\u00f3dulo de aprendizado de m\u00e1quina **Scikit-learn**. Tendo seu desenvolvimento liderado por pesquisadores ligado ao INRIA, Fran\u00e7a, Scikit-learn prov\u00ea ferramentas em regress\u00e3o, classifica\u00e7\u00e3o, *clustering*, redu\u00e7\u00e3o de dimensionalidade e valida\u00e7\u00e3o cruzada (*cross-validation*).\n",
      "\n",
      "O presente trabalho ir\u00e1 introduzir ao leitor a linguagem Python, o ambiente IPython e os m\u00f3dulos NumPy, SciPy e Matplotlib. Por serem m\u00f3dulos fundamentais da computa\u00e7\u00e3o cient\u00edfica em Python, muito pode ser realizado apenas com tais componentes e a compreens\u00e3o de sua funcionalidade b\u00e1sica auxilia no trabalho com outros m\u00f3dulos, como a Scikit-learn."
     ]
    },
    {
     "cell_type": "markdown",
     "metadata": {
      "slideshow": {
       "slide_type": "skip"
      }
     },
     "source": [
      "#### Pontos-chave"
     ]
    },
    {
     "cell_type": "markdown",
     "metadata": {
      "slideshow": {
       "slide_type": "slide"
      }
     },
     "source": [
      "* **IPython** - interpretador de comandos\n",
      "* **Numpy** - fornece uma implementa\u00e7\u00e3o eficiente para *arrays N-dimensionais*\n",
      "* **Biblioteca SciPy** - diversas rotinas cientificas, entre elas:\n",
      "    * otimiza\u00e7\u00e3o,\n",
      "    * estat\u00edstica,\n",
      "    * interpola\u00e7\u00e3o e \n",
      "    * \u00e1lgebra linear.\n",
      "* **Matplotlib** - visualiza\u00e7\u00e3o cient\u00edfica (*plotting*)\n",
      "* **SymPy** - computa\u00e7\u00e3o simb\u00f3lica\n",
      "\n",
      "* **Scikit-learn** - aprendizado de m\u00e1quina (*machine learning*)\n",
      "* **Mayavi** - visualiza\u00e7\u00e3o de dados tridimensionais"
     ]
    },
    {
     "cell_type": "markdown",
     "metadata": {
      "slideshow": {
       "slide_type": "slide"
      }
     },
     "source": [
      "## Instala\u00e7\u00e3o do ambiente de computa\u00e7\u00e3o cient\u00edfica Python\n",
      "\n",
      "### Sistemas Windows, Mac e Linux\n",
      "\n",
      "Usu\u00e1rios de sistemas operacionais Microsoft Windows, Apple Mac e Linux podem considerar pacotes de instala\u00e7\u00e3o como o [**Anaconda**](http://continuum.io/downloads) da Continuum Analytics ou o [**Canopy**](https://store.enthought.com/downloads/) da Enthought, Inc. Outra alternativa \u00e9 a instala\u00e7\u00e3o individual de cada um dos pacotes da *SciPy Stack*, de acordo com as [instru\u00e7\u00f5es atualizadas](http://www.scipy.org/install.html) encontras em SciPy.org."
     ]
    },
    {
     "cell_type": "markdown",
     "metadata": {
      "slideshow": {
       "slide_type": "slide"
      }
     },
     "source": [
      "### Pacotes Linux\n",
      "\n",
      "Usu\u00e1rios Linux podem preferir a utiliza\u00e7\u00e3o do sistema gerenciador de pacotes de sua distribui\u00e7\u00e3o. Por exemplo, em sistemas Debian/Ubuntu a insta\u00e7\u00e3o pode ser realizada com o uso do sistema `apt`:\n",
      "\n",
      "    $ sudo apt-get install ipython ipython-qtconsole ipython-notebook\n",
      "        \n",
      "    $ sudo apt-get install python-scipy python-matplotlib python-matplotlib-data"
     ]
    },
    {
     "cell_type": "markdown",
     "metadata": {
      "slideshow": {
       "slide_type": "fragment"
      }
     },
     "source": [
      "### Instala\u00e7\u00e3o com a ferramenta `pip`\n",
      "\n",
      "Usu\u00e1rios que j\u00e1 tenham um ambiente Python funcional em seus sistemas podem optar pela ferramenta `pip` para instalar e gerenciar os m\u00f3dulos de computa\u00e7\u00e3o cient\u00edfica:\n",
      "\n",
      "    $ pip install ipython scipy matplotlib"
     ]
    },
    {
     "cell_type": "markdown",
     "metadata": {
      "slideshow": {
       "slide_type": "notes"
      }
     },
     "source": [
      "## Componentes e materiais\n",
      "\n",
      "O restante do texto organiza-se da seguinte forma. A Se\u00e7\u00e3o *A Linguagem Python* apresenta rudimentos m\u00ednimos da linguagem necess\u00e1rios ao pesquisador. A Se\u00e7\u00e3o *IPython* apresenta o interpretador IPython como ambiente interativo para computa\u00e7\u00e3o e as vantagens de sua funcionalidade *notebook* para pesquisa. A Se\u00e7\u00e3o *NumPy* apresenta a representa\u00e7\u00e3o utilizada para matrizes de dados (arrays multidimensionais). A Se\u00e7\u00e3o *Matplotlib* apresenta recursos de *plotting* para visualiza\u00e7\u00e3o de dados. Finalmente, a Se\u00e7\u00e3o *SciPy* introduz alguns dos componentes da biblioteca cient\u00edfica *SciPy Library* e a Se\u00e7\u00e3o *Conclus\u00f5es* encerra o texto, apresentando mais refer\u00eancias e novas ferramentas promissoras no ambiente Python.\n",
      "\n",
      "O conte\u00fado deste texto, incluindo o c\u00f3digo fonte dos exemplos, pode ser obtido na forma de *IPython notebooks* na Web\u00b3.\n",
      "\n",
      "\u00b3 [https://github.com/thsant/scipy-intro](https://github.com/thsant/scipy-intro)"
     ]
    }
   ],
   "metadata": {}
  }
 ]
}